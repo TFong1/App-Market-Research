{
 "cells": [
  {
   "cell_type": "markdown",
   "metadata": {
    "collapsed": true
   },
   "source": [
    "# Chinook Database Analysis\n",
    "\n",
    "The [Chinook](https://github.com/lerocha/chinook-database) database contains information about a fictional digital music shop.\n",
    "\n",
    "This database contains information about music artists, songs, and albums from the Chinook digital music shop.  This database also contains information about it's customers, customers' purchases, and the store's employees."
   ]
  },
  {
   "cell_type": "code",
   "execution_count": 1,
   "metadata": {},
   "outputs": [],
   "source": [
    "import sqlite3\n",
    "import pandas as pd\n",
    "import matplotlib.pyplot as plt\n",
    "\n",
    "%matplotlib inline"
   ]
  },
  {
   "cell_type": "code",
   "execution_count": 2,
   "metadata": {},
   "outputs": [
    {
     "name": "stdout",
     "output_type": "stream",
     "text": [
      "              name   type\n",
      "0            album  table\n",
      "1           artist  table\n",
      "2         customer  table\n",
      "3         employee  table\n",
      "4            genre  table\n",
      "5          invoice  table\n",
      "6     invoice_line  table\n",
      "7       media_type  table\n",
      "8         playlist  table\n",
      "9   playlist_track  table\n",
      "10           track  table\n",
      "11  customer_sales   view\n"
     ]
    }
   ],
   "source": [
    "# Take a SQL query as an argument and returns a\n",
    "# pandas dataframe of that query\n",
    "def run_query(query):\n",
    "    with sqlite3.connect(\"chinook.db\") as conn:\n",
    "        return pd.read_sql(query, conn)\n",
    "    \n",
    "# Take a SQL command as an argument and executes it\n",
    "# using the sqlite module\n",
    "def run_command(cmd):\n",
    "    with sqlite3.connect(\"chinook.db\") as conn:\n",
    "        # autocommit any changes\n",
    "        conn.isolation_level = None\n",
    "        conn.execute(cmd)\n",
    "\n",
    "# call the run_query() function to return a list of\n",
    "# all tables and views in the database.\n",
    "def show_tables():\n",
    "    sql = \"\"\"\n",
    "        SELECT\n",
    "            name,\n",
    "            type\n",
    "        FROM sqlite_master\n",
    "        WHERE type IN (\"table\", \"view\");\n",
    "    \"\"\"\n",
    "    print(run_query(sql))\n",
    "    \n",
    "show_tables()"
   ]
  },
  {
   "cell_type": "markdown",
   "metadata": {
    "collapsed": true
   },
   "source": [
    "The Chinook database contains information about the artist, albums, artists, employees, purchases and specific songs available for purchase in the store.\n",
    "\n",
    "The following shows the database schema of the Chinook database:\n",
    "\n",
    "![Chinook schema](https://s3.amazonaws.com/dq-content/191/chinook-schema.svg)\n"
   ]
  },
  {
   "cell_type": "markdown",
   "metadata": {
    "collapsed": true
   },
   "source": [
    "## Adding Record Labels to Chinook\n",
    "\n",
    "The Chinook record store signed a deal with a record label.  We have been tasked to select three albums to be added to the record store from a list of four.  The artist's genres consist of Hip-Hop, Punk, Pop, and Blues.  We need to determine which three of these genres are the most popular/best selling.  We will only consider U.S. sales to start.\n",
    "\n",
    "Below, let's determine which genres are the best selling in our store:"
   ]
  },
  {
   "cell_type": "code",
   "execution_count": 3,
   "metadata": {},
   "outputs": [
    {
     "name": "stdout",
     "output_type": "stream",
     "text": [
      "            genre_name  tracks_sold  pct_tracks_sold\n",
      "0                 Rock          561         0.533777\n",
      "1   Alternative & Punk          130         0.123692\n",
      "2                Metal          124         0.117983\n",
      "3             R&B/Soul           53         0.050428\n",
      "4                Blues           36         0.034253\n",
      "5          Alternative           35         0.033302\n",
      "6                  Pop           22         0.020932\n",
      "7                Latin           22         0.020932\n",
      "8          Hip Hop/Rap           20         0.019029\n",
      "9                 Jazz           14         0.013321\n",
      "10      Easy Listening           13         0.012369\n",
      "11              Reggae            6         0.005709\n",
      "12   Electronica/Dance            5         0.004757\n",
      "13           Classical            4         0.003806\n",
      "14         Heavy Metal            3         0.002854\n",
      "15          Soundtrack            2         0.001903\n",
      "16            TV Shows            1         0.000951\n"
     ]
    }
   ],
   "source": [
    "sql = \"\"\"\n",
    "    WITH tracks_sold_usa AS (\n",
    "        SELECT il.track_id\n",
    "        FROM invoice_line AS il\n",
    "        INNER JOIN invoice AS i ON i.invoice_id = il.invoice_id\n",
    "        INNER JOIN customer AS c ON c.customer_id = i.customer_id\n",
    "        WHERE c.country = 'USA'\n",
    "    )\n",
    "    \n",
    "    SELECT\n",
    "        g.name AS genre_name,\n",
    "        COUNT(t.track_id) AS tracks_sold,\n",
    "        CAST(COUNT(usa.track_id) AS float) / (SELECT COUNT(*) FROM tracks_sold_usa) AS pct_tracks_sold        \n",
    "    FROM tracks_sold_usa AS usa\n",
    "    INNER JOIN track AS t ON t.track_id = usa.track_id\n",
    "    INNER JOIN genre AS g ON g.genre_id = t.genre_id\n",
    "    GROUP BY 1\n",
    "    ORDER BY 2 DESC\n",
    "\"\"\"\n",
    "\n",
    "genres_to_purchase = run_query(sql)\n",
    "print(genres_to_purchase)"
   ]
  },
  {
   "cell_type": "markdown",
   "metadata": {
    "collapsed": true
   },
   "source": [
    "Let's plot the data to get a visual representation of the situation:"
   ]
  },
  {
   "cell_type": "code",
   "execution_count": 4,
   "metadata": {},
   "outputs": [
    {
     "data": {
      "image/png": "[encoded data removed]",
      "text/plain": [
       "<Figure size 432x288 with 1 Axes>"
      ]
     },
     "metadata": {
      "needs_background": "light"
     },
     "output_type": "display_data"
    }
   ],
   "source": [
    "genres_to_purchase.set_index(\"genre_name\", inplace=True, drop=True)\n",
    "\n",
    "genres_to_purchase[\"tracks_sold\"].plot.barh(\n",
    "    title=\"Top Selling Music Genres in the USA\",\n",
    "    xlim=(0, 625),\n",
    "    colormap=plt.cm.Accent\n",
    ")\n",
    "\n",
    "plt.ylabel(\"\")\n",
    "\n",
    "for i,label in enumerate(list(genres_to_purchase.index)):\n",
    "    score = genres_to_purchase.loc[label, \"tracks_sold\"]\n",
    "    label = (genres_to_purchase.loc[label, \"pct_tracks_sold\"] * 100).astype(int).astype(str) + \"%\"\n",
    "    plt.annotate(str(label), (score + 10, i - 0.15))\n",
    "\n",
    "plt.show()"
   ]
  },
  {
   "cell_type": "markdown",
   "metadata": {
    "collapsed": true
   },
   "source": [
    "Seems like the three top genres in our list of genres are Punk, Blues, and Pop.  However, Pop and Hip-Hop are close, so we can't go wrong with either genre for our third pick.\n",
    "\n",
    "It may also help sales if we can procure and sell something in the Rock genre."
   ]
  },
  {
   "cell_type": "markdown",
   "metadata": {
    "collapsed": true
   },
   "source": [
    "## Effective Sales Agents\n",
    "\n",
    "We have been asked to analyze the sales performance of our employees to find out who are the top performers."
   ]
  },
  {
   "cell_type": "code",
   "execution_count": 5,
   "metadata": {},
   "outputs": [
    {
     "name": "stdout",
     "output_type": "stream",
     "text": [
      "        employee            hire_date  total_sales\n",
      "0   Jane Peacock  2017-04-01 00:00:00      1731.51\n",
      "1  Steve Johnson  2017-10-17 00:00:00      1393.92\n",
      "2  Margaret Park  2017-05-03 00:00:00      1584.00\n"
     ]
    }
   ],
   "source": [
    "sql = \"\"\"\n",
    "    SELECT e.first_name || \" \" || e.last_name AS employee, e.hire_date, SUM(i.total) AS total_sales\n",
    "    FROM employee AS e\n",
    "    INNER JOIN customer AS c ON c.support_rep_id = e.employee_id\n",
    "    INNER JOIN invoice AS i ON i.customer_id = c.customer_id\n",
    "    GROUP BY e.employee_id\n",
    "    ORDER BY i.total DESC\n",
    "\"\"\"\n",
    "\n",
    "employee_sales = run_query(sql)\n",
    "print(employee_sales)"
   ]
  },
  {
   "cell_type": "markdown",
   "metadata": {},
   "source": [
    "We have three employees out of the seven who made all of our sales.\n",
    "\n",
    "Let's visualize our data:"
   ]
  },
  {
   "cell_type": "code",
   "execution_count": 6,
   "metadata": {},
   "outputs": [
    {
     "data": {
      "image/png": "[encoded data removed]",
      "text/plain": [
       "<Figure size 432x288 with 1 Axes>"
      ]
     },
     "metadata": {
      "needs_background": "light"
     },
     "output_type": "display_data"
    }
   ],
   "source": [
    "employee_sales.set_index(\"employee\", inplace=True, drop=True)\n",
    "employee_sales.sort_values(\"total_sales\", inplace=True)\n",
    "\n",
    "employee_sales[\"total_sales\"].plot.barh(\n",
    "    title=\"Employee Sales\",\n",
    "    xlim=(0, 2000),\n",
    "    colormap=plt.cm.Accent\n",
    ")\n",
    "\n",
    "plt.ylabel(\"\")\n",
    "\n",
    "plt.show()"
   ]
  },
  {
   "cell_type": "markdown",
   "metadata": {},
   "source": [
    "There seems to be a correlation between hire date and the amount of sales produced by an employee.  Jane Peacock was hired before all the other employees and has the most sales."
   ]
  },
  {
   "cell_type": "markdown",
   "metadata": {},
   "source": [
    "## Comparison of Sales by Country\n",
    "\n",
    "We have been asked to prepare an analysis for each of teh following for each country in our sales database:\n",
    "\n",
    "* total number of customers\n",
    "* total value of sales\n",
    "* average value of sales per customer\n",
    "* average order value\n",
    "\n",
    "First, we'll create a view that joins the customer, invoice, and invoice_line tables containing customer information (including country) and sales numbers."
   ]
  },
  {
   "cell_type": "code",
   "execution_count": 7,
   "metadata": {},
   "outputs": [],
   "source": [
    "customer_sales = \"\"\"\n",
    "    CREATE VIEW customer_sales AS\n",
    "        SELECT \n",
    "            CASE \n",
    "                WHEN (\n",
    "                    SELECT COUNT(*)\n",
    "                    FROM customer\n",
    "                    WHERE country = c.country\n",
    "                    ) = 1 THEN \"Other\"\n",
    "                ELSE c.country\n",
    "            END AS country,\n",
    "            c.customer_id,\n",
    "            i.invoice_id,\n",
    "            il.unit_price\n",
    "        FROM customer AS c\n",
    "        INNER JOIN invoice AS i\n",
    "        ON c.customer_id = i.customer_id\n",
    "        INNER JOIN invoice_line AS il\n",
    "        ON i.invoice_id = il.invoice_id\n",
    "        ;\n",
    "\"\"\"\n",
    "\n",
    "run_command(\"DROP VIEW IF EXISTS customer_sales;\")\n",
    "run_command(customer_sales)"
   ]
  },
  {
   "cell_type": "markdown",
   "metadata": {
    "collapsed": true
   },
   "source": [
    "Now let's create the query to calculate the values we are looking for:"
   ]
  },
  {
   "cell_type": "code",
   "execution_count": 8,
   "metadata": {
    "scrolled": true
   },
   "outputs": [
    {
     "name": "stdout",
     "output_type": "stream",
     "text": [
      "          country  total_customers  total_sales  avg_value_sales_per_customer  \\\n",
      "0             USA               13      1040.49                     80.037692   \n",
      "1          Canada                8       535.59                     66.948750   \n",
      "2          Brazil                5       427.68                     85.536000   \n",
      "3          France                5       389.07                     77.814000   \n",
      "4         Germany                4       334.62                     83.655000   \n",
      "5  Czech Republic                2       273.24                    136.620000   \n",
      "6  United Kingdom                3       245.52                     81.840000   \n",
      "7        Portugal                2       185.13                     92.565000   \n",
      "8           India                2       183.15                     91.575000   \n",
      "9           Other               15      1094.94                     72.996000   \n",
      "\n",
      "   avg_order_value  \n",
      "0         7.942672  \n",
      "1         7.047237  \n",
      "2         7.011148  \n",
      "3         7.781400  \n",
      "4         8.161463  \n",
      "5         9.108000  \n",
      "6         8.768571  \n",
      "7         6.383793  \n",
      "8         8.721429  \n",
      "9         7.448571  \n"
     ]
    }
   ],
   "source": [
    "query = \"\"\"\n",
    "    SELECT\n",
    "        country,\n",
    "        COUNT(DISTINCT customer_id) AS total_customers,\n",
    "        SUM(unit_price) AS total_sales,\n",
    "        SUM(unit_price) / COUNT(DISTINCT customer_id) AS avg_value_sales_per_customer,\n",
    "        SUM(unit_price) / COUNT(DISTINCT invoice_id) AS avg_order_value\n",
    "    FROM \n",
    "        (\n",
    "          SELECT\n",
    "              cs.*,\n",
    "              CASE\n",
    "                  WHEN cs.country = \"Other\" THEN 1\n",
    "                  ELSE 0\n",
    "              END AS sort\n",
    "          FROM\n",
    "            customer_sales AS cs\n",
    "        )\n",
    "    GROUP BY country\n",
    "    ORDER BY sort ASC, total_sales DESC\n",
    "\"\"\"\n",
    "sales_info_by_country = run_query(query)\n",
    "print(sales_info_by_country)"
   ]
  },
  {
   "cell_type": "markdown",
   "metadata": {
    "collapsed": true
   },
   "source": [
    "### Analysis of Total Number of Customers by Country\n",
    "\n"
   ]
  },
  {
   "cell_type": "code",
   "execution_count": 9,
   "metadata": {},
   "outputs": [
    {
     "data": {
      "image/png": "[encoded data removed]",
      "text/plain": [
       "<Figure size 432x288 with 1 Axes>"
      ]
     },
     "metadata": {
      "needs_background": "light"
     },
     "output_type": "display_data"
    }
   ],
   "source": [
    "sales_info_by_country.set_index(\"country\", inplace=True, drop=True)\n",
    "sales_info_by_country.sort_values(\"total_customers\", inplace=True)\n",
    "sales_info_by_country[1:9][\"total_customers\"].plot.barh(\n",
    "    title=\"Total Number of Customers by Country\"\n",
    ")\n",
    "\n",
    "plt.ylabel(\"\")\n",
    "plt.xlabel(\"Total Number of Customers\")\n",
    "\n",
    "plt.show()"
   ]
  },
  {
   "cell_type": "markdown",
   "metadata": {
    "collapsed": true
   },
   "source": [
    "Based on this chart, it seems as though the United States has the most potential as far as number of customers.  With Canada as another possible target market."
   ]
  },
  {
   "cell_type": "markdown",
   "metadata": {
    "collapsed": true
   },
   "source": [
    "### Analysis of Total Value of Sales by Country"
   ]
  },
  {
   "cell_type": "code",
   "execution_count": 10,
   "metadata": {},
   "outputs": [
    {
     "data": {
      "image/png": "[encoded data removed]",
      "text/plain": [
       "<Figure size 432x288 with 1 Axes>"
      ]
     },
     "metadata": {
      "needs_background": "light"
     },
     "output_type": "display_data"
    }
   ],
   "source": [
    "sales_info_by_country.sort_values(\"total_sales\", inplace=True)\n",
    "sales_info_by_country[1:9][\"total_sales\"].plot.barh(\n",
    "    title=\"Total Value of Sales by Country\"\n",
    ")\n",
    "\n",
    "plt.ylabel(\"\")\n",
    "plt.xlabel(\"Total Sales in Dollars\")\n",
    "\n",
    "plt.show()"
   ]
  },
  {
   "cell_type": "markdown",
   "metadata": {},
   "source": [
    "This graph supports our previous analysis of the number of potential customers.  It makes sense that the two countries (USA, Canada) with the most customers would generate the most sales."
   ]
  },
  {
   "cell_type": "markdown",
   "metadata": {},
   "source": [
    "### Analysis of Average Value of Sales per Customer"
   ]
  },
  {
   "cell_type": "code",
   "execution_count": 11,
   "metadata": {},
   "outputs": [
    {
     "data": {
      "image/png": "[encoded data removed]",
      "text/plain": [
       "<Figure size 432x288 with 1 Axes>"
      ]
     },
     "metadata": {
      "needs_background": "light"
     },
     "output_type": "display_data"
    }
   ],
   "source": [
    "sales_info_by_country.sort_values(\"avg_value_sales_per_customer\", inplace=True)\n",
    "sales_info_by_country[\"avg_value_sales_per_customer\"].plot.barh(\n",
    "    title=\"Average Value of Sales per Customer by Country\"\n",
    ")\n",
    "\n",
    "plt.ylabel(\"\")\n",
    "plt.xlabel(\"Average Value of Sales in Dollars\")\n",
    "\n",
    "plt.show()"
   ]
  },
  {
   "cell_type": "markdown",
   "metadata": {},
   "source": [
    "According to this graph, the average sales per customer is highest in the Czech Republic, followed by India and Portugal.  This may be an indication that, although with fewer customers, they may be willing to spend more in our store than in other countries."
   ]
  },
  {
   "cell_type": "markdown",
   "metadata": {},
   "source": [
    "### Analysis of Average Order Value"
   ]
  },
  {
   "cell_type": "code",
   "execution_count": 12,
   "metadata": {},
   "outputs": [
    {
     "data": {
      "image/png": "[encoded data removed]",
      "text/plain": [
       "<Figure size 432x288 with 1 Axes>"
      ]
     },
     "metadata": {
      "needs_background": "light"
     },
     "output_type": "display_data"
    }
   ],
   "source": [
    "sales_info_by_country.sort_values(\"avg_order_value\", inplace=True)\n",
    "sales_info_by_country[\"avg_order_value\"].plot.barh(\n",
    "    title=\"Average Order Value per Country\"\n",
    ")\n",
    "\n",
    "plt.ylabel(\"\")\n",
    "plt.xlabel(\"Average Order Value in Dollars\")\n",
    "\n",
    "plt.show()"
   ]
  },
  {
   "cell_type": "markdown",
   "metadata": {},
   "source": [
    "The average amount spent per order in the Czech Republic, U.K., and India.  Based on this information, it may be worth considering these three countries as they are willing to spend more per purchase than any of the other countries."
   ]
  },
  {
   "cell_type": "markdown",
   "metadata": {},
   "source": [
    "## Purchase Individual Tracks vs Entire Album\n",
    "\n",
    "Management is considering whether or not allowing customers to purchase the most popular tracks vs entire albums from record companies to save money.  When customers purchase albums, they are charged the same price as if they had purchased each of those tracks separately.\n",
    "\n",
    "We need to consider what the effects are to changing the purchase strategy to only allowing the customer to purchase tracks.\n",
    "\n",
    "We'll start of by providing a summary of the number and percentage of invoices that involve either purchasing an entire album vs. purchasing individual tracks from an album."
   ]
  },
  {
   "cell_type": "code",
   "execution_count": 17,
   "metadata": {},
   "outputs": [
    {
     "data": {
      "text/html": [
       "<div>\n",
       "<style scoped>\n",
       "    .dataframe tbody tr th:only-of-type {\n",
       "        vertical-align: middle;\n",
       "    }\n",
       "\n",
       "    .dataframe tbody tr th {\n",
       "        vertical-align: top;\n",
       "    }\n",
       "\n",
       "    .dataframe thead th {\n",
       "        text-align: right;\n",
       "    }\n",
       "</style>\n",
       "<table border=\"1\" class=\"dataframe\">\n",
       "  <thead>\n",
       "    <tr style=\"text-align: right;\">\n",
       "      <th></th>\n",
       "      <th>album_purchased</th>\n",
       "      <th>num_invoices</th>\n",
       "      <th>pct_invoices</th>\n",
       "    </tr>\n",
       "  </thead>\n",
       "  <tbody>\n",
       "    <tr>\n",
       "      <th>0</th>\n",
       "      <td>no</td>\n",
       "      <td>500</td>\n",
       "      <td>0.814332</td>\n",
       "    </tr>\n",
       "    <tr>\n",
       "      <th>1</th>\n",
       "      <td>yes</td>\n",
       "      <td>114</td>\n",
       "      <td>0.185668</td>\n",
       "    </tr>\n",
       "  </tbody>\n",
       "</table>\n",
       "</div>"
      ],
      "text/plain": [
       "  album_purchased  num_invoices  pct_invoices\n",
       "0              no           500      0.814332\n",
       "1             yes           114      0.185668"
      ]
     },
     "execution_count": 17,
     "metadata": {},
     "output_type": "execute_result"
    }
   ],
   "source": [
    "indiv_vs_album = \"\"\"\n",
    "    WITH invoice_first_track AS (\n",
    "        SELECT\n",
    "            il.invoice_id AS invoice_id,\n",
    "            MIN(il.track_id) AS first_track_id\n",
    "        FROM invoice_line AS il\n",
    "        GROUP BY 1\n",
    "    )\n",
    "    \n",
    "    SELECT\n",
    "        album_purchased,\n",
    "        COUNT(invoice_id) AS num_invoices,\n",
    "        CAST(COUNT(invoice_id) AS FLOAT) / (SELECT COUNT(*) FROM invoice) AS pct_invoices\n",
    "    FROM (\n",
    "        SELECT\n",
    "            ifs.*,\n",
    "            CASE \n",
    "                WHEN (\n",
    "                    /*\n",
    "                        Select all tracks from the album of the \n",
    "                        first track purchased in the invoice.\n",
    "                    */\n",
    "                    SELECT t.track_id\n",
    "                    FROM track AS t\n",
    "                    WHERE t.album_id = (\n",
    "                        SELECT t2.album_id\n",
    "                        FROM track AS t2\n",
    "                        WHERE t2.track_id = ifs.first_track_id\n",
    "                    )\n",
    "                    EXCEPT\n",
    "                    /*\n",
    "                        Select all the tracks purchased for a\n",
    "                        particular invoice.\n",
    "                    */\n",
    "                    SELECT il2.track_id\n",
    "                    FROM invoice_line AS il2\n",
    "                    WHERE il2.invoice_id = ifs.invoice_id\n",
    "                ) IS NULL \n",
    "                AND (\n",
    "                    SELECT il2.track_id\n",
    "                    FROM invoice_line AS il2\n",
    "                    WHERE il2.invoice_id = ifs.invoice_id\n",
    "\n",
    "                    EXCEPT\n",
    "\n",
    "                    SELECT t.track_id\n",
    "                    FROM track AS t\n",
    "                    WHERE t.album_id = (\n",
    "                        SELECT t2.album_id\n",
    "                        FROM track AS t2\n",
    "                        WHERE t2.track_id = ifs.first_track_id\n",
    "                        )\n",
    "                ) IS NULL\n",
    "                THEN \"yes\"\n",
    "                ELSE \"no\"\n",
    "            END AS \"album_purchased\"\n",
    "        FROM invoice_first_track AS ifs\n",
    "    )\n",
    "    GROUP BY album_purchased;\n",
    "\"\"\"\n",
    "\n",
    "run_query(indiv_vs_album)"
   ]
  },
  {
   "cell_type": "markdown",
   "metadata": {
    "collapsed": true
   },
   "source": [
    "### Conclusion\n",
    "\n",
    "Based on the above numbers, album purchases account for 18.6% of the music sales.  We wouldn't recommend only selling tracks by themselves as it could potentially taking away approximately one-fifth of sales."
   ]
  }
 ],
 "metadata": {
  "kernelspec": {
   "display_name": "Python 3",
   "language": "python",
   "name": "python3"
  },
  "language_info": {
   "codemirror_mode": {
    "name": "ipython",
    "version": 3
   },
   "file_extension": ".py",
   "mimetype": "text/x-python",
   "name": "python",
   "nbconvert_exporter": "python",
   "pygments_lexer": "ipython3",
   "version": "3.8.1"
  }
 },
 "nbformat": 4,
 "nbformat_minor": 2
}
