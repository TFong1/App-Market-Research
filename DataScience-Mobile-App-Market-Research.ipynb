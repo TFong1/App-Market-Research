{
 "cells": [
  {
   "cell_type": "markdown",
   "metadata": {
    "collapsed": true
   },
   "source": [
    "# Mobile Application Market Research Project\n",
    "\n",
    "The ACME Corporation is seeking to improve our mobile applications to engage better with our customers.  The goal of this project is to find a mobile application profile that will attract more customers and make the app more profitable.  We are working as a data science consultant assisting the ACME app developers make data-driven decisions regarding what types of apps they should be building.\n",
    "\n",
    "ACME only builds apps that are free to install with their main source of revenue from in-app ads.  The number of users reflects how much revenue is generated from a particular app.  By analyzing how their users engage with apps, we can use this information to attract more customers.  \n",
    "\n",
    "## Obtaining the Data\n",
    "\n",
    "We have chosen two of the most popular mobile app platforms to do research on, Google Play and Apple's App Store.  As of September 2018, there were approximately 2 million iOS apps in Apple's App Store and 2.1 million Android apps in the Google Play Store.  Since compiling all the data for both of these platforms would take a tremendous amount of time and effort, we have chosen to analyze only a sample of data.  We have also decided not to collect the data ourselves because it would cost a significant amount of additional resources.  We are deriving the basis of our analysis from the following sources:\n",
    "\n",
    "   * A [dataset](https://www.kaggle.com/lava18/google-play-store-apps/home) from approximately 10,000 Android apps from the Google Play store.\n",
    "   * A [dataset](https://www.kaggle.com/ramamet4/app-store-apple-data-set-10k-apps/home) from approximately 7,200 iOS apps from Apple's App Store.\n",
    "\n",
    "We'll begin by open both data sets and exploring how the data is formatted for a small sample of the data."
   ]
  },
  {
   "cell_type": "code",
   "execution_count": 1,
   "metadata": {},
   "outputs": [],
   "source": [
    "from csv import reader\n",
    "\n",
    "def explore_data(dataset, start, end, rows_and_columns=False):\n",
    "    dataset_slice = dataset[start:end]\n",
    "    \n",
    "    for row in dataset_slice:\n",
    "        print(row)\n",
    "        print(\"\\n\")\n",
    "    \n",
    "    if rows_and_columns:\n",
    "        print(\"Number of rows:\", len(dataset))\n",
    "        print(\"Numer of columns:\", len(dataset[0]))"
   ]
  },
  {
   "cell_type": "markdown",
   "metadata": {},
   "source": [
    "The explore_data() function takes a dataset and displays a sample of the data as defined by the boundaries specified by the starting and ending indices.  The rows_and_columns switch displays the header fields along with the sample data if specified \"True.\"\n",
    "\n",
    "### Apple App Store Data Fields"
   ]
  },
  {
   "cell_type": "code",
   "execution_count": 2,
   "metadata": {},
   "outputs": [
    {
     "name": "stdout",
     "output_type": "stream",
     "text": [
      "['', 'id', 'track_name', 'size_bytes', 'currency', 'price', 'rating_count_tot', 'rating_count_ver', 'user_rating', 'user_rating_ver', 'ver', 'cont_rating', 'prime_genre', 'sup_devices.num', 'ipadSc_urls.num', 'lang.num', 'vpp_lic']\n",
      "['1', '281656475', 'PAC-MAN Premium', '100788224', 'USD', '3.99', '21292', '26', '4', '4.5', '6.3.5', '4+', 'Games', '38', '5', '10', '1']\n",
      "\n",
      "\n",
      "['2', '281796108', 'Evernote - stay organized', '158578688', 'USD', '0', '161065', '26', '4', '3.5', '8.2.2', '4+', 'Productivity', '37', '5', '23', '1']\n",
      "\n",
      "\n",
      "['3', '281940292', 'WeatherBug - Local Weather, Radar, Maps, Alerts', '100524032', 'USD', '0', '188583', '2822', '3.5', '4.5', '5.0.0', '4+', 'Weather', '37', '5', '3', '1']\n",
      "\n",
      "\n",
      "['4', '282614216', 'eBay: Best App to Buy, Sell, Save! Online Shopping', '128512000', 'USD', '0', '262241', '649', '4', '4.5', '5.10.0', '12+', 'Shopping', '37', '5', '9', '1']\n",
      "\n",
      "\n",
      "['5', '282935706', 'Bible', '92774400', 'USD', '0', '985920', '5320', '4.5', '5', '7.5.1', '4+', 'Reference', '37', '5', '45', '1']\n",
      "\n",
      "\n",
      "['6', '283619399', 'Shanghai Mahjong', '10485713', 'USD', '0.99', '8253', '5516', '4', '4', '1.8', '4+', 'Games', '47', '5', '1', '1']\n",
      "\n",
      "\n",
      "['7', '283646709', 'PayPal - Send and request money safely', '227795968', 'USD', '0', '119487', '879', '4', '4.5', '6.12.0', '4+', 'Finance', '37', '0', '19', '1']\n",
      "\n",
      "\n",
      "['8', '284035177', 'Pandora - Music & Radio', '130242560', 'USD', '0', '1126879', '3594', '4', '4.5', '8.4.1', '12+', 'Music', '37', '4', '1', '1']\n",
      "\n",
      "\n",
      "['9', '284666222', 'PCalc - The Best Calculator', '49250304', 'USD', '9.99', '1117', '4', '4.5', '5', '3.6.6', '4+', 'Utilities', '37', '5', '1', '1']\n",
      "\n",
      "\n",
      "['10', '284736660', 'Ms. PAC-MAN', '70023168', 'USD', '3.99', '7885', '40', '4', '4', '4.0.4', '4+', 'Games', '38', '0', '10', '1']\n",
      "\n",
      "\n",
      "Number of rows: 7198\n",
      "Numer of columns: 17\n"
     ]
    }
   ],
   "source": [
    "appleStoreData = list(reader(open(\"AppleStore.csv\", encoding=\"UTF8\")))\n",
    "print(appleStoreData[0])\n",
    "explore_data(appleStoreData, 1, 11, True)\n"
   ]
  },
  {
   "cell_type": "markdown",
   "metadata": {},
   "source": [
    "For the App Store, there are 7198 records with 16 data columns.\n",
    "\n",
    "The description of the fields:\n",
    "* id : numeric app id\n",
    "* track_name : app name\n",
    "* size_bytes : size (in bytes)\n",
    "* currency : currency type\n",
    "* price : price amount\n",
    "* rating_count_tot : user rating counts (for all versions)\n",
    "* rating_count_ver : user rating counts (for current version)\n",
    "* user_rating : average user rating (for all versions)\n",
    "* user_rating_ver : average user rating (for current version)\n",
    "* ver : app version number\n",
    "* cont_rating : content rating\n",
    "* prime_genre : primary genre\n",
    "* sup_devices.num = number of supported devices\n",
    "* ipadSc_urls.num = number of screenshots on app store page\n",
    "* lang.num = number of supported languages\n",
    "* vpp_lic = Vpp device-based licensing enabled\n",
    "\n",
    "During initial analysis of the data, the fields that may be of\n",
    "use for our analysis are:  user_rating, prime_genre, cont_rating, price.\n",
    "\n",
    "### Google Play Store Data Fields"
   ]
  },
  {
   "cell_type": "code",
   "execution_count": 3,
   "metadata": {},
   "outputs": [
    {
     "name": "stdout",
     "output_type": "stream",
     "text": [
      "['App', 'Category', 'Rating', 'Reviews', 'Size', 'Installs', 'Type', 'Price', 'Content Rating', 'Genres', 'Last Updated', 'Current Ver', 'Android Ver']\n",
      "['Photo Editor & Candy Camera & Grid & ScrapBook', 'ART_AND_DESIGN', '4.1', '159', '19M', '10,000+', 'Free', '0', 'Everyone', 'Art & Design', 'January 7, 2018', '1.0.0', '4.0.3 and up']\n",
      "\n",
      "\n",
      "['Coloring book moana', 'ART_AND_DESIGN', '3.9', '967', '14M', '500,000+', 'Free', '0', 'Everyone', 'Art & Design;Pretend Play', 'January 15, 2018', '2.0.0', '4.0.3 and up']\n",
      "\n",
      "\n",
      "['U Launcher Lite – FREE Live Cool Themes, Hide Apps', 'ART_AND_DESIGN', '4.7', '87510', '8.7M', '5,000,000+', 'Free', '0', 'Everyone', 'Art & Design', 'August 1, 2018', '1.2.4', '4.0.3 and up']\n",
      "\n",
      "\n",
      "['Sketch - Draw & Paint', 'ART_AND_DESIGN', '4.5', '215644', '25M', '50,000,000+', 'Free', '0', 'Teen', 'Art & Design', 'June 8, 2018', 'Varies with device', '4.2 and up']\n",
      "\n",
      "\n",
      "['Pixel Draw - Number Art Coloring Book', 'ART_AND_DESIGN', '4.3', '967', '2.8M', '100,000+', 'Free', '0', 'Everyone', 'Art & Design;Creativity', 'June 20, 2018', '1.1', '4.4 and up']\n",
      "\n",
      "\n",
      "['Paper flowers instructions', 'ART_AND_DESIGN', '4.4', '167', '5.6M', '50,000+', 'Free', '0', 'Everyone', 'Art & Design', 'March 26, 2017', '1.0', '2.3 and up']\n",
      "\n",
      "\n",
      "['Smoke Effect Photo Maker - Smoke Editor', 'ART_AND_DESIGN', '3.8', '178', '19M', '50,000+', 'Free', '0', 'Everyone', 'Art & Design', 'April 26, 2018', '1.1', '4.0.3 and up']\n",
      "\n",
      "\n",
      "['Infinite Painter', 'ART_AND_DESIGN', '4.1', '36815', '29M', '1,000,000+', 'Free', '0', 'Everyone', 'Art & Design', 'June 14, 2018', '6.1.61.1', '4.2 and up']\n",
      "\n",
      "\n",
      "['Garden Coloring Book', 'ART_AND_DESIGN', '4.4', '13791', '33M', '1,000,000+', 'Free', '0', 'Everyone', 'Art & Design', 'September 20, 2017', '2.9.2', '3.0 and up']\n",
      "\n",
      "\n",
      "['Kids Paint Free - Drawing Fun', 'ART_AND_DESIGN', '4.7', '121', '3.1M', '10,000+', 'Free', '0', 'Everyone', 'Art & Design;Creativity', 'July 3, 2018', '2.8', '4.0.3 and up']\n",
      "\n",
      "\n",
      "Number of rows: 10842\n",
      "Numer of columns: 13\n"
     ]
    }
   ],
   "source": [
    "googlePlayData = list(reader(open(\"GooglePlayStore.csv\", encoding=\"UTF8\")))\n",
    "print(googlePlayData[0])\n",
    "explore_data(googlePlayData, 1, 11, True)"
   ]
  },
  {
   "cell_type": "markdown",
   "metadata": {},
   "source": [
    "The Google Play store data contains 10,842 records with 13 data fields.\n",
    "\n",
    "The description of the fields:\n",
    "* App : application name\n",
    "* Category : category the app belongs to\n",
    "* Rating : overall user rating of the app\n",
    "* Reviews : number of user reviews for the app\n",
    "* Size : size of the app\n",
    "* Installs : number of user downloads/installs for the app\n",
    "* Type : paid or free app\n",
    "* Price : price of the app\n",
    "* Content Rating : age group the app is targeted at:\n",
    "    * Children\n",
    "    * Mature 21+\n",
    "    * Adult\n",
    "* Genres : an app can belong to multiple genres (apart from its main category)\n",
    "* Last Updated : date when the app was updated on Play Store\n",
    "* Current Ver : current version of the app available on Play Store\n",
    "* Android Ver : minimum Android version required\n",
    "\n",
    "Initially, the following fields may be of use for our analysis:  Category, Rating, Reviews, Installs, Content Rating, Price, Genres, Type."
   ]
  },
  {
   "cell_type": "markdown",
   "metadata": {},
   "source": [
    "## Clean Up Bad Data\n",
    "\n",
    "There is a [discussion](https://www.kaggle.com/lava18/google-play-store-apps/discussion/66015) associated with the Google Play dataset that states there is an error in record # 10472 (without counting the header row)."
   ]
  },
  {
   "cell_type": "code",
   "execution_count": 4,
   "metadata": {},
   "outputs": [
    {
     "name": "stdout",
     "output_type": "stream",
     "text": [
      "['App', 'Category', 'Rating', 'Reviews', 'Size', 'Installs', 'Type', 'Price', 'Content Rating', 'Genres', 'Last Updated', 'Current Ver', 'Android Ver']\n",
      "['Life Made WI-Fi Touchscreen Photo Frame', '1.9', '19', '3.0M', '1,000+', 'Free', '0', 'Everyone', '', 'February 11, 2018', '1.0.19', '4.0 and up']\n",
      "['Photo Editor & Candy Camera & Grid & ScrapBook', 'ART_AND_DESIGN', '4.1', '159', '19M', '10,000+', 'Free', '0', 'Everyone', 'Art & Design', 'January 7, 2018', '1.0.0', '4.0.3 and up']\n"
     ]
    }
   ],
   "source": [
    "print(googlePlayData[0])      # Header\n",
    "print(googlePlayData[10473])  # incorrect row\n",
    "print(googlePlayData[1])      # compare with a correct row"
   ]
  },
  {
   "cell_type": "markdown",
   "metadata": {},
   "source": [
    "Row 10473 refers to the app *Life Made Wi-Fi Touchscreen Photo Frame* and has a rating of 19.  Since the range of Google Play ratings is from 1 to 5, this is clearly incorrect data.  To make our data as clean as possible, we'll just delete this data entry."
   ]
  },
  {
   "cell_type": "code",
   "execution_count": 5,
   "metadata": {},
   "outputs": [],
   "source": [
    "del googlePlayData[10473]     # delete row to correct error"
   ]
  },
  {
   "cell_type": "markdown",
   "metadata": {},
   "source": [
    "## Remove Duplicate Google Play data\n",
    "\n",
    "We need to investigate whether there is duplicate data.  We create 2 lists:  One list keeping track of unique apps found, and one with duplicate app entries.\n",
    "As part of our analysis, we'll display the number of duplicate app entries and print a small sample of the data to analyze which entry to keep and which to remove from the dataset."
   ]
  },
  {
   "cell_type": "code",
   "execution_count": 6,
   "metadata": {},
   "outputs": [
    {
     "name": "stdout",
     "output_type": "stream",
     "text": [
      "Number of duplicate apps:  1181\n",
      "\n",
      "\n",
      "Examples of duplicate apps:  ['Quick PDF Scanner + OCR FREE', 'Box', 'Google My Business', 'ZOOM Cloud Meetings', 'join.me - Simple Meetings', 'Box', 'Zenefits', 'Google Ads', 'Google My Business', 'Slack', 'FreshBooks Classic', 'Insightly CRM', 'QuickBooks Accounting: Invoicing & Expenses', 'HipChat - Chat Built for Teams', 'Xero Accounting Software']\n"
     ]
    }
   ],
   "source": [
    "duplicate_apps = []\n",
    "unique_apps = []\n",
    "\n",
    "for app in googlePlayData:\n",
    "    appName = app[0]\n",
    "    if appName in unique_apps:\n",
    "        duplicate_apps.append(appName)\n",
    "    else:\n",
    "        unique_apps.append(appName)\n",
    "\n",
    "print(\"Number of duplicate apps: \", len(duplicate_apps))\n",
    "print(\"\\n\")\n",
    "print(\"Examples of duplicate apps: \", duplicate_apps[:15])"
   ]
  },
  {
   "cell_type": "markdown",
   "metadata": {},
   "source": [
    "According to our analysis, there are 1181 duplicate apps in our Google Play Store database.\n",
    "\n",
    "To illustrate an example, we'll print the duplicate entries for \"Slack\" to discover which entry to keep:"
   ]
  },
  {
   "cell_type": "code",
   "execution_count": 7,
   "metadata": {},
   "outputs": [
    {
     "name": "stdout",
     "output_type": "stream",
     "text": [
      "['Slack', 'BUSINESS', '4.4', '51507', 'Varies with device', '5,000,000+', 'Free', '0', 'Everyone', 'Business', 'August 2, 2018', 'Varies with device', 'Varies with device']\n",
      "['Slack', 'BUSINESS', '4.4', '51507', 'Varies with device', '5,000,000+', 'Free', '0', 'Everyone', 'Business', 'August 2, 2018', 'Varies with device', 'Varies with device']\n",
      "['Slack', 'BUSINESS', '4.4', '51510', 'Varies with device', '5,000,000+', 'Free', '0', 'Everyone', 'Business', 'August 2, 2018', 'Varies with device', 'Varies with device']\n"
     ]
    }
   ],
   "source": [
    "for app in googlePlayData:\n",
    "    appName = app[0]\n",
    "    if appName == \"Slack\":\n",
    "        print(app)"
   ]
  },
  {
   "cell_type": "markdown",
   "metadata": {},
   "source": [
    "It looks like we can use the Reviews field, which indicates the number of reviews assocated with this particular app is a good indication of the latest entry.  Well keep the entry with the largest number of reviews as it's a good indication of the newest entry."
   ]
  },
  {
   "cell_type": "markdown",
   "metadata": {
    "collapsed": true
   },
   "source": [
    "## Process to Remove Duplicate Entries\n",
    "To delete duplicate entries, we create a dictionary that contains the unique app name and the highest number of reviews, as we indicated previously, the highest number of reviews may indicate the latest data entry for duplicate entries.\n",
    "We'll use the information stored in the dictionary to create a new dataset with no duplicates.\n"
   ]
  },
  {
   "cell_type": "code",
   "execution_count": 8,
   "metadata": {},
   "outputs": [
    {
     "name": "stdout",
     "output_type": "stream",
     "text": [
      "Number of expected unique apps: \n",
      "9659\n"
     ]
    }
   ],
   "source": [
    "reviews_max = {}\n",
    "\n",
    "#Loop through Google Play data\n",
    "for appData in googlePlayData[1:]:\n",
    "    name = appData[0]\n",
    "    n_reviews = float(appData[3])\n",
    "    \n",
    "    if (name in reviews_max) and (reviews_max[name] < n_reviews):\n",
    "        reviews_max[name] = n_reviews\n",
    "        \n",
    "    if name not in reviews_max:\n",
    "        reviews_max[name] = n_reviews\n",
    "\n",
    "print(\"Number of expected unique apps: \")\n",
    "print(len(reviews_max))"
   ]
  },
  {
   "cell_type": "markdown",
   "metadata": {},
   "source": [
    "First, we create a dictionary (reviews_max) that only contains the name of Google Play apps along with the highest number of reviews for that app.  This dictionary will be used as a filter for the new Google Play Store database without duplicate app entries.\n",
    "\n",
    "We loop through the Google Play Store app database and for each app entry:\n",
    "* if the app name is already in the reviews_max dictionary and the number of ratings is more than the one stored in reviews_max, update the number of ratings in the reviews_max dictionary.\n",
    "* if the app name is not in the reviews_max dictionary, then add it."
   ]
  },
  {
   "cell_type": "code",
   "execution_count": 9,
   "metadata": {},
   "outputs": [
    {
     "name": "stdout",
     "output_type": "stream",
     "text": [
      "Number of apps in corrected app database: \n",
      "9659\n"
     ]
    }
   ],
   "source": [
    "android_clean = []\n",
    "already_added = []\n",
    "\n",
    "for appData in googlePlayData[1:]:\n",
    "    name = appData[0]\n",
    "    n_reviews = float(appData[3])\n",
    "    \n",
    "    if (n_reviews == reviews_max[name]) and (name not in already_added):\n",
    "        android_clean.append(appData)\n",
    "        already_added.append(name)\n",
    "\n",
    "print(\"Number of apps in corrected app database: \")\n",
    "print(len(android_clean))"
   ]
  },
  {
   "cell_type": "markdown",
   "metadata": {},
   "source": [
    "Next we utilize the reviews_max dictionary to create a new database (android_clean) with a unique app name (and highest number of user ratings) with all the fields associated with that app entry from the source database.\n",
    "\n",
    "We loop through the Google Play Store app database again.  For each app entry, we'll add the app entry to the new non-duplicate database if:\n",
    "* The number of reviews is the same as the one in the reviews_max dictionary; and\n",
    "* The app entry has not already been added to the non-duplicate database.  This prevents the code from adding duplicate entries with the same number of user ratings as the highest one."
   ]
  },
  {
   "cell_type": "markdown",
   "metadata": {},
   "source": [
    "## Remove Non-English Apps\n",
    "\n",
    "After additional exploration of the data set, there seems to be a few apps that are targeted towards a non-English speaking audience.\n",
    " \n",
    "ACME is only interested in the English speaking market, so we'll write some code to remove any non-English apps in the database.  One approach to remove non-English apps is to remove apps that have symbols that aren't used in the English language, such as letters from the English alphabet, numbers, punctuation marks, and other symbols (i.e. +, -, *, /).\n",
    " \n",
    "Each character is encoded numerically using the ASCII standard.  Most characters that are used in the English language falls into the ASCII range between 0 and 127.\n",
    " \n",
    "Below, we built the function IsEnglishWord() to determine if a string is made up of mostly English words.  The function uses the ord() method to convert the character to a number so we can determine if it's in the English character range.\n",
    "\n",
    "However, filtering out characters outside of ASCII 0-127 isn't sufficient for our needs.  This method also filters out emoji characters that are outside of this ASCII range.\n",
    "\n",
    "To minimize the unnecessary data loss, we'll only remove an app if it has more than three non-English ASCII characters:"
   ]
  },
  {
   "cell_type": "code",
   "execution_count": 10,
   "metadata": {},
   "outputs": [
    {
     "name": "stdout",
     "output_type": "stream",
     "text": [
      "True\n",
      "False\n",
      "True\n",
      "True\n"
     ]
    }
   ],
   "source": [
    "def IsEnglishWord(aString):\n",
    "    numNonEnglishCharacters = 0\n",
    "    for aChar in aString:\n",
    "        if ord(aChar) > 127:\n",
    "            numNonEnglishCharacters += 1\n",
    "\n",
    "    if numNonEnglishCharacters > 3:\n",
    "        return False\n",
    "    else:\n",
    "        return True\n",
    "\n",
    "print(IsEnglishWord(\"Instagram\"))\n",
    "print(IsEnglishWord(\"爱奇艺PPS -《欢乐颂2》电视剧热播\"))\n",
    "print(IsEnglishWord(\"Docs To Go™ Free Office Suite\"))\n",
    "print(IsEnglishWord(\"Instachat 😜\"))"
   ]
  },
  {
   "cell_type": "markdown",
   "metadata": {},
   "source": [
    "Researching the entire range of non-English ASCII (or UTF-8) characters is a time consuming process and may not be worth the time to sufficiently clean the data for our purposes.  The process we came up with should be sufficient for our analysis.\n",
    " \n",
    "Below, we will filter out non-English apps from the Apple App Store and Google Play Store databases:"
   ]
  },
  {
   "cell_type": "code",
   "execution_count": 11,
   "metadata": {},
   "outputs": [
    {
     "name": "stdout",
     "output_type": "stream",
     "text": [
      "['U Launcher Lite – FREE Live Cool Themes, Hide Apps', 'ART_AND_DESIGN', '4.7', '87510', '8.7M', '5,000,000+', 'Free', '0', 'Everyone', 'Art & Design', 'August 1, 2018', '1.2.4', '4.0.3 and up']\n",
      "\n",
      "\n",
      "['Sketch - Draw & Paint', 'ART_AND_DESIGN', '4.5', '215644', '25M', '50,000,000+', 'Free', '0', 'Teen', 'Art & Design', 'June 8, 2018', 'Varies with device', '4.2 and up']\n",
      "\n",
      "\n",
      "['Pixel Draw - Number Art Coloring Book', 'ART_AND_DESIGN', '4.3', '967', '2.8M', '100,000+', 'Free', '0', 'Everyone', 'Art & Design;Creativity', 'June 20, 2018', '1.1', '4.4 and up']\n",
      "\n",
      "\n",
      "['Paper flowers instructions', 'ART_AND_DESIGN', '4.4', '167', '5.6M', '50,000+', 'Free', '0', 'Everyone', 'Art & Design', 'March 26, 2017', '1.0', '2.3 and up']\n",
      "\n",
      "\n",
      "['Smoke Effect Photo Maker - Smoke Editor', 'ART_AND_DESIGN', '3.8', '178', '19M', '50,000+', 'Free', '0', 'Everyone', 'Art & Design', 'April 26, 2018', '1.1', '4.0.3 and up']\n",
      "\n",
      "\n",
      "['Infinite Painter', 'ART_AND_DESIGN', '4.1', '36815', '29M', '1,000,000+', 'Free', '0', 'Everyone', 'Art & Design', 'June 14, 2018', '6.1.61.1', '4.2 and up']\n",
      "\n",
      "\n",
      "['Garden Coloring Book', 'ART_AND_DESIGN', '4.4', '13791', '33M', '1,000,000+', 'Free', '0', 'Everyone', 'Art & Design', 'September 20, 2017', '2.9.2', '3.0 and up']\n",
      "\n",
      "\n",
      "['Kids Paint Free - Drawing Fun', 'ART_AND_DESIGN', '4.7', '121', '3.1M', '10,000+', 'Free', '0', 'Everyone', 'Art & Design;Creativity', 'July 3, 2018', '2.8', '4.0.3 and up']\n",
      "\n",
      "\n",
      "['Text on Photo - Fonteee', 'ART_AND_DESIGN', '4.4', '13880', '28M', '1,000,000+', 'Free', '0', 'Everyone', 'Art & Design', 'October 27, 2017', '1.0.4', '4.1 and up']\n",
      "\n",
      "\n",
      "['Name Art Photo Editor - Focus n Filters', 'ART_AND_DESIGN', '4.4', '8788', '12M', '1,000,000+', 'Free', '0', 'Everyone', 'Art & Design', 'July 31, 2018', '1.0.15', '4.0 and up']\n",
      "\n",
      "\n",
      "Number of rows: 9614\n",
      "Numer of columns: 13\n",
      "9614\n",
      "['2', '281796108', 'Evernote - stay organized', '158578688', 'USD', '0', '161065', '26', '4', '3.5', '8.2.2', '4+', 'Productivity', '37', '5', '23', '1']\n",
      "\n",
      "\n",
      "['3', '281940292', 'WeatherBug - Local Weather, Radar, Maps, Alerts', '100524032', 'USD', '0', '188583', '2822', '3.5', '4.5', '5.0.0', '4+', 'Weather', '37', '5', '3', '1']\n",
      "\n",
      "\n",
      "['4', '282614216', 'eBay: Best App to Buy, Sell, Save! Online Shopping', '128512000', 'USD', '0', '262241', '649', '4', '4.5', '5.10.0', '12+', 'Shopping', '37', '5', '9', '1']\n",
      "\n",
      "\n",
      "['5', '282935706', 'Bible', '92774400', 'USD', '0', '985920', '5320', '4.5', '5', '7.5.1', '4+', 'Reference', '37', '5', '45', '1']\n",
      "\n",
      "\n",
      "['6', '283619399', 'Shanghai Mahjong', '10485713', 'USD', '0.99', '8253', '5516', '4', '4', '1.8', '4+', 'Games', '47', '5', '1', '1']\n",
      "\n",
      "\n",
      "['7', '283646709', 'PayPal - Send and request money safely', '227795968', 'USD', '0', '119487', '879', '4', '4.5', '6.12.0', '4+', 'Finance', '37', '0', '19', '1']\n",
      "\n",
      "\n",
      "['8', '284035177', 'Pandora - Music & Radio', '130242560', 'USD', '0', '1126879', '3594', '4', '4.5', '8.4.1', '12+', 'Music', '37', '4', '1', '1']\n",
      "\n",
      "\n",
      "['9', '284666222', 'PCalc - The Best Calculator', '49250304', 'USD', '9.99', '1117', '4', '4.5', '5', '3.6.6', '4+', 'Utilities', '37', '5', '1', '1']\n",
      "\n",
      "\n",
      "['10', '284736660', 'Ms. PAC-MAN', '70023168', 'USD', '3.99', '7885', '40', '4', '4', '4.0.4', '4+', 'Games', '38', '0', '10', '1']\n",
      "\n",
      "\n",
      "['11', '284791396', 'Solitaire by MobilityWare', '49618944', 'USD', '4.99', '76720', '4017', '4.5', '4.5', '4.10.1', '4+', 'Games', '38', '4', '11', '1']\n",
      "\n",
      "\n",
      "Number of rows: 7197\n",
      "Numer of columns: 17\n",
      "7197\n"
     ]
    }
   ],
   "source": [
    "englishOnlyAndroidApps = []\n",
    "\n",
    "for app in android_clean:\n",
    "    if IsEnglishWord(app[0]):\n",
    "        englishOnlyAndroidApps.append(app)\n",
    "\n",
    "explore_data(englishOnlyAndroidApps, 1, 11, True)\n",
    "print(len(englishOnlyAndroidApps))\n",
    "\n",
    "englishOnlyIOSApps = []\n",
    "for app in appleStoreData[1:]:\n",
    "    if IsEnglishWord(app[1]):\n",
    "        englishOnlyIOSApps.append(app)\n",
    "\n",
    "explore_data(englishOnlyIOSApps, 1, 11, True)\n",
    "print(len(englishOnlyIOSApps))"
   ]
  },
  {
   "cell_type": "markdown",
   "metadata": {},
   "source": [
    "We can see there are 9614 Android and 6183 iOS apps targeted towards an English speaking audience.\n",
    "\n",
    "## Isolate Free from Non-Free Apps\n",
    "\n",
    "ACME is only interested in building apps that are free to download with their main source of revenue coming from in-app ads.  Our data set contains both free and paid apps, so we need to filter out the paid apps to continue with our analysis."
   ]
  },
  {
   "cell_type": "code",
   "execution_count": 12,
   "metadata": {},
   "outputs": [
    {
     "name": "stdout",
     "output_type": "stream",
     "text": [
      "8864\n",
      "4056\n"
     ]
    }
   ],
   "source": [
    "freeIOSApps = []\n",
    "freeAndroidApps = []\n",
    "\n",
    "for app in englishOnlyAndroidApps:\n",
    "    price = app[7]\n",
    "    if price == \"0\":\n",
    "        freeAndroidApps.append(app)\n",
    "\n",
    "for app in englishOnlyIOSApps:\n",
    "    price = app[5]\n",
    "    #price = app[4]\n",
    "    #if price == \"0.0\":\n",
    "    if price == \"0\":\n",
    "        freeIOSApps.append(app)\n",
    "\n",
    "print(len(freeAndroidApps))\n",
    "print(len(freeIOSApps))"
   ]
  },
  {
   "cell_type": "markdown",
   "metadata": {},
   "source": [
    "There are 8864 free Android Apps and 4056 free Apple Apps in the app store database.\n",
    "\n",
    "## Analysis of the First Candidate App by Genre\n",
    "\n",
    "ACME wants to determine what kinds of apps will likely attract the most users, as the revenue from the app comes from in-app ads.\n",
    "\n",
    "To minimize risk, ACME's strategy for it's first app idea will be comprised of:\n",
    "\n",
    "1. Build an Android version of the app and add it to the Google Play App Store.\n",
    "2. Iterate on the Android app based on feedback from users.\n",
    "3. Once the Android version becomes profitable, build an iOS version of the app and add it to the Apple App Store.\n",
    "\n",
    "ACME's vision is to create a presence in the Google Play and Apple App stores.  We need to determine which apps will be successful in both markets.\n",
    "\n",
    "We first start by looking at what genre of app is the most successful free apps on Google Play Store.\n",
    "The fields that may be of importance are:  genre and rating.\n",
    "\n",
    "Two functions will analyze any frequency tables:\n",
    "* freq_table() will generate frequency tables along with the percentages of each genre\n",
    "* display_table() displays the percentages in descending order"
   ]
  },
  {
   "cell_type": "code",
   "execution_count": 13,
   "metadata": {},
   "outputs": [],
   "source": [
    "def freq_table(dataset, index):\n",
    "    aFreqTable = {}\n",
    "    totalRows = len(dataset)\n",
    "    \n",
    "    for record in dataset:\n",
    "        key = record[index]\n",
    "        if key in aFreqTable:\n",
    "            aFreqTable[key] += 1\n",
    "        else:\n",
    "            aFreqTable[key] = 1\n",
    "            \n",
    "    # express as a percentage\n",
    "    for key in aFreqTable:\n",
    "        aFreqTable[key] = aFreqTable[key] / totalRows * 100\n",
    "        \n",
    "    return aFreqTable\n",
    "\n",
    "def display_table(dataset, index):\n",
    "    table = freq_table(dataset, index)\n",
    "    table_display = []\n",
    "    for key in table:\n",
    "        key_val_as_tuple = (table[key], key)\n",
    "        table_display.append(key_val_as_tuple)\n",
    "    \n",
    "    table_sorted = sorted(table_display, reverse = True)\n",
    "    for entry in table_sorted:\n",
    "        print(entry[1], \":\", entry[0])"
   ]
  },
  {
   "cell_type": "markdown",
   "metadata": {},
   "source": [
    "Below we examine the frequency table for the prime_genre column of the Apple App store data set.  In deciding what type of app to build, we'll take into account the most popular genres of apps in Apple's App Store."
   ]
  },
  {
   "cell_type": "code",
   "execution_count": 14,
   "metadata": {},
   "outputs": [
    {
     "name": "stdout",
     "output_type": "stream",
     "text": [
      "Free IOS Apps - prime_genre:\n",
      "\n",
      "Games : 55.64595660749507\n",
      "Entertainment : 8.234714003944774\n",
      "Photo & Video : 4.117357001972387\n",
      "Social Networking : 3.5256410256410255\n",
      "Education : 3.2544378698224854\n",
      "Shopping : 2.983234714003945\n",
      "Utilities : 2.687376725838264\n",
      "Lifestyle : 2.3175542406311638\n",
      "Finance : 2.0710059171597637\n",
      "Sports : 1.947731755424063\n",
      "Health & Fitness : 1.8737672583826428\n",
      "Music : 1.6518737672583828\n",
      "Book : 1.6272189349112427\n",
      "Productivity : 1.5285996055226825\n",
      "News : 1.4299802761341223\n",
      "Travel : 1.3806706114398422\n",
      "Food & Drink : 1.0601577909270217\n",
      "Weather : 0.7642998027613412\n",
      "Reference : 0.4930966469428008\n",
      "Navigation : 0.4930966469428008\n",
      "Business : 0.4930966469428008\n",
      "Catalogs : 0.22189349112426035\n",
      "Medical : 0.19723865877712032\n"
     ]
    }
   ],
   "source": [
    "print(\"Free IOS Apps - prime_genre:\\n\")\n",
    "display_table(freeIOSApps, 12)"
   ]
  },
  {
   "cell_type": "markdown",
   "metadata": {},
   "source": [
    "For Apple's App Store, it looks like a good majority of the free apps are related to Games.  Followed by Entertainment and videos/photographs.\n",
    "\n",
    "Games make up of approximately 58% of the free apps, while the Entertainment category only make up of less than 8%; followed by less than 5% of popular free apps relating to photography and videos.  There is a huge disparity between Games and all of the other genres in the free app space.\n",
    "\n",
    "It seems like it may be a safe bet to make a brand new app in the Games genre for the App Store.  Due to the popularity of that genre, there could be a lot of competition since other companies are creating apps in the Games space.\n",
    "\n"
   ]
  },
  {
   "cell_type": "code",
   "execution_count": 15,
   "metadata": {},
   "outputs": [
    {
     "name": "stdout",
     "output_type": "stream",
     "text": [
      "\n",
      "Free Android Apps - Genres:\n",
      "\n",
      "Tools : 8.449909747292418\n",
      "Entertainment : 6.069494584837545\n",
      "Education : 5.347472924187725\n",
      "Business : 4.591606498194946\n",
      "Productivity : 3.892148014440433\n",
      "Lifestyle : 3.892148014440433\n",
      "Finance : 3.7003610108303246\n",
      "Medical : 3.531137184115524\n",
      "Sports : 3.463447653429603\n",
      "Personalization : 3.3167870036101084\n",
      "Communication : 3.2378158844765346\n",
      "Action : 3.1024368231046933\n",
      "Health & Fitness : 3.0798736462093865\n",
      "Photography : 2.944494584837545\n",
      "News & Magazines : 2.7978339350180503\n",
      "Social : 2.6624548736462095\n",
      "Travel & Local : 2.3240072202166067\n",
      "Shopping : 2.2450361010830324\n",
      "Books & Reference : 2.1435018050541514\n",
      "Simulation : 2.0419675090252705\n",
      "Dating : 1.861462093862816\n",
      "Arcade : 1.8501805054151623\n",
      "Video Players & Editors : 1.7712093862815883\n",
      "Casual : 1.7599277978339352\n",
      "Maps & Navigation : 1.3989169675090252\n",
      "Food & Drink : 1.2409747292418771\n",
      "Puzzle : 1.128158844765343\n",
      "Racing : 0.9927797833935018\n",
      "Role Playing : 0.9363718411552346\n",
      "Libraries & Demo : 0.9363718411552346\n",
      "Auto & Vehicles : 0.9250902527075812\n",
      "Strategy : 0.9138086642599278\n",
      "House & Home : 0.8235559566787004\n",
      "Weather : 0.8009927797833934\n",
      "Events : 0.7107400722021661\n",
      "Adventure : 0.6768953068592057\n",
      "Comics : 0.6092057761732852\n",
      "Beauty : 0.5979241877256317\n",
      "Art & Design : 0.5979241877256317\n",
      "Parenting : 0.4963898916967509\n",
      "Card : 0.45126353790613716\n",
      "Casino : 0.42870036101083037\n",
      "Trivia : 0.41741877256317694\n",
      "Educational;Education : 0.39485559566787\n",
      "Board : 0.3835740072202166\n",
      "Educational : 0.3722924187725632\n",
      "Education;Education : 0.33844765342960287\n",
      "Word : 0.2594765342960289\n",
      "Casual;Pretend Play : 0.236913357400722\n",
      "Music : 0.2030685920577617\n",
      "Racing;Action & Adventure : 0.16922382671480143\n",
      "Puzzle;Brain Games : 0.16922382671480143\n",
      "Entertainment;Music & Video : 0.16922382671480143\n",
      "Casual;Brain Games : 0.13537906137184114\n",
      "Casual;Action & Adventure : 0.13537906137184114\n",
      "Arcade;Action & Adventure : 0.12409747292418773\n",
      "Action;Action & Adventure : 0.10153429602888085\n",
      "Educational;Pretend Play : 0.09025270758122744\n",
      "Simulation;Action & Adventure : 0.078971119133574\n",
      "Parenting;Education : 0.078971119133574\n",
      "Entertainment;Brain Games : 0.078971119133574\n",
      "Board;Brain Games : 0.078971119133574\n",
      "Parenting;Music & Video : 0.06768953068592057\n",
      "Educational;Brain Games : 0.06768953068592057\n",
      "Casual;Creativity : 0.06768953068592057\n",
      "Art & Design;Creativity : 0.06768953068592057\n",
      "Education;Pretend Play : 0.056407942238267145\n",
      "Role Playing;Pretend Play : 0.04512635379061372\n",
      "Education;Creativity : 0.04512635379061372\n",
      "Role Playing;Action & Adventure : 0.033844765342960284\n",
      "Puzzle;Action & Adventure : 0.033844765342960284\n",
      "Entertainment;Creativity : 0.033844765342960284\n",
      "Entertainment;Action & Adventure : 0.033844765342960284\n",
      "Educational;Creativity : 0.033844765342960284\n",
      "Educational;Action & Adventure : 0.033844765342960284\n",
      "Education;Music & Video : 0.033844765342960284\n",
      "Education;Brain Games : 0.033844765342960284\n",
      "Education;Action & Adventure : 0.033844765342960284\n",
      "Adventure;Action & Adventure : 0.033844765342960284\n",
      "Video Players & Editors;Music & Video : 0.02256317689530686\n",
      "Sports;Action & Adventure : 0.02256317689530686\n",
      "Simulation;Pretend Play : 0.02256317689530686\n",
      "Puzzle;Creativity : 0.02256317689530686\n",
      "Music;Music & Video : 0.02256317689530686\n",
      "Entertainment;Pretend Play : 0.02256317689530686\n",
      "Casual;Education : 0.02256317689530686\n",
      "Board;Action & Adventure : 0.02256317689530686\n",
      "Video Players & Editors;Creativity : 0.01128158844765343\n",
      "Trivia;Education : 0.01128158844765343\n",
      "Travel & Local;Action & Adventure : 0.01128158844765343\n",
      "Tools;Education : 0.01128158844765343\n",
      "Strategy;Education : 0.01128158844765343\n",
      "Strategy;Creativity : 0.01128158844765343\n",
      "Strategy;Action & Adventure : 0.01128158844765343\n",
      "Simulation;Education : 0.01128158844765343\n",
      "Role Playing;Brain Games : 0.01128158844765343\n",
      "Racing;Pretend Play : 0.01128158844765343\n",
      "Puzzle;Education : 0.01128158844765343\n",
      "Parenting;Brain Games : 0.01128158844765343\n",
      "Music & Audio;Music & Video : 0.01128158844765343\n",
      "Lifestyle;Pretend Play : 0.01128158844765343\n",
      "Lifestyle;Education : 0.01128158844765343\n",
      "Health & Fitness;Education : 0.01128158844765343\n",
      "Health & Fitness;Action & Adventure : 0.01128158844765343\n",
      "Entertainment;Education : 0.01128158844765343\n",
      "Communication;Creativity : 0.01128158844765343\n",
      "Comics;Creativity : 0.01128158844765343\n",
      "Casual;Music & Video : 0.01128158844765343\n",
      "Card;Action & Adventure : 0.01128158844765343\n",
      "Books & Reference;Education : 0.01128158844765343\n",
      "Art & Design;Pretend Play : 0.01128158844765343\n",
      "Art & Design;Action & Adventure : 0.01128158844765343\n",
      "Arcade;Pretend Play : 0.01128158844765343\n",
      "Adventure;Education : 0.01128158844765343\n"
     ]
    }
   ],
   "source": [
    "print(\"\\nFree Android Apps - Genres:\\n\")\n",
    "display_table(freeAndroidApps, 9)"
   ]
  },
  {
   "cell_type": "markdown",
   "metadata": {},
   "source": [
    "For the Google Play free apps sorted by genres, the distribution of genres seem to be more evenly distrubuted than the App Store counterparts.\n",
    "\n",
    "The most common genres are: Tools at 8%, Entertainment at 6%, Education at 5%, and Business at 4.6%.\n",
    "\n",
    "I'm not sure if a recommendation of the genre of app to make in the Google Play Store because there isn't a clearly popular genre of app.\n",
    "\n"
   ]
  },
  {
   "cell_type": "code",
   "execution_count": 16,
   "metadata": {},
   "outputs": [
    {
     "name": "stdout",
     "output_type": "stream",
     "text": [
      "\n",
      "Free Android Apps - Category:\n",
      "\n",
      "FAMILY : 18.907942238267147\n",
      "GAME : 9.724729241877256\n",
      "TOOLS : 8.461191335740072\n",
      "BUSINESS : 4.591606498194946\n",
      "LIFESTYLE : 3.9034296028880866\n",
      "PRODUCTIVITY : 3.892148014440433\n",
      "FINANCE : 3.7003610108303246\n",
      "MEDICAL : 3.531137184115524\n",
      "SPORTS : 3.395758122743682\n",
      "PERSONALIZATION : 3.3167870036101084\n",
      "COMMUNICATION : 3.2378158844765346\n",
      "HEALTH_AND_FITNESS : 3.0798736462093865\n",
      "PHOTOGRAPHY : 2.944494584837545\n",
      "NEWS_AND_MAGAZINES : 2.7978339350180503\n",
      "SOCIAL : 2.6624548736462095\n",
      "TRAVEL_AND_LOCAL : 2.33528880866426\n",
      "SHOPPING : 2.2450361010830324\n",
      "BOOKS_AND_REFERENCE : 2.1435018050541514\n",
      "DATING : 1.861462093862816\n",
      "VIDEO_PLAYERS : 1.7937725631768955\n",
      "MAPS_AND_NAVIGATION : 1.3989169675090252\n",
      "FOOD_AND_DRINK : 1.2409747292418771\n",
      "EDUCATION : 1.1620036101083033\n",
      "ENTERTAINMENT : 0.9589350180505415\n",
      "LIBRARIES_AND_DEMO : 0.9363718411552346\n",
      "AUTO_AND_VEHICLES : 0.9250902527075812\n",
      "HOUSE_AND_HOME : 0.8235559566787004\n",
      "WEATHER : 0.8009927797833934\n",
      "EVENTS : 0.7107400722021661\n",
      "PARENTING : 0.6543321299638989\n",
      "ART_AND_DESIGN : 0.6430505415162455\n",
      "COMICS : 0.6204873646209386\n",
      "BEAUTY : 0.5979241877256317\n"
     ]
    }
   ],
   "source": [
    "print(\"\\nFree Android Apps - Category:\\n\")\n",
    "display_table(freeAndroidApps, 1)"
   ]
  },
  {
   "cell_type": "markdown",
   "metadata": {},
   "source": [
    "For Google Play Store apps that are sorted by category, the clear majorty of apps are in the Family category at less than 19% of the market share.\n",
    "\n",
    "So far, we've discovered that the Apple App Store is dominated by games and entertainment apps, but the Google Play Store apps are more diverse.\n",
    "\n",
    "Next, we'll examine the install base for each classification of app."
   ]
  },
  {
   "cell_type": "markdown",
   "metadata": {
    "collapsed": true
   },
   "source": [
    "## Analyze the Number of Installs for Apple's App Store\n",
    "\n",
    "Another perspective to finding out which app genres are the most popular is to calculate the average number of installs.\n",
    "\n",
    "Since the Apple store doesn't store the number of installs for each app genre, we can approximate this by using the average number of user ratings.  Average number of user ratings can be approximated by taking the total number of user ratings (rating_count_tot) divided by the number of apps in that genre."
   ]
  },
  {
   "cell_type": "code",
   "execution_count": 17,
   "metadata": {},
   "outputs": [
    {
     "name": "stdout",
     "output_type": "stream",
     "text": [
      "Productivity : 19053.887096774193\n",
      "Weather : 47220.93548387097\n",
      "Shopping : 18746.677685950413\n",
      "Reference : 67447.9\n",
      "Finance : 13522.261904761905\n",
      "Music : 56482.02985074627\n",
      "Utilities : 14010.100917431193\n",
      "Travel : 20216.01785714286\n",
      "Social Networking : 53078.195804195806\n",
      "Sports : 20128.974683544304\n",
      "Health & Fitness : 19952.315789473683\n",
      "Games : 18924.68896765618\n",
      "Food & Drink : 20179.093023255813\n",
      "News : 15892.724137931034\n",
      "Book : 8498.333333333334\n",
      "Photo & Video : 27249.892215568863\n",
      "Entertainment : 10822.961077844311\n",
      "Business : 6367.8\n",
      "Lifestyle : 8978.308510638299\n",
      "Education : 6266.333333333333\n",
      "Navigation : 25972.05\n",
      "Medical : 459.75\n",
      "Catalogs : 1779.5555555555557\n"
     ]
    }
   ],
   "source": [
    "uniqueAppStoreGenres = freq_table(freeIOSApps, 12)\n",
    "\n",
    "for genre in uniqueAppStoreGenres:\n",
    "    total = 0\n",
    "    len_genre = 0\n",
    "    for app in freeIOSApps:\n",
    "        genre_app = app[12]\n",
    "        if genre_app == genre:\n",
    "            user_ratings = float(app[6])\n",
    "            total += user_ratings\n",
    "            len_genre += 1\n",
    "            \n",
    "    averageNumUserRatings = total / len_genre\n",
    "    print(genre, \":\", averageNumUserRatings)"
   ]
  },
  {
   "cell_type": "markdown",
   "metadata": {},
   "source": [
    "Based on this calculated number of installs per genre, Social Networking, Music, and Reference have the highest values in the Apple App store.\n",
    "\n",
    "## Analyze Number of Installs for Google Play\n",
    "\n",
    "Analyzing the number of installs for the Google Play Store is a little easier as there is a field named Installs.\n",
    "\n",
    "However, the values in the Installs field do not contain specific values.  Rather, they seem to indicate a range or minimum value.  A precise value isn't necessary to be used in comparison.  We are just looking for a rough estimate of which genres have the highest number of installs.\n",
    "\n",
    "In addition to the impreciseness of the Installs field, the values contain symbols such as commas and pluses.  To use these values as comparisons, we need to \"clean\" the data into numeric values (float specifically)."
   ]
  },
  {
   "cell_type": "code",
   "execution_count": 18,
   "metadata": {},
   "outputs": [
    {
     "name": "stdout",
     "output_type": "stream",
     "text": [
      "ART_AND_DESIGN - 1986335.0877192982\n",
      "AUTO_AND_VEHICLES - 647317.8170731707\n",
      "BEAUTY - 513151.88679245283\n",
      "BOOKS_AND_REFERENCE - 8767811.894736841\n",
      "BUSINESS - 1712290.1474201474\n",
      "COMICS - 817657.2727272727\n",
      "COMMUNICATION - 38456119.167247385\n",
      "DATING - 854028.8303030303\n",
      "EDUCATION - 1833495.145631068\n",
      "ENTERTAINMENT - 11640705.88235294\n",
      "EVENTS - 253542.22222222222\n",
      "FINANCE - 1387692.475609756\n",
      "FOOD_AND_DRINK - 1924897.7363636363\n",
      "HEALTH_AND_FITNESS - 4188821.9853479853\n",
      "HOUSE_AND_HOME - 1331540.5616438356\n",
      "LIBRARIES_AND_DEMO - 638503.734939759\n",
      "LIFESTYLE - 1437816.2687861272\n",
      "GAME - 15588015.603248259\n",
      "FAMILY - 3695641.8198090694\n",
      "MEDICAL - 120550.61980830671\n",
      "SOCIAL - 23253652.127118643\n",
      "SHOPPING - 7036877.311557789\n",
      "PHOTOGRAPHY - 17840110.40229885\n",
      "SPORTS - 3638640.1428571427\n",
      "TRAVEL_AND_LOCAL - 13984077.710144928\n",
      "TOOLS - 10801391.298666667\n",
      "PERSONALIZATION - 5201482.6122448975\n",
      "PRODUCTIVITY - 16787331.344927534\n",
      "PARENTING - 542603.6206896552\n",
      "WEATHER - 5074486.197183099\n",
      "VIDEO_PLAYERS - 24727872.452830188\n",
      "NEWS_AND_MAGAZINES - 9549178.467741935\n",
      "MAPS_AND_NAVIGATION - 4056941.7741935486\n"
     ]
    }
   ],
   "source": [
    "categoryFreq = freq_table(freeAndroidApps, 1)\n",
    "\n",
    "for category in categoryFreq:\n",
    "    total = 0\n",
    "    len_category = 0\n",
    "    \n",
    "    for app in freeAndroidApps:\n",
    "        category_app = app[1]\n",
    "        if category_app == category:\n",
    "            numInstalls = app[5]\n",
    "            numInstalls = numInstalls.replace('+', '')\n",
    "            numInstalls = numInstalls.replace(',', '')\n",
    "            numInstalls = float(numInstalls)\n",
    "            total += numInstalls\n",
    "            len_category += 1\n",
    "            \n",
    "    avgNumInstalls = total / len_category\n",
    "    print (category, \"-\", avgNumInstalls)"
   ]
  },
  {
   "cell_type": "markdown",
   "metadata": {},
   "source": [
    "Based on the average number of installs per genre, Games, Entertainment, and Social have the highest number of installs in the Google Play Store.\n",
    "\n",
    "## Conclusions\n",
    "\n",
    "The goal of this project is to analyze the app genres in Apple App and Google Play stores with the intent to make recommendations to the ACME Corporation regarding building profitable mobile apps.\n",
    "\n",
    "Based on our analysis, we recommend ACME create a social networking app as it has the largest number of installs in both the Google Play and Apple App stores.  However, the games and entertainment categories have the most popular ratings in the Apple App store and positive ratings in the Google Play store.  We would also recommend that ACME also add some entertainment or game functionality to their social networking app as well."
   ]
  }
 ],
 "metadata": {
  "kernelspec": {
   "display_name": "Python 3",
   "language": "python",
   "name": "python3"
  },
  "language_info": {
   "codemirror_mode": {
    "name": "ipython",
    "version": 3
   },
   "file_extension": ".py",
   "mimetype": "text/x-python",
   "name": "python",
   "nbconvert_exporter": "python",
   "pygments_lexer": "ipython3",
   "version": "3.7.3"
  }
 },
 "nbformat": 4,
 "nbformat_minor": 2
}
