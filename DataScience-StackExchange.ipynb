{
 "cells": [
  {
   "cell_type": "markdown",
   "metadata": {},
   "source": [
    "# Popular Data Science Questions\n",
    "\n",
    "The ACME Corporation is looking for new content regarding our recent decision to create books, on-line articles, or videos in the field of data science.  This analysis will help us determine what is the best content to get started with.  We have determined to analyze the most popular questions on the question and answer on-line forum known as Stack Exhchange.\n",
    "\n",
    "## Stack Exchange\n",
    "\n",
    "Stack Exchange is a web site where users can ask and answer questions from other users of the site.  The site is organized various topics, such as Data Science.\n",
    "\n",
    "The site allows users to rate the quality of the questions asked.  The higher rated questions appear near the top of the list of questions to highlight quality questions.  Users can also rate the answers and the highest rated answer is highlighted after the question.\n",
    "\n",
    "The [Data Science](https://datascience.stackexchange.com) Stack Exchange web site allows questions and answers for Data Science professionals, Machine Learning specialists, and individuals who wish to learn more about data science.\n",
    "\n",
    "### What kinds of questions are accepted?\n",
    "\n",
    "According to the Data Science Stack Exchange help center's [asking questions FAQ](https://datascience.stackexchange.com/help/asking), the following guidelines should be followed:\n",
    "* Avoid asking subjective questions\n",
    "* Avoid asking duplicate questions (duplicate questions are flagged accordingly)\n",
    "* Ask only relavant and appropriate questions in regards to data science\n",
    "    * For instance, asking questions regarding programming without reference to data is should be asked in the [Stack Overflow](https://stackoverflow.com) forum instead of stack exchange.\n",
    "* Ask specific questions\n",
    "* Make questions relavant to others\n",
    "\n",
    "All of these characteristics should be helpful in our analysis.\n",
    "\n",
    "The help center's page also refers several sites that may be of relevance to our analysis:\n",
    "* [Open Data](https://opendata.stackexchange.com/) for dataset requests\n",
    "* [Computational Science](https://scicomp.stackexchange.com/) for software packages and algorithms in applied mathematics\n",
    "\n",
    "### How are questions subdivided?\n",
    "\n",
    "On the [home](https://datascience.stackexchange.com/) page, there are four sections:\n",
    "* [Questions](https://datascience.stackexchange.com/questions) - list of all questions asked\n",
    "* [Tags](https://datascience.stackexchange.com/tags) - list of tags (keywords or labels that categorize questions). Users can also assign \"Tags\" to each question to make it easier to search for and organize questions by topic.\n",
    "* [Users](https://datascience.stackexchange.com/users) - list of registered users on Stack Exchange\n",
    "* [Unanswered](https://datascience.stackexchange.com/unanswered) - list of unanswered questions\n",
    "\n",
    "The tagging system used by Stack Exchange could be helpful in our analysis as it will allow us to quantify how many questions were asked about a particular subject.\n",
    "\n",
    "The questions in the Stack Exhange's sites are heavily moderated by the community, which will give us confidence in the validity of the tagging system and provide us with accurate conclusions.\n",
    "\n",
    "### What information is available in each post?\n",
    "\n",
    "For both questions and answers:\n",
    "* Rating or score (as a numerical value; higher the number, higher the rating)\n",
    "* Title\n",
    "* Author\n",
    "* Body of post\n",
    "\n",
    "For questions only:\n",
    "* Last time the question was active\n",
    "* How many times the question was viewed\n",
    "* Related questions\n",
    "* Tags associated with the question"
   ]
  },
  {
   "cell_type": "markdown",
   "metadata": {
    "jupyter": {
     "outputs_hidden": true
    }
   },
   "source": [
    "## Stack Exchange Data Explorer\n",
    "\n",
    "Stack exchange provides a public interface to query data for any of Stack Exchange's web sites.  [This](https://data.stackexchange.com/datascience/query/new) link provides a means to query and explore Stack Exchange's Data Science database.\n",
    "\n",
    "Using the Stack Exchange Data Explorer, there are a few tables that may be relevant to our analysis:\n",
    "* Posts - containing details of the actual post\n",
    "* PostTags - associate tags with a particular post\n",
    "* Tags - contains the number of times a tag is used for a particular post\n",
    "* TagSynonyms - contains the different variations of a particular tag"
   ]
  },
  {
   "cell_type": "markdown",
   "metadata": {
    "jupyter": {
     "outputs_hidden": true
    }
   },
   "source": [
    "## Getting the Data\n",
    "\n",
    "Below are some definitions of the fields in the Posts table that are relevant to our analysis:\n",
    "\n",
    "* Id : identifier for the post\n",
    "* PostTypeId : identifier for the type of post\n",
    "* CreationDate : date and time the post was created\n",
    "* Score : post's score\n",
    "* ViewCount : number of times the post was viewed\n",
    "* Tags : tags used to describe the content of the post\n",
    "* AnswerCount : number of answers associated with the question post\n",
    "* FavoriteCount : number of times the question post was favored\n",
    "\n",
    "We are only interested in recent posts made in 2019 as to analyze current trends in data science questions.  Let's retrieve a sample of the data based on the CreationData year = 2019 and PostTypeId = 1 (1 refers to question type):\n",
    "\n",
    "```sql\n",
    "SELECT Id, CreationDate, Score, ViewCount, Tags, AnswerCount, FavoriteCount\n",
    "FROM posts\n",
    "WHERE PostTypeId = 1 AND YEAR(CreationDate) = 2019;\n",
    "```\n",
    "\n",
    "Below is a sample of the data returned:\n",
    "\n",
    "| Id | CreationDate | Score | ViewCount | Tags | AnswerCount | FavoriteCount |\n",
    "|:--:|:------------:|:-----:|----------:|------|:-----------:|:-------------:|\n",
    "| 53985 | 2019-06-18 05:07:54 | 1 | 40 | logistic-regressionorangeorange3 | 0 | 0 |\n",
    "| 53987 | 2019-06-18 06:37:06 | 0 | 13 | neural-networknatural-language-processngrams | 0 | |\n",
    "| 53989 | 2019-06-18 06:53:20 | 0 | 26 | machine-learningsvmactive-learning | 0 | 1 |\n",
    "| 53990 | 2019-06-18 06:57:15 | 0 | 25 | machine-learningfeature-selectiondata-cleaningcorrelation | 0 | |\n",
    "| 53991 | 2019-06-18 06:59:37 | 1 | 138 | clustering | 1 | |\n",
    "\n"
   ]
  },
  {
   "cell_type": "markdown",
   "metadata": {
    "jupyter": {
     "outputs_hidden": true
    }
   },
   "source": [
    "## Exploring the Data\n",
    "\n",
    "For the purposes of this analysis, we have exported the above query into the file \"2019_questions.csv\".\n",
    "\n",
    "Let's load this data into a dataframe so we can manipulate and visualize the data in Python:"
   ]
  },
  {
   "cell_type": "code",
   "execution_count": 1,
   "metadata": {},
   "outputs": [],
   "source": [
    "# Let's import the Python libraries we will use:\n",
    "\n",
    "import pandas as pd\n",
    "import numpy as np\n",
    "import matplotlib.pyplot as plt\n",
    "import seaborn as sns\n",
    "\n",
    "%matplotlib inline"
   ]
  },
  {
   "cell_type": "code",
   "execution_count": 2,
   "metadata": {},
   "outputs": [],
   "source": [
    "questions = pd.read_csv(\"2019_questions.csv\", parse_dates=[\"CreationDate\"])"
   ]
  },
  {
   "cell_type": "markdown",
   "metadata": {
    "jupyter": {
     "outputs_hidden": true
    }
   },
   "source": [
    "Let's run [questions.info()](https://pandas.pydata.org/pandas-docs/stable/reference/api/pandas.DataFrame.info.html) and see if it provides any quick insight into the data:"
   ]
  },
  {
   "cell_type": "code",
   "execution_count": 3,
   "metadata": {},
   "outputs": [
    {
     "name": "stdout",
     "output_type": "stream",
     "text": [
      "<class 'pandas.core.frame.DataFrame'>\n",
      "RangeIndex: 8839 entries, 0 to 8838\n",
      "Data columns (total 7 columns):\n",
      " #   Column         Non-Null Count  Dtype         \n",
      "---  ------         --------------  -----         \n",
      " 0   Id             8839 non-null   int64         \n",
      " 1   CreationDate   8839 non-null   datetime64[ns]\n",
      " 2   Score          8839 non-null   int64         \n",
      " 3   ViewCount      8839 non-null   int64         \n",
      " 4   Tags           8839 non-null   object        \n",
      " 5   AnswerCount    8839 non-null   int64         \n",
      " 6   FavoriteCount  1407 non-null   float64       \n",
      "dtypes: datetime64[ns](1), float64(1), int64(4), object(1)\n",
      "memory usage: 483.5+ KB\n"
     ]
    }
   ],
   "source": [
    "questions.info()"
   ]
  },
  {
   "cell_type": "markdown",
   "metadata": {
    "jupyter": {
     "outputs_hidden": true
    }
   },
   "source": [
    "It looks like only 1407 values are filled in FavoriteCount out of a possible 8839.  It's probably safe to assume that a null value in this fields can count as zero.  The type stored in FavoriteCount is a float.  Again, it's probably safe to assume that the number of favorites probably only have integer values, so we'll change the data type from float to integer.\n",
    "\n",
    "The data type for Tags shows up as an \"object.\"  Let's investigate further as to what data type the Tags field actually is:"
   ]
  },
  {
   "cell_type": "code",
   "execution_count": 4,
   "metadata": {},
   "outputs": [
    {
     "data": {
      "text/plain": [
       "array([<class 'str'>], dtype=object)"
      ]
     },
     "execution_count": 4,
     "metadata": {},
     "output_type": "execute_result"
    }
   ],
   "source": [
    "questions[\"Tags\"].apply(lambda x: type(x)).unique()"
   ]
  },
  {
   "cell_type": "markdown",
   "metadata": {},
   "source": [
    "The tags column is a string.  On Stack Exchange, each question can only have maximum of five tags ([source](https://meta.stackexchange.com/a/18879)).  It would be too much trouble to create an individual field for 5 tags, so we'll create a comma separated list for the Tag field."
   ]
  },
  {
   "cell_type": "markdown",
   "metadata": {},
   "source": [
    "## Cleaning the Data\n",
    "\n",
    "Let's first begin by filling in the missing values in the FavoriteCount field and convert it into an integer:"
   ]
  },
  {
   "cell_type": "code",
   "execution_count": 5,
   "metadata": {},
   "outputs": [
    {
     "name": "stdout",
     "output_type": "stream",
     "text": [
      "<class 'pandas.core.frame.DataFrame'>\n",
      "RangeIndex: 8839 entries, 0 to 8838\n",
      "Data columns (total 7 columns):\n",
      " #   Column         Non-Null Count  Dtype         \n",
      "---  ------         --------------  -----         \n",
      " 0   Id             8839 non-null   int64         \n",
      " 1   CreationDate   8839 non-null   datetime64[ns]\n",
      " 2   Score          8839 non-null   int64         \n",
      " 3   ViewCount      8839 non-null   int64         \n",
      " 4   Tags           8839 non-null   object        \n",
      " 5   AnswerCount    8839 non-null   int64         \n",
      " 6   FavoriteCount  8839 non-null   int64         \n",
      "dtypes: datetime64[ns](1), int64(5), object(1)\n",
      "memory usage: 483.5+ KB\n"
     ]
    }
   ],
   "source": [
    "questions.fillna(value={\"FavoriteCount\" : 0}, inplace=True)\n",
    "questions[\"FavoriteCount\"] = questions[\"FavoriteCount\"].astype(int)\n",
    "questions.info()"
   ]
  },
  {
   "cell_type": "markdown",
   "metadata": {},
   "source": [
    "Now, let's modify the Tags field to make them easier to work with.  Each tag in the Tags field is enclosed in angle brackets with no spacing inbetween tags.  We'll just remove the brackets and save the resulting tags as a Python list object."
   ]
  },
  {
   "cell_type": "code",
   "execution_count": 6,
   "metadata": {},
   "outputs": [
    {
     "data": {
      "text/html": [
       "<div>\n",
       "<style scoped>\n",
       "    .dataframe tbody tr th:only-of-type {\n",
       "        vertical-align: middle;\n",
       "    }\n",
       "\n",
       "    .dataframe tbody tr th {\n",
       "        vertical-align: top;\n",
       "    }\n",
       "\n",
       "    .dataframe thead th {\n",
       "        text-align: right;\n",
       "    }\n",
       "</style>\n",
       "<table border=\"1\" class=\"dataframe\">\n",
       "  <thead>\n",
       "    <tr style=\"text-align: right;\">\n",
       "      <th></th>\n",
       "      <th>Id</th>\n",
       "      <th>CreationDate</th>\n",
       "      <th>Score</th>\n",
       "      <th>ViewCount</th>\n",
       "      <th>Tags</th>\n",
       "      <th>AnswerCount</th>\n",
       "      <th>FavoriteCount</th>\n",
       "    </tr>\n",
       "  </thead>\n",
       "  <tbody>\n",
       "    <tr>\n",
       "      <th>7102</th>\n",
       "      <td>54007</td>\n",
       "      <td>2019-06-18 09:46:59</td>\n",
       "      <td>3</td>\n",
       "      <td>661</td>\n",
       "      <td>[deep-learning, pytorch]</td>\n",
       "      <td>1</td>\n",
       "      <td>0</td>\n",
       "    </tr>\n",
       "    <tr>\n",
       "      <th>4064</th>\n",
       "      <td>61501</td>\n",
       "      <td>2019-10-09 14:55:40</td>\n",
       "      <td>0</td>\n",
       "      <td>252</td>\n",
       "      <td>[machine-learning, xgboost, gradient-descent]</td>\n",
       "      <td>2</td>\n",
       "      <td>0</td>\n",
       "    </tr>\n",
       "    <tr>\n",
       "      <th>6727</th>\n",
       "      <td>53540</td>\n",
       "      <td>2019-06-10 17:23:02</td>\n",
       "      <td>0</td>\n",
       "      <td>36</td>\n",
       "      <td>[machine-learning, python, feature-selection, ...</td>\n",
       "      <td>1</td>\n",
       "      <td>0</td>\n",
       "    </tr>\n",
       "    <tr>\n",
       "      <th>1583</th>\n",
       "      <td>57641</td>\n",
       "      <td>2019-08-16 08:24:44</td>\n",
       "      <td>0</td>\n",
       "      <td>58</td>\n",
       "      <td>[machine-learning, decision-trees, machine-lea...</td>\n",
       "      <td>4</td>\n",
       "      <td>0</td>\n",
       "    </tr>\n",
       "    <tr>\n",
       "      <th>4223</th>\n",
       "      <td>60992</td>\n",
       "      <td>2019-09-29 10:49:41</td>\n",
       "      <td>0</td>\n",
       "      <td>11</td>\n",
       "      <td>[python, linear-regression]</td>\n",
       "      <td>0</td>\n",
       "      <td>0</td>\n",
       "    </tr>\n",
       "  </tbody>\n",
       "</table>\n",
       "</div>"
      ],
      "text/plain": [
       "         Id        CreationDate  Score  ViewCount  \\\n",
       "7102  54007 2019-06-18 09:46:59      3        661   \n",
       "4064  61501 2019-10-09 14:55:40      0        252   \n",
       "6727  53540 2019-06-10 17:23:02      0         36   \n",
       "1583  57641 2019-08-16 08:24:44      0         58   \n",
       "4223  60992 2019-09-29 10:49:41      0         11   \n",
       "\n",
       "                                                   Tags  AnswerCount  \\\n",
       "7102                           [deep-learning, pytorch]            1   \n",
       "4064      [machine-learning, xgboost, gradient-descent]            2   \n",
       "6727  [machine-learning, python, feature-selection, ...            1   \n",
       "1583  [machine-learning, decision-trees, machine-lea...            4   \n",
       "4223                        [python, linear-regression]            0   \n",
       "\n",
       "      FavoriteCount  \n",
       "7102              0  \n",
       "4064              0  \n",
       "6727              0  \n",
       "1583              0  \n",
       "4223              0  "
      ]
     },
     "execution_count": 6,
     "metadata": {},
     "output_type": "execute_result"
    }
   ],
   "source": [
    "questions[\"Tags\"] = questions[\"Tags\"].str.replace(\"^<|>$\", \"\").str.split(\"><\")\n",
    "questions.sample(5)"
   ]
  },
  {
   "cell_type": "markdown",
   "metadata": {},
   "source": [
    "## Most Used and Most Viewed\n",
    "\n",
    "We are interested in the number of times a particular tag is used and viewed in the 2019 questions database.\n",
    "\n",
    "Let's start with counting the number of times a tag is used in a question:"
   ]
  },
  {
   "cell_type": "code",
   "execution_count": 7,
   "metadata": {},
   "outputs": [],
   "source": [
    "tag_count = dict()\n",
    "\n",
    "for tags in questions[\"Tags\"]:\n",
    "    for tag in tags:\n",
    "        if tag in tag_count:\n",
    "            tag_count[tag] += 1\n",
    "        else:\n",
    "            tag_count[tag] = 1"
   ]
  },
  {
   "cell_type": "markdown",
   "metadata": {},
   "source": [
    "To improve the asthetics of our tag count dictionary, we'll convert it to a data frame and change the column name.  We'll print out the first few rows of our new dataset to verify the format of the data frame."
   ]
  },
  {
   "cell_type": "code",
   "execution_count": 8,
   "metadata": {},
   "outputs": [
    {
     "data": {
      "text/html": [
       "<div>\n",
       "<style scoped>\n",
       "    .dataframe tbody tr th:only-of-type {\n",
       "        vertical-align: middle;\n",
       "    }\n",
       "\n",
       "    .dataframe tbody tr th {\n",
       "        vertical-align: top;\n",
       "    }\n",
       "\n",
       "    .dataframe thead th {\n",
       "        text-align: right;\n",
       "    }\n",
       "</style>\n",
       "<table border=\"1\" class=\"dataframe\">\n",
       "  <thead>\n",
       "    <tr style=\"text-align: right;\">\n",
       "      <th></th>\n",
       "      <th>Count</th>\n",
       "    </tr>\n",
       "  </thead>\n",
       "  <tbody>\n",
       "    <tr>\n",
       "      <th>machine-learning</th>\n",
       "      <td>2693</td>\n",
       "    </tr>\n",
       "    <tr>\n",
       "      <th>data-mining</th>\n",
       "      <td>217</td>\n",
       "    </tr>\n",
       "    <tr>\n",
       "      <th>regression</th>\n",
       "      <td>347</td>\n",
       "    </tr>\n",
       "    <tr>\n",
       "      <th>linear-regression</th>\n",
       "      <td>175</td>\n",
       "    </tr>\n",
       "    <tr>\n",
       "      <th>regularization</th>\n",
       "      <td>50</td>\n",
       "    </tr>\n",
       "    <tr>\n",
       "      <th>python</th>\n",
       "      <td>1814</td>\n",
       "    </tr>\n",
       "    <tr>\n",
       "      <th>time-series</th>\n",
       "      <td>466</td>\n",
       "    </tr>\n",
       "    <tr>\n",
       "      <th>forecast</th>\n",
       "      <td>34</td>\n",
       "    </tr>\n",
       "    <tr>\n",
       "      <th>forecasting</th>\n",
       "      <td>85</td>\n",
       "    </tr>\n",
       "    <tr>\n",
       "      <th>scikit-learn</th>\n",
       "      <td>540</td>\n",
       "    </tr>\n",
       "  </tbody>\n",
       "</table>\n",
       "</div>"
      ],
      "text/plain": [
       "                   Count\n",
       "machine-learning    2693\n",
       "data-mining          217\n",
       "regression           347\n",
       "linear-regression    175\n",
       "regularization        50\n",
       "python              1814\n",
       "time-series          466\n",
       "forecast              34\n",
       "forecasting           85\n",
       "scikit-learn         540"
      ]
     },
     "execution_count": 8,
     "metadata": {},
     "output_type": "execute_result"
    }
   ],
   "source": [
    "tag_count = pd.DataFrame.from_dict(tag_count, orient=\"index\")\n",
    "tag_count.rename(columns={0: \"Count\"}, inplace=True)\n",
    "tag_count.head(10)"
   ]
  },
  {
   "cell_type": "markdown",
   "metadata": {},
   "source": [
    "Now, we'll grab the top 20 tags used.  We'll sort the data set and grab the top 20."
   ]
  },
  {
   "cell_type": "code",
   "execution_count": 9,
   "metadata": {},
   "outputs": [
    {
     "name": "stdout",
     "output_type": "stream",
     "text": [
      "                        Count\n",
      "machine-learning-model    224\n",
      "statistics                234\n",
      "clustering                257\n",
      "predictive-modeling       265\n",
      "r                         268\n",
      "dataset                   340\n",
      "regression                347\n",
      "pandas                    354\n",
      "lstm                      402\n",
      "time-series               466\n",
      "cnn                       489\n",
      "nlp                       493\n",
      "scikit-learn              540\n",
      "tensorflow                584\n",
      "classification            685\n",
      "keras                     935\n",
      "neural-network           1055\n",
      "deep-learning            1220\n",
      "python                   1814\n",
      "machine-learning         2693\n"
     ]
    }
   ],
   "source": [
    "top_tags_used = tag_count.sort_values(by=\"Count\").tail(20)\n",
    "print(top_tags_used)"
   ]
  },
  {
   "cell_type": "markdown",
   "metadata": {},
   "source": [
    "Now, let's visualize the top tags used:"
   ]
  },
  {
   "cell_type": "code",
   "execution_count": 10,
   "metadata": {},
   "outputs": [
    {
     "data": {
      "text/plain": [
       "<matplotlib.axes._subplots.AxesSubplot at 0x7fd7bd969610>"
      ]
     },
     "execution_count": 10,
     "metadata": {},
     "output_type": "execute_result"
    },
    {
     "data": {
      "image/png": "[encoded data removed]",
      "text/plain": [
       "<Figure size 1152x576 with 1 Axes>"
      ]
     },
     "metadata": {
      "needs_background": "light"
     },
     "output_type": "display_data"
    }
   ],
   "source": [
    "top_tags_used.plot(kind=\"barh\", figsize=(16,8))"
   ]
  },
  {
   "cell_type": "markdown",
   "metadata": {},
   "source": [
    "It appears as some tags include some broad subjects.  These subjects such as python and r may include some of the other tags such as machine learning within them.\n",
    "\n",
    "Let's count the number of times a particular tag has been viewed:"
   ]
  },
  {
   "cell_type": "code",
   "execution_count": 11,
   "metadata": {},
   "outputs": [],
   "source": [
    "tag_views = dict()\n",
    "\n",
    "for i, tags in enumerate(questions[\"Tags\"]):\n",
    "    for tag in tags:\n",
    "        if tag in tag_views:\n",
    "            tag_views[tag] += questions[\"ViewCount\"].iloc[i]\n",
    "        else:\n",
    "            tag_views[tag] = 1"
   ]
  },
  {
   "cell_type": "markdown",
   "metadata": {},
   "source": [
    "The enumerate function grabs the numerical index as well as a tag as a tuple.  We can use this value to get the tag and index, so we can get the ViewCount for each tag used in different questions.\n",
    "\n",
    "Convert tag_views into a data frame and sort by top 20 as we did with the tag_count:"
   ]
  },
  {
   "cell_type": "code",
   "execution_count": 12,
   "metadata": {},
   "outputs": [],
   "source": [
    "tag_views = pd.DataFrame.from_dict(tag_views, orient=\"Index\")\n",
    "tag_views.rename(columns={0: \"Views\"}, inplace=True)\n",
    "top_tag_views = tag_views.sort_values(by=\"Views\").tail(20)"
   ]
  },
  {
   "cell_type": "markdown",
   "metadata": {},
   "source": [
    "Let's visualize the top tags viewed:"
   ]
  },
  {
   "cell_type": "code",
   "execution_count": 13,
   "metadata": {},
   "outputs": [
    {
     "data": {
      "text/plain": [
       "<matplotlib.axes._subplots.AxesSubplot at 0x7fd7bd07b3a0>"
      ]
     },
     "execution_count": 13,
     "metadata": {},
     "output_type": "execute_result"
    },
    {
     "data": {
      "image/png": "[encoded data removed]",
      "text/plain": [
       "<Figure size 1152x576 with 1 Axes>"
      ]
     },
     "metadata": {
      "needs_background": "light"
     },
     "output_type": "display_data"
    }
   ],
   "source": [
    "top_tag_views.plot(kind=\"barh\", figsize=(16,8))"
   ]
  },
  {
   "cell_type": "markdown",
   "metadata": {},
   "source": [
    "## Relationships Between Each Tag\n",
    "\n",
    "From the top most viewed and used tags in our questions database, we see several tags that are very closely related.  For example, the python tag also encompasses the tags pytorch, numpy, and pandas.\n",
    "\n",
    "To get an idea of how all of these tags relate to one another, we'll create a heat map that visually shows how closely related each tag is to one another.\n",
    "\n",
    "We'll start by creating a data frame that contains all of the tags used in our questions as rows and columns.  First, we need to create a list of all tags used in the questions:"
   ]
  },
  {
   "cell_type": "code",
   "execution_count": 14,
   "metadata": {},
   "outputs": [
    {
     "name": "stdout",
     "output_type": "stream",
     "text": [
      "526\n"
     ]
    }
   ],
   "source": [
    "all_tags = list(tag_count.index)\n",
    "print(len(all_tags))"
   ]
  },
  {
   "cell_type": "markdown",
   "metadata": {},
   "source": [
    "Next, we'll create the data frame and print a small sample of it to verify correctness."
   ]
  },
  {
   "cell_type": "code",
   "execution_count": 15,
   "metadata": {},
   "outputs": [
    {
     "name": "stdout",
     "output_type": "stream",
     "text": [
      "                  machine-learning data-mining regression linear-regression  \\\n",
      "machine-learning               NaN         NaN        NaN               NaN   \n",
      "data-mining                    NaN         NaN        NaN               NaN   \n",
      "regression                     NaN         NaN        NaN               NaN   \n",
      "linear-regression              NaN         NaN        NaN               NaN   \n",
      "regularization                 NaN         NaN        NaN               NaN   \n",
      "\n",
      "                  regularization  \n",
      "machine-learning             NaN  \n",
      "data-mining                  NaN  \n",
      "regression                   NaN  \n",
      "linear-regression            NaN  \n",
      "regularization               NaN  \n"
     ]
    }
   ],
   "source": [
    "tag_associations = pd.DataFrame(index=all_tags, columns=all_tags)\n",
    "print(tag_associations.iloc[0:5,0:5])"
   ]
  },
  {
   "cell_type": "markdown",
   "metadata": {},
   "source": [
    "Now, it's time to initialize the data frame with zeroes.  Then we'll increment the intervening tags by one, which will result in determining how many times each tag were used together."
   ]
  },
  {
   "cell_type": "code",
   "execution_count": 16,
   "metadata": {},
   "outputs": [],
   "source": [
    "tag_associations.fillna(value=0, inplace=True)\n",
    "\n",
    "for tags in questions[\"Tags\"]:\n",
    "    tag_associations.loc[tags, tags] += 1"
   ]
  },
  {
   "cell_type": "markdown",
   "metadata": {},
   "source": [
    "Now that we have created our tag associations data frame, we are only interested in the tags that were most used.  First, we'll create another data frame only using the tags that were most used:"
   ]
  },
  {
   "cell_type": "code",
   "execution_count": 17,
   "metadata": {},
   "outputs": [],
   "source": [
    "most_used_relationships = tag_associations.loc[top_tags_used.index, top_tags_used.index]"
   ]
  },
  {
   "cell_type": "markdown",
   "metadata": {},
   "source": [
    "Now, we'll do a test regarding the relationship between the tags \"time-series\" and \"r\" in yellow.  We'll also highlight the values in the top_tags_used data frame to verify that they are the same values.  Note:  these colors are only viewable using [JupyterLab](https://jupyterlab.readthedocs.io/en/stable/)."
   ]
  },
  {
   "cell_type": "code",
   "execution_count": 18,
   "metadata": {},
   "outputs": [
    {
     "data": {
      "text/html": [
       "<style  type=\"text/css\" >\n",
       "    #T_353796ca_6fa4_11ea_9207_fcaa14259c19row0_col0 {\n",
       "            color:  blue;\n",
       "        }    #T_353796ca_6fa4_11ea_9207_fcaa14259c19row1_col1 {\n",
       "            color:  blue;\n",
       "        }    #T_353796ca_6fa4_11ea_9207_fcaa14259c19row2_col2 {\n",
       "            color:  blue;\n",
       "        }    #T_353796ca_6fa4_11ea_9207_fcaa14259c19row3_col3 {\n",
       "            color:  blue;\n",
       "        }    #T_353796ca_6fa4_11ea_9207_fcaa14259c19row4_col4 {\n",
       "            color:  blue;\n",
       "        }    #T_353796ca_6fa4_11ea_9207_fcaa14259c19row4_col9 {\n",
       "            background-color:  yellow;\n",
       "        }    #T_353796ca_6fa4_11ea_9207_fcaa14259c19row5_col5 {\n",
       "            color:  blue;\n",
       "        }    #T_353796ca_6fa4_11ea_9207_fcaa14259c19row6_col6 {\n",
       "            color:  blue;\n",
       "        }    #T_353796ca_6fa4_11ea_9207_fcaa14259c19row7_col7 {\n",
       "            color:  blue;\n",
       "        }    #T_353796ca_6fa4_11ea_9207_fcaa14259c19row8_col8 {\n",
       "            color:  blue;\n",
       "        }    #T_353796ca_6fa4_11ea_9207_fcaa14259c19row9_col4 {\n",
       "            background-color:  yellow;\n",
       "        }    #T_353796ca_6fa4_11ea_9207_fcaa14259c19row9_col9 {\n",
       "            color:  blue;\n",
       "        }    #T_353796ca_6fa4_11ea_9207_fcaa14259c19row10_col10 {\n",
       "            color:  blue;\n",
       "        }    #T_353796ca_6fa4_11ea_9207_fcaa14259c19row11_col11 {\n",
       "            color:  blue;\n",
       "        }    #T_353796ca_6fa4_11ea_9207_fcaa14259c19row12_col12 {\n",
       "            color:  blue;\n",
       "        }    #T_353796ca_6fa4_11ea_9207_fcaa14259c19row13_col13 {\n",
       "            color:  blue;\n",
       "        }    #T_353796ca_6fa4_11ea_9207_fcaa14259c19row14_col14 {\n",
       "            color:  blue;\n",
       "        }    #T_353796ca_6fa4_11ea_9207_fcaa14259c19row15_col15 {\n",
       "            color:  blue;\n",
       "        }    #T_353796ca_6fa4_11ea_9207_fcaa14259c19row16_col16 {\n",
       "            color:  blue;\n",
       "        }    #T_353796ca_6fa4_11ea_9207_fcaa14259c19row17_col17 {\n",
       "            color:  blue;\n",
       "        }    #T_353796ca_6fa4_11ea_9207_fcaa14259c19row18_col18 {\n",
       "            color:  blue;\n",
       "        }    #T_353796ca_6fa4_11ea_9207_fcaa14259c19row19_col19 {\n",
       "            color:  blue;\n",
       "        }</style><table id=\"T_353796ca_6fa4_11ea_9207_fcaa14259c19\" ><thead>    <tr>        <th class=\"blank level0\" ></th>        <th class=\"col_heading level0 col0\" >machine-learning-model</th>        <th class=\"col_heading level0 col1\" >statistics</th>        <th class=\"col_heading level0 col2\" >clustering</th>        <th class=\"col_heading level0 col3\" >predictive-modeling</th>        <th class=\"col_heading level0 col4\" >r</th>        <th class=\"col_heading level0 col5\" >dataset</th>        <th class=\"col_heading level0 col6\" >regression</th>        <th class=\"col_heading level0 col7\" >pandas</th>        <th class=\"col_heading level0 col8\" >lstm</th>        <th class=\"col_heading level0 col9\" >time-series</th>        <th class=\"col_heading level0 col10\" >cnn</th>        <th class=\"col_heading level0 col11\" >nlp</th>        <th class=\"col_heading level0 col12\" >scikit-learn</th>        <th class=\"col_heading level0 col13\" >tensorflow</th>        <th class=\"col_heading level0 col14\" >classification</th>        <th class=\"col_heading level0 col15\" >keras</th>        <th class=\"col_heading level0 col16\" >neural-network</th>        <th class=\"col_heading level0 col17\" >deep-learning</th>        <th class=\"col_heading level0 col18\" >python</th>        <th class=\"col_heading level0 col19\" >machine-learning</th>    </tr></thead><tbody>\n",
       "                <tr>\n",
       "                        <th id=\"T_353796ca_6fa4_11ea_9207_fcaa14259c19level0_row0\" class=\"row_heading level0 row0\" >machine-learning-model</th>\n",
       "                        <td id=\"T_353796ca_6fa4_11ea_9207_fcaa14259c19row0_col0\" class=\"data row0 col0\" >224</td>\n",
       "                        <td id=\"T_353796ca_6fa4_11ea_9207_fcaa14259c19row0_col1\" class=\"data row0 col1\" >3</td>\n",
       "                        <td id=\"T_353796ca_6fa4_11ea_9207_fcaa14259c19row0_col2\" class=\"data row0 col2\" >3</td>\n",
       "                        <td id=\"T_353796ca_6fa4_11ea_9207_fcaa14259c19row0_col3\" class=\"data row0 col3\" >21</td>\n",
       "                        <td id=\"T_353796ca_6fa4_11ea_9207_fcaa14259c19row0_col4\" class=\"data row0 col4\" >7</td>\n",
       "                        <td id=\"T_353796ca_6fa4_11ea_9207_fcaa14259c19row0_col5\" class=\"data row0 col5\" >12</td>\n",
       "                        <td id=\"T_353796ca_6fa4_11ea_9207_fcaa14259c19row0_col6\" class=\"data row0 col6\" >8</td>\n",
       "                        <td id=\"T_353796ca_6fa4_11ea_9207_fcaa14259c19row0_col7\" class=\"data row0 col7\" >4</td>\n",
       "                        <td id=\"T_353796ca_6fa4_11ea_9207_fcaa14259c19row0_col8\" class=\"data row0 col8\" >5</td>\n",
       "                        <td id=\"T_353796ca_6fa4_11ea_9207_fcaa14259c19row0_col9\" class=\"data row0 col9\" >7</td>\n",
       "                        <td id=\"T_353796ca_6fa4_11ea_9207_fcaa14259c19row0_col10\" class=\"data row0 col10\" >4</td>\n",
       "                        <td id=\"T_353796ca_6fa4_11ea_9207_fcaa14259c19row0_col11\" class=\"data row0 col11\" >4</td>\n",
       "                        <td id=\"T_353796ca_6fa4_11ea_9207_fcaa14259c19row0_col12\" class=\"data row0 col12\" >18</td>\n",
       "                        <td id=\"T_353796ca_6fa4_11ea_9207_fcaa14259c19row0_col13\" class=\"data row0 col13\" >9</td>\n",
       "                        <td id=\"T_353796ca_6fa4_11ea_9207_fcaa14259c19row0_col14\" class=\"data row0 col14\" >21</td>\n",
       "                        <td id=\"T_353796ca_6fa4_11ea_9207_fcaa14259c19row0_col15\" class=\"data row0 col15\" >17</td>\n",
       "                        <td id=\"T_353796ca_6fa4_11ea_9207_fcaa14259c19row0_col16\" class=\"data row0 col16\" >10</td>\n",
       "                        <td id=\"T_353796ca_6fa4_11ea_9207_fcaa14259c19row0_col17\" class=\"data row0 col17\" >19</td>\n",
       "                        <td id=\"T_353796ca_6fa4_11ea_9207_fcaa14259c19row0_col18\" class=\"data row0 col18\" >37</td>\n",
       "                        <td id=\"T_353796ca_6fa4_11ea_9207_fcaa14259c19row0_col19\" class=\"data row0 col19\" >139</td>\n",
       "            </tr>\n",
       "            <tr>\n",
       "                        <th id=\"T_353796ca_6fa4_11ea_9207_fcaa14259c19level0_row1\" class=\"row_heading level0 row1\" >statistics</th>\n",
       "                        <td id=\"T_353796ca_6fa4_11ea_9207_fcaa14259c19row1_col0\" class=\"data row1 col0\" >3</td>\n",
       "                        <td id=\"T_353796ca_6fa4_11ea_9207_fcaa14259c19row1_col1\" class=\"data row1 col1\" >234</td>\n",
       "                        <td id=\"T_353796ca_6fa4_11ea_9207_fcaa14259c19row1_col2\" class=\"data row1 col2\" >3</td>\n",
       "                        <td id=\"T_353796ca_6fa4_11ea_9207_fcaa14259c19row1_col3\" class=\"data row1 col3\" >16</td>\n",
       "                        <td id=\"T_353796ca_6fa4_11ea_9207_fcaa14259c19row1_col4\" class=\"data row1 col4\" >16</td>\n",
       "                        <td id=\"T_353796ca_6fa4_11ea_9207_fcaa14259c19row1_col5\" class=\"data row1 col5\" >17</td>\n",
       "                        <td id=\"T_353796ca_6fa4_11ea_9207_fcaa14259c19row1_col6\" class=\"data row1 col6\" >16</td>\n",
       "                        <td id=\"T_353796ca_6fa4_11ea_9207_fcaa14259c19row1_col7\" class=\"data row1 col7\" >3</td>\n",
       "                        <td id=\"T_353796ca_6fa4_11ea_9207_fcaa14259c19row1_col8\" class=\"data row1 col8\" >1</td>\n",
       "                        <td id=\"T_353796ca_6fa4_11ea_9207_fcaa14259c19row1_col9\" class=\"data row1 col9\" >22</td>\n",
       "                        <td id=\"T_353796ca_6fa4_11ea_9207_fcaa14259c19row1_col10\" class=\"data row1 col10\" >1</td>\n",
       "                        <td id=\"T_353796ca_6fa4_11ea_9207_fcaa14259c19row1_col11\" class=\"data row1 col11\" >3</td>\n",
       "                        <td id=\"T_353796ca_6fa4_11ea_9207_fcaa14259c19row1_col12\" class=\"data row1 col12\" >6</td>\n",
       "                        <td id=\"T_353796ca_6fa4_11ea_9207_fcaa14259c19row1_col13\" class=\"data row1 col13\" >0</td>\n",
       "                        <td id=\"T_353796ca_6fa4_11ea_9207_fcaa14259c19row1_col14\" class=\"data row1 col14\" >19</td>\n",
       "                        <td id=\"T_353796ca_6fa4_11ea_9207_fcaa14259c19row1_col15\" class=\"data row1 col15\" >3</td>\n",
       "                        <td id=\"T_353796ca_6fa4_11ea_9207_fcaa14259c19row1_col16\" class=\"data row1 col16\" >11</td>\n",
       "                        <td id=\"T_353796ca_6fa4_11ea_9207_fcaa14259c19row1_col17\" class=\"data row1 col17\" >12</td>\n",
       "                        <td id=\"T_353796ca_6fa4_11ea_9207_fcaa14259c19row1_col18\" class=\"data row1 col18\" >35</td>\n",
       "                        <td id=\"T_353796ca_6fa4_11ea_9207_fcaa14259c19row1_col19\" class=\"data row1 col19\" >89</td>\n",
       "            </tr>\n",
       "            <tr>\n",
       "                        <th id=\"T_353796ca_6fa4_11ea_9207_fcaa14259c19level0_row2\" class=\"row_heading level0 row2\" >clustering</th>\n",
       "                        <td id=\"T_353796ca_6fa4_11ea_9207_fcaa14259c19row2_col0\" class=\"data row2 col0\" >3</td>\n",
       "                        <td id=\"T_353796ca_6fa4_11ea_9207_fcaa14259c19row2_col1\" class=\"data row2 col1\" >3</td>\n",
       "                        <td id=\"T_353796ca_6fa4_11ea_9207_fcaa14259c19row2_col2\" class=\"data row2 col2\" >257</td>\n",
       "                        <td id=\"T_353796ca_6fa4_11ea_9207_fcaa14259c19row2_col3\" class=\"data row2 col3\" >0</td>\n",
       "                        <td id=\"T_353796ca_6fa4_11ea_9207_fcaa14259c19row2_col4\" class=\"data row2 col4\" >16</td>\n",
       "                        <td id=\"T_353796ca_6fa4_11ea_9207_fcaa14259c19row2_col5\" class=\"data row2 col5\" >5</td>\n",
       "                        <td id=\"T_353796ca_6fa4_11ea_9207_fcaa14259c19row2_col6\" class=\"data row2 col6\" >2</td>\n",
       "                        <td id=\"T_353796ca_6fa4_11ea_9207_fcaa14259c19row2_col7\" class=\"data row2 col7\" >5</td>\n",
       "                        <td id=\"T_353796ca_6fa4_11ea_9207_fcaa14259c19row2_col8\" class=\"data row2 col8\" >3</td>\n",
       "                        <td id=\"T_353796ca_6fa4_11ea_9207_fcaa14259c19row2_col9\" class=\"data row2 col9\" >20</td>\n",
       "                        <td id=\"T_353796ca_6fa4_11ea_9207_fcaa14259c19row2_col10\" class=\"data row2 col10\" >0</td>\n",
       "                        <td id=\"T_353796ca_6fa4_11ea_9207_fcaa14259c19row2_col11\" class=\"data row2 col11\" >9</td>\n",
       "                        <td id=\"T_353796ca_6fa4_11ea_9207_fcaa14259c19row2_col12\" class=\"data row2 col12\" >24</td>\n",
       "                        <td id=\"T_353796ca_6fa4_11ea_9207_fcaa14259c19row2_col13\" class=\"data row2 col13\" >0</td>\n",
       "                        <td id=\"T_353796ca_6fa4_11ea_9207_fcaa14259c19row2_col14\" class=\"data row2 col14\" >12</td>\n",
       "                        <td id=\"T_353796ca_6fa4_11ea_9207_fcaa14259c19row2_col15\" class=\"data row2 col15\" >0</td>\n",
       "                        <td id=\"T_353796ca_6fa4_11ea_9207_fcaa14259c19row2_col16\" class=\"data row2 col16\" >8</td>\n",
       "                        <td id=\"T_353796ca_6fa4_11ea_9207_fcaa14259c19row2_col17\" class=\"data row2 col17\" >2</td>\n",
       "                        <td id=\"T_353796ca_6fa4_11ea_9207_fcaa14259c19row2_col18\" class=\"data row2 col18\" >45</td>\n",
       "                        <td id=\"T_353796ca_6fa4_11ea_9207_fcaa14259c19row2_col19\" class=\"data row2 col19\" >61</td>\n",
       "            </tr>\n",
       "            <tr>\n",
       "                        <th id=\"T_353796ca_6fa4_11ea_9207_fcaa14259c19level0_row3\" class=\"row_heading level0 row3\" >predictive-modeling</th>\n",
       "                        <td id=\"T_353796ca_6fa4_11ea_9207_fcaa14259c19row3_col0\" class=\"data row3 col0\" >21</td>\n",
       "                        <td id=\"T_353796ca_6fa4_11ea_9207_fcaa14259c19row3_col1\" class=\"data row3 col1\" >16</td>\n",
       "                        <td id=\"T_353796ca_6fa4_11ea_9207_fcaa14259c19row3_col2\" class=\"data row3 col2\" >0</td>\n",
       "                        <td id=\"T_353796ca_6fa4_11ea_9207_fcaa14259c19row3_col3\" class=\"data row3 col3\" >265</td>\n",
       "                        <td id=\"T_353796ca_6fa4_11ea_9207_fcaa14259c19row3_col4\" class=\"data row3 col4\" >13</td>\n",
       "                        <td id=\"T_353796ca_6fa4_11ea_9207_fcaa14259c19row3_col5\" class=\"data row3 col5\" >7</td>\n",
       "                        <td id=\"T_353796ca_6fa4_11ea_9207_fcaa14259c19row3_col6\" class=\"data row3 col6\" >28</td>\n",
       "                        <td id=\"T_353796ca_6fa4_11ea_9207_fcaa14259c19row3_col7\" class=\"data row3 col7\" >4</td>\n",
       "                        <td id=\"T_353796ca_6fa4_11ea_9207_fcaa14259c19row3_col8\" class=\"data row3 col8\" >13</td>\n",
       "                        <td id=\"T_353796ca_6fa4_11ea_9207_fcaa14259c19row3_col9\" class=\"data row3 col9\" >31</td>\n",
       "                        <td id=\"T_353796ca_6fa4_11ea_9207_fcaa14259c19row3_col10\" class=\"data row3 col10\" >6</td>\n",
       "                        <td id=\"T_353796ca_6fa4_11ea_9207_fcaa14259c19row3_col11\" class=\"data row3 col11\" >1</td>\n",
       "                        <td id=\"T_353796ca_6fa4_11ea_9207_fcaa14259c19row3_col12\" class=\"data row3 col12\" >12</td>\n",
       "                        <td id=\"T_353796ca_6fa4_11ea_9207_fcaa14259c19row3_col13\" class=\"data row3 col13\" >6</td>\n",
       "                        <td id=\"T_353796ca_6fa4_11ea_9207_fcaa14259c19row3_col14\" class=\"data row3 col14\" >27</td>\n",
       "                        <td id=\"T_353796ca_6fa4_11ea_9207_fcaa14259c19row3_col15\" class=\"data row3 col15\" >11</td>\n",
       "                        <td id=\"T_353796ca_6fa4_11ea_9207_fcaa14259c19row3_col16\" class=\"data row3 col16\" >13</td>\n",
       "                        <td id=\"T_353796ca_6fa4_11ea_9207_fcaa14259c19row3_col17\" class=\"data row3 col17\" >32</td>\n",
       "                        <td id=\"T_353796ca_6fa4_11ea_9207_fcaa14259c19row3_col18\" class=\"data row3 col18\" >35</td>\n",
       "                        <td id=\"T_353796ca_6fa4_11ea_9207_fcaa14259c19row3_col19\" class=\"data row3 col19\" >123</td>\n",
       "            </tr>\n",
       "            <tr>\n",
       "                        <th id=\"T_353796ca_6fa4_11ea_9207_fcaa14259c19level0_row4\" class=\"row_heading level0 row4\" >r</th>\n",
       "                        <td id=\"T_353796ca_6fa4_11ea_9207_fcaa14259c19row4_col0\" class=\"data row4 col0\" >7</td>\n",
       "                        <td id=\"T_353796ca_6fa4_11ea_9207_fcaa14259c19row4_col1\" class=\"data row4 col1\" >16</td>\n",
       "                        <td id=\"T_353796ca_6fa4_11ea_9207_fcaa14259c19row4_col2\" class=\"data row4 col2\" >16</td>\n",
       "                        <td id=\"T_353796ca_6fa4_11ea_9207_fcaa14259c19row4_col3\" class=\"data row4 col3\" >13</td>\n",
       "                        <td id=\"T_353796ca_6fa4_11ea_9207_fcaa14259c19row4_col4\" class=\"data row4 col4\" >268</td>\n",
       "                        <td id=\"T_353796ca_6fa4_11ea_9207_fcaa14259c19row4_col5\" class=\"data row4 col5\" >6</td>\n",
       "                        <td id=\"T_353796ca_6fa4_11ea_9207_fcaa14259c19row4_col6\" class=\"data row4 col6\" >10</td>\n",
       "                        <td id=\"T_353796ca_6fa4_11ea_9207_fcaa14259c19row4_col7\" class=\"data row4 col7\" >2</td>\n",
       "                        <td id=\"T_353796ca_6fa4_11ea_9207_fcaa14259c19row4_col8\" class=\"data row4 col8\" >3</td>\n",
       "                        <td id=\"T_353796ca_6fa4_11ea_9207_fcaa14259c19row4_col9\" class=\"data row4 col9\" >22</td>\n",
       "                        <td id=\"T_353796ca_6fa4_11ea_9207_fcaa14259c19row4_col10\" class=\"data row4 col10\" >2</td>\n",
       "                        <td id=\"T_353796ca_6fa4_11ea_9207_fcaa14259c19row4_col11\" class=\"data row4 col11\" >4</td>\n",
       "                        <td id=\"T_353796ca_6fa4_11ea_9207_fcaa14259c19row4_col12\" class=\"data row4 col12\" >1</td>\n",
       "                        <td id=\"T_353796ca_6fa4_11ea_9207_fcaa14259c19row4_col13\" class=\"data row4 col13\" >1</td>\n",
       "                        <td id=\"T_353796ca_6fa4_11ea_9207_fcaa14259c19row4_col14\" class=\"data row4 col14\" >10</td>\n",
       "                        <td id=\"T_353796ca_6fa4_11ea_9207_fcaa14259c19row4_col15\" class=\"data row4 col15\" >10</td>\n",
       "                        <td id=\"T_353796ca_6fa4_11ea_9207_fcaa14259c19row4_col16\" class=\"data row4 col16\" >9</td>\n",
       "                        <td id=\"T_353796ca_6fa4_11ea_9207_fcaa14259c19row4_col17\" class=\"data row4 col17\" >5</td>\n",
       "                        <td id=\"T_353796ca_6fa4_11ea_9207_fcaa14259c19row4_col18\" class=\"data row4 col18\" >24</td>\n",
       "                        <td id=\"T_353796ca_6fa4_11ea_9207_fcaa14259c19row4_col19\" class=\"data row4 col19\" >63</td>\n",
       "            </tr>\n",
       "            <tr>\n",
       "                        <th id=\"T_353796ca_6fa4_11ea_9207_fcaa14259c19level0_row5\" class=\"row_heading level0 row5\" >dataset</th>\n",
       "                        <td id=\"T_353796ca_6fa4_11ea_9207_fcaa14259c19row5_col0\" class=\"data row5 col0\" >12</td>\n",
       "                        <td id=\"T_353796ca_6fa4_11ea_9207_fcaa14259c19row5_col1\" class=\"data row5 col1\" >17</td>\n",
       "                        <td id=\"T_353796ca_6fa4_11ea_9207_fcaa14259c19row5_col2\" class=\"data row5 col2\" >5</td>\n",
       "                        <td id=\"T_353796ca_6fa4_11ea_9207_fcaa14259c19row5_col3\" class=\"data row5 col3\" >7</td>\n",
       "                        <td id=\"T_353796ca_6fa4_11ea_9207_fcaa14259c19row5_col4\" class=\"data row5 col4\" >6</td>\n",
       "                        <td id=\"T_353796ca_6fa4_11ea_9207_fcaa14259c19row5_col5\" class=\"data row5 col5\" >340</td>\n",
       "                        <td id=\"T_353796ca_6fa4_11ea_9207_fcaa14259c19row5_col6\" class=\"data row5 col6\" >6</td>\n",
       "                        <td id=\"T_353796ca_6fa4_11ea_9207_fcaa14259c19row5_col7\" class=\"data row5 col7\" >14</td>\n",
       "                        <td id=\"T_353796ca_6fa4_11ea_9207_fcaa14259c19row5_col8\" class=\"data row5 col8\" >7</td>\n",
       "                        <td id=\"T_353796ca_6fa4_11ea_9207_fcaa14259c19row5_col9\" class=\"data row5 col9\" >6</td>\n",
       "                        <td id=\"T_353796ca_6fa4_11ea_9207_fcaa14259c19row5_col10\" class=\"data row5 col10\" >11</td>\n",
       "                        <td id=\"T_353796ca_6fa4_11ea_9207_fcaa14259c19row5_col11\" class=\"data row5 col11\" >11</td>\n",
       "                        <td id=\"T_353796ca_6fa4_11ea_9207_fcaa14259c19row5_col12\" class=\"data row5 col12\" >9</td>\n",
       "                        <td id=\"T_353796ca_6fa4_11ea_9207_fcaa14259c19row5_col13\" class=\"data row5 col13\" >9</td>\n",
       "                        <td id=\"T_353796ca_6fa4_11ea_9207_fcaa14259c19row5_col14\" class=\"data row5 col14\" >28</td>\n",
       "                        <td id=\"T_353796ca_6fa4_11ea_9207_fcaa14259c19row5_col15\" class=\"data row5 col15\" >13</td>\n",
       "                        <td id=\"T_353796ca_6fa4_11ea_9207_fcaa14259c19row5_col16\" class=\"data row5 col16\" >20</td>\n",
       "                        <td id=\"T_353796ca_6fa4_11ea_9207_fcaa14259c19row5_col17\" class=\"data row5 col17\" >32</td>\n",
       "                        <td id=\"T_353796ca_6fa4_11ea_9207_fcaa14259c19row5_col18\" class=\"data row5 col18\" >53</td>\n",
       "                        <td id=\"T_353796ca_6fa4_11ea_9207_fcaa14259c19row5_col19\" class=\"data row5 col19\" >99</td>\n",
       "            </tr>\n",
       "            <tr>\n",
       "                        <th id=\"T_353796ca_6fa4_11ea_9207_fcaa14259c19level0_row6\" class=\"row_heading level0 row6\" >regression</th>\n",
       "                        <td id=\"T_353796ca_6fa4_11ea_9207_fcaa14259c19row6_col0\" class=\"data row6 col0\" >8</td>\n",
       "                        <td id=\"T_353796ca_6fa4_11ea_9207_fcaa14259c19row6_col1\" class=\"data row6 col1\" >16</td>\n",
       "                        <td id=\"T_353796ca_6fa4_11ea_9207_fcaa14259c19row6_col2\" class=\"data row6 col2\" >2</td>\n",
       "                        <td id=\"T_353796ca_6fa4_11ea_9207_fcaa14259c19row6_col3\" class=\"data row6 col3\" >28</td>\n",
       "                        <td id=\"T_353796ca_6fa4_11ea_9207_fcaa14259c19row6_col4\" class=\"data row6 col4\" >10</td>\n",
       "                        <td id=\"T_353796ca_6fa4_11ea_9207_fcaa14259c19row6_col5\" class=\"data row6 col5\" >6</td>\n",
       "                        <td id=\"T_353796ca_6fa4_11ea_9207_fcaa14259c19row6_col6\" class=\"data row6 col6\" >347</td>\n",
       "                        <td id=\"T_353796ca_6fa4_11ea_9207_fcaa14259c19row6_col7\" class=\"data row6 col7\" >6</td>\n",
       "                        <td id=\"T_353796ca_6fa4_11ea_9207_fcaa14259c19row6_col8\" class=\"data row6 col8\" >11</td>\n",
       "                        <td id=\"T_353796ca_6fa4_11ea_9207_fcaa14259c19row6_col9\" class=\"data row6 col9\" >24</td>\n",
       "                        <td id=\"T_353796ca_6fa4_11ea_9207_fcaa14259c19row6_col10\" class=\"data row6 col10\" >6</td>\n",
       "                        <td id=\"T_353796ca_6fa4_11ea_9207_fcaa14259c19row6_col11\" class=\"data row6 col11\" >2</td>\n",
       "                        <td id=\"T_353796ca_6fa4_11ea_9207_fcaa14259c19row6_col12\" class=\"data row6 col12\" >37</td>\n",
       "                        <td id=\"T_353796ca_6fa4_11ea_9207_fcaa14259c19row6_col13\" class=\"data row6 col13\" >9</td>\n",
       "                        <td id=\"T_353796ca_6fa4_11ea_9207_fcaa14259c19row6_col14\" class=\"data row6 col14\" >34</td>\n",
       "                        <td id=\"T_353796ca_6fa4_11ea_9207_fcaa14259c19row6_col15\" class=\"data row6 col15\" >31</td>\n",
       "                        <td id=\"T_353796ca_6fa4_11ea_9207_fcaa14259c19row6_col16\" class=\"data row6 col16\" >42</td>\n",
       "                        <td id=\"T_353796ca_6fa4_11ea_9207_fcaa14259c19row6_col17\" class=\"data row6 col17\" >21</td>\n",
       "                        <td id=\"T_353796ca_6fa4_11ea_9207_fcaa14259c19row6_col18\" class=\"data row6 col18\" >59</td>\n",
       "                        <td id=\"T_353796ca_6fa4_11ea_9207_fcaa14259c19row6_col19\" class=\"data row6 col19\" >119</td>\n",
       "            </tr>\n",
       "            <tr>\n",
       "                        <th id=\"T_353796ca_6fa4_11ea_9207_fcaa14259c19level0_row7\" class=\"row_heading level0 row7\" >pandas</th>\n",
       "                        <td id=\"T_353796ca_6fa4_11ea_9207_fcaa14259c19row7_col0\" class=\"data row7 col0\" >4</td>\n",
       "                        <td id=\"T_353796ca_6fa4_11ea_9207_fcaa14259c19row7_col1\" class=\"data row7 col1\" >3</td>\n",
       "                        <td id=\"T_353796ca_6fa4_11ea_9207_fcaa14259c19row7_col2\" class=\"data row7 col2\" >5</td>\n",
       "                        <td id=\"T_353796ca_6fa4_11ea_9207_fcaa14259c19row7_col3\" class=\"data row7 col3\" >4</td>\n",
       "                        <td id=\"T_353796ca_6fa4_11ea_9207_fcaa14259c19row7_col4\" class=\"data row7 col4\" >2</td>\n",
       "                        <td id=\"T_353796ca_6fa4_11ea_9207_fcaa14259c19row7_col5\" class=\"data row7 col5\" >14</td>\n",
       "                        <td id=\"T_353796ca_6fa4_11ea_9207_fcaa14259c19row7_col6\" class=\"data row7 col6\" >6</td>\n",
       "                        <td id=\"T_353796ca_6fa4_11ea_9207_fcaa14259c19row7_col7\" class=\"data row7 col7\" >354</td>\n",
       "                        <td id=\"T_353796ca_6fa4_11ea_9207_fcaa14259c19row7_col8\" class=\"data row7 col8\" >7</td>\n",
       "                        <td id=\"T_353796ca_6fa4_11ea_9207_fcaa14259c19row7_col9\" class=\"data row7 col9\" >19</td>\n",
       "                        <td id=\"T_353796ca_6fa4_11ea_9207_fcaa14259c19row7_col10\" class=\"data row7 col10\" >1</td>\n",
       "                        <td id=\"T_353796ca_6fa4_11ea_9207_fcaa14259c19row7_col11\" class=\"data row7 col11\" >3</td>\n",
       "                        <td id=\"T_353796ca_6fa4_11ea_9207_fcaa14259c19row7_col12\" class=\"data row7 col12\" >37</td>\n",
       "                        <td id=\"T_353796ca_6fa4_11ea_9207_fcaa14259c19row7_col13\" class=\"data row7 col13\" >3</td>\n",
       "                        <td id=\"T_353796ca_6fa4_11ea_9207_fcaa14259c19row7_col14\" class=\"data row7 col14\" >3</td>\n",
       "                        <td id=\"T_353796ca_6fa4_11ea_9207_fcaa14259c19row7_col15\" class=\"data row7 col15\" >3</td>\n",
       "                        <td id=\"T_353796ca_6fa4_11ea_9207_fcaa14259c19row7_col16\" class=\"data row7 col16\" >1</td>\n",
       "                        <td id=\"T_353796ca_6fa4_11ea_9207_fcaa14259c19row7_col17\" class=\"data row7 col17\" >1</td>\n",
       "                        <td id=\"T_353796ca_6fa4_11ea_9207_fcaa14259c19row7_col18\" class=\"data row7 col18\" >244</td>\n",
       "                        <td id=\"T_353796ca_6fa4_11ea_9207_fcaa14259c19row7_col19\" class=\"data row7 col19\" >62</td>\n",
       "            </tr>\n",
       "            <tr>\n",
       "                        <th id=\"T_353796ca_6fa4_11ea_9207_fcaa14259c19level0_row8\" class=\"row_heading level0 row8\" >lstm</th>\n",
       "                        <td id=\"T_353796ca_6fa4_11ea_9207_fcaa14259c19row8_col0\" class=\"data row8 col0\" >5</td>\n",
       "                        <td id=\"T_353796ca_6fa4_11ea_9207_fcaa14259c19row8_col1\" class=\"data row8 col1\" >1</td>\n",
       "                        <td id=\"T_353796ca_6fa4_11ea_9207_fcaa14259c19row8_col2\" class=\"data row8 col2\" >3</td>\n",
       "                        <td id=\"T_353796ca_6fa4_11ea_9207_fcaa14259c19row8_col3\" class=\"data row8 col3\" >13</td>\n",
       "                        <td id=\"T_353796ca_6fa4_11ea_9207_fcaa14259c19row8_col4\" class=\"data row8 col4\" >3</td>\n",
       "                        <td id=\"T_353796ca_6fa4_11ea_9207_fcaa14259c19row8_col5\" class=\"data row8 col5\" >7</td>\n",
       "                        <td id=\"T_353796ca_6fa4_11ea_9207_fcaa14259c19row8_col6\" class=\"data row8 col6\" >11</td>\n",
       "                        <td id=\"T_353796ca_6fa4_11ea_9207_fcaa14259c19row8_col7\" class=\"data row8 col7\" >7</td>\n",
       "                        <td id=\"T_353796ca_6fa4_11ea_9207_fcaa14259c19row8_col8\" class=\"data row8 col8\" >402</td>\n",
       "                        <td id=\"T_353796ca_6fa4_11ea_9207_fcaa14259c19row8_col9\" class=\"data row8 col9\" >87</td>\n",
       "                        <td id=\"T_353796ca_6fa4_11ea_9207_fcaa14259c19row8_col10\" class=\"data row8 col10\" >24</td>\n",
       "                        <td id=\"T_353796ca_6fa4_11ea_9207_fcaa14259c19row8_col11\" class=\"data row8 col11\" >19</td>\n",
       "                        <td id=\"T_353796ca_6fa4_11ea_9207_fcaa14259c19row8_col12\" class=\"data row8 col12\" >2</td>\n",
       "                        <td id=\"T_353796ca_6fa4_11ea_9207_fcaa14259c19row8_col13\" class=\"data row8 col13\" >43</td>\n",
       "                        <td id=\"T_353796ca_6fa4_11ea_9207_fcaa14259c19row8_col14\" class=\"data row8 col14\" >20</td>\n",
       "                        <td id=\"T_353796ca_6fa4_11ea_9207_fcaa14259c19row8_col15\" class=\"data row8 col15\" >133</td>\n",
       "                        <td id=\"T_353796ca_6fa4_11ea_9207_fcaa14259c19row8_col16\" class=\"data row8 col16\" >69</td>\n",
       "                        <td id=\"T_353796ca_6fa4_11ea_9207_fcaa14259c19row8_col17\" class=\"data row8 col17\" >103</td>\n",
       "                        <td id=\"T_353796ca_6fa4_11ea_9207_fcaa14259c19row8_col18\" class=\"data row8 col18\" >61</td>\n",
       "                        <td id=\"T_353796ca_6fa4_11ea_9207_fcaa14259c19row8_col19\" class=\"data row8 col19\" >71</td>\n",
       "            </tr>\n",
       "            <tr>\n",
       "                        <th id=\"T_353796ca_6fa4_11ea_9207_fcaa14259c19level0_row9\" class=\"row_heading level0 row9\" >time-series</th>\n",
       "                        <td id=\"T_353796ca_6fa4_11ea_9207_fcaa14259c19row9_col0\" class=\"data row9 col0\" >7</td>\n",
       "                        <td id=\"T_353796ca_6fa4_11ea_9207_fcaa14259c19row9_col1\" class=\"data row9 col1\" >22</td>\n",
       "                        <td id=\"T_353796ca_6fa4_11ea_9207_fcaa14259c19row9_col2\" class=\"data row9 col2\" >20</td>\n",
       "                        <td id=\"T_353796ca_6fa4_11ea_9207_fcaa14259c19row9_col3\" class=\"data row9 col3\" >31</td>\n",
       "                        <td id=\"T_353796ca_6fa4_11ea_9207_fcaa14259c19row9_col4\" class=\"data row9 col4\" >22</td>\n",
       "                        <td id=\"T_353796ca_6fa4_11ea_9207_fcaa14259c19row9_col5\" class=\"data row9 col5\" >6</td>\n",
       "                        <td id=\"T_353796ca_6fa4_11ea_9207_fcaa14259c19row9_col6\" class=\"data row9 col6\" >24</td>\n",
       "                        <td id=\"T_353796ca_6fa4_11ea_9207_fcaa14259c19row9_col7\" class=\"data row9 col7\" >19</td>\n",
       "                        <td id=\"T_353796ca_6fa4_11ea_9207_fcaa14259c19row9_col8\" class=\"data row9 col8\" >87</td>\n",
       "                        <td id=\"T_353796ca_6fa4_11ea_9207_fcaa14259c19row9_col9\" class=\"data row9 col9\" >466</td>\n",
       "                        <td id=\"T_353796ca_6fa4_11ea_9207_fcaa14259c19row9_col10\" class=\"data row9 col10\" >8</td>\n",
       "                        <td id=\"T_353796ca_6fa4_11ea_9207_fcaa14259c19row9_col11\" class=\"data row9 col11\" >0</td>\n",
       "                        <td id=\"T_353796ca_6fa4_11ea_9207_fcaa14259c19row9_col12\" class=\"data row9 col12\" >12</td>\n",
       "                        <td id=\"T_353796ca_6fa4_11ea_9207_fcaa14259c19row9_col13\" class=\"data row9 col13\" >9</td>\n",
       "                        <td id=\"T_353796ca_6fa4_11ea_9207_fcaa14259c19row9_col14\" class=\"data row9 col14\" >25</td>\n",
       "                        <td id=\"T_353796ca_6fa4_11ea_9207_fcaa14259c19row9_col15\" class=\"data row9 col15\" >51</td>\n",
       "                        <td id=\"T_353796ca_6fa4_11ea_9207_fcaa14259c19row9_col16\" class=\"data row9 col16\" >33</td>\n",
       "                        <td id=\"T_353796ca_6fa4_11ea_9207_fcaa14259c19row9_col17\" class=\"data row9 col17\" >44</td>\n",
       "                        <td id=\"T_353796ca_6fa4_11ea_9207_fcaa14259c19row9_col18\" class=\"data row9 col18\" >105</td>\n",
       "                        <td id=\"T_353796ca_6fa4_11ea_9207_fcaa14259c19row9_col19\" class=\"data row9 col19\" >131</td>\n",
       "            </tr>\n",
       "            <tr>\n",
       "                        <th id=\"T_353796ca_6fa4_11ea_9207_fcaa14259c19level0_row10\" class=\"row_heading level0 row10\" >cnn</th>\n",
       "                        <td id=\"T_353796ca_6fa4_11ea_9207_fcaa14259c19row10_col0\" class=\"data row10 col0\" >4</td>\n",
       "                        <td id=\"T_353796ca_6fa4_11ea_9207_fcaa14259c19row10_col1\" class=\"data row10 col1\" >1</td>\n",
       "                        <td id=\"T_353796ca_6fa4_11ea_9207_fcaa14259c19row10_col2\" class=\"data row10 col2\" >0</td>\n",
       "                        <td id=\"T_353796ca_6fa4_11ea_9207_fcaa14259c19row10_col3\" class=\"data row10 col3\" >6</td>\n",
       "                        <td id=\"T_353796ca_6fa4_11ea_9207_fcaa14259c19row10_col4\" class=\"data row10 col4\" >2</td>\n",
       "                        <td id=\"T_353796ca_6fa4_11ea_9207_fcaa14259c19row10_col5\" class=\"data row10 col5\" >11</td>\n",
       "                        <td id=\"T_353796ca_6fa4_11ea_9207_fcaa14259c19row10_col6\" class=\"data row10 col6\" >6</td>\n",
       "                        <td id=\"T_353796ca_6fa4_11ea_9207_fcaa14259c19row10_col7\" class=\"data row10 col7\" >1</td>\n",
       "                        <td id=\"T_353796ca_6fa4_11ea_9207_fcaa14259c19row10_col8\" class=\"data row10 col8\" >24</td>\n",
       "                        <td id=\"T_353796ca_6fa4_11ea_9207_fcaa14259c19row10_col9\" class=\"data row10 col9\" >8</td>\n",
       "                        <td id=\"T_353796ca_6fa4_11ea_9207_fcaa14259c19row10_col10\" class=\"data row10 col10\" >489</td>\n",
       "                        <td id=\"T_353796ca_6fa4_11ea_9207_fcaa14259c19row10_col11\" class=\"data row10 col11\" >7</td>\n",
       "                        <td id=\"T_353796ca_6fa4_11ea_9207_fcaa14259c19row10_col12\" class=\"data row10 col12\" >0</td>\n",
       "                        <td id=\"T_353796ca_6fa4_11ea_9207_fcaa14259c19row10_col13\" class=\"data row10 col13\" >57</td>\n",
       "                        <td id=\"T_353796ca_6fa4_11ea_9207_fcaa14259c19row10_col14\" class=\"data row10 col14\" >20</td>\n",
       "                        <td id=\"T_353796ca_6fa4_11ea_9207_fcaa14259c19row10_col15\" class=\"data row10 col15\" >116</td>\n",
       "                        <td id=\"T_353796ca_6fa4_11ea_9207_fcaa14259c19row10_col16\" class=\"data row10 col16\" >118</td>\n",
       "                        <td id=\"T_353796ca_6fa4_11ea_9207_fcaa14259c19row10_col17\" class=\"data row10 col17\" >160</td>\n",
       "                        <td id=\"T_353796ca_6fa4_11ea_9207_fcaa14259c19row10_col18\" class=\"data row10 col18\" >62</td>\n",
       "                        <td id=\"T_353796ca_6fa4_11ea_9207_fcaa14259c19row10_col19\" class=\"data row10 col19\" >124</td>\n",
       "            </tr>\n",
       "            <tr>\n",
       "                        <th id=\"T_353796ca_6fa4_11ea_9207_fcaa14259c19level0_row11\" class=\"row_heading level0 row11\" >nlp</th>\n",
       "                        <td id=\"T_353796ca_6fa4_11ea_9207_fcaa14259c19row11_col0\" class=\"data row11 col0\" >4</td>\n",
       "                        <td id=\"T_353796ca_6fa4_11ea_9207_fcaa14259c19row11_col1\" class=\"data row11 col1\" >3</td>\n",
       "                        <td id=\"T_353796ca_6fa4_11ea_9207_fcaa14259c19row11_col2\" class=\"data row11 col2\" >9</td>\n",
       "                        <td id=\"T_353796ca_6fa4_11ea_9207_fcaa14259c19row11_col3\" class=\"data row11 col3\" >1</td>\n",
       "                        <td id=\"T_353796ca_6fa4_11ea_9207_fcaa14259c19row11_col4\" class=\"data row11 col4\" >4</td>\n",
       "                        <td id=\"T_353796ca_6fa4_11ea_9207_fcaa14259c19row11_col5\" class=\"data row11 col5\" >11</td>\n",
       "                        <td id=\"T_353796ca_6fa4_11ea_9207_fcaa14259c19row11_col6\" class=\"data row11 col6\" >2</td>\n",
       "                        <td id=\"T_353796ca_6fa4_11ea_9207_fcaa14259c19row11_col7\" class=\"data row11 col7\" >3</td>\n",
       "                        <td id=\"T_353796ca_6fa4_11ea_9207_fcaa14259c19row11_col8\" class=\"data row11 col8\" >19</td>\n",
       "                        <td id=\"T_353796ca_6fa4_11ea_9207_fcaa14259c19row11_col9\" class=\"data row11 col9\" >0</td>\n",
       "                        <td id=\"T_353796ca_6fa4_11ea_9207_fcaa14259c19row11_col10\" class=\"data row11 col10\" >7</td>\n",
       "                        <td id=\"T_353796ca_6fa4_11ea_9207_fcaa14259c19row11_col11\" class=\"data row11 col11\" >493</td>\n",
       "                        <td id=\"T_353796ca_6fa4_11ea_9207_fcaa14259c19row11_col12\" class=\"data row11 col12\" >12</td>\n",
       "                        <td id=\"T_353796ca_6fa4_11ea_9207_fcaa14259c19row11_col13\" class=\"data row11 col13\" >11</td>\n",
       "                        <td id=\"T_353796ca_6fa4_11ea_9207_fcaa14259c19row11_col14\" class=\"data row11 col14\" >35</td>\n",
       "                        <td id=\"T_353796ca_6fa4_11ea_9207_fcaa14259c19row11_col15\" class=\"data row11 col15\" >23</td>\n",
       "                        <td id=\"T_353796ca_6fa4_11ea_9207_fcaa14259c19row11_col16\" class=\"data row11 col16\" >24</td>\n",
       "                        <td id=\"T_353796ca_6fa4_11ea_9207_fcaa14259c19row11_col17\" class=\"data row11 col17\" >72</td>\n",
       "                        <td id=\"T_353796ca_6fa4_11ea_9207_fcaa14259c19row11_col18\" class=\"data row11 col18\" >71</td>\n",
       "                        <td id=\"T_353796ca_6fa4_11ea_9207_fcaa14259c19row11_col19\" class=\"data row11 col19\" >113</td>\n",
       "            </tr>\n",
       "            <tr>\n",
       "                        <th id=\"T_353796ca_6fa4_11ea_9207_fcaa14259c19level0_row12\" class=\"row_heading level0 row12\" >scikit-learn</th>\n",
       "                        <td id=\"T_353796ca_6fa4_11ea_9207_fcaa14259c19row12_col0\" class=\"data row12 col0\" >18</td>\n",
       "                        <td id=\"T_353796ca_6fa4_11ea_9207_fcaa14259c19row12_col1\" class=\"data row12 col1\" >6</td>\n",
       "                        <td id=\"T_353796ca_6fa4_11ea_9207_fcaa14259c19row12_col2\" class=\"data row12 col2\" >24</td>\n",
       "                        <td id=\"T_353796ca_6fa4_11ea_9207_fcaa14259c19row12_col3\" class=\"data row12 col3\" >12</td>\n",
       "                        <td id=\"T_353796ca_6fa4_11ea_9207_fcaa14259c19row12_col4\" class=\"data row12 col4\" >1</td>\n",
       "                        <td id=\"T_353796ca_6fa4_11ea_9207_fcaa14259c19row12_col5\" class=\"data row12 col5\" >9</td>\n",
       "                        <td id=\"T_353796ca_6fa4_11ea_9207_fcaa14259c19row12_col6\" class=\"data row12 col6\" >37</td>\n",
       "                        <td id=\"T_353796ca_6fa4_11ea_9207_fcaa14259c19row12_col7\" class=\"data row12 col7\" >37</td>\n",
       "                        <td id=\"T_353796ca_6fa4_11ea_9207_fcaa14259c19row12_col8\" class=\"data row12 col8\" >2</td>\n",
       "                        <td id=\"T_353796ca_6fa4_11ea_9207_fcaa14259c19row12_col9\" class=\"data row12 col9\" >12</td>\n",
       "                        <td id=\"T_353796ca_6fa4_11ea_9207_fcaa14259c19row12_col10\" class=\"data row12 col10\" >0</td>\n",
       "                        <td id=\"T_353796ca_6fa4_11ea_9207_fcaa14259c19row12_col11\" class=\"data row12 col11\" >12</td>\n",
       "                        <td id=\"T_353796ca_6fa4_11ea_9207_fcaa14259c19row12_col12\" class=\"data row12 col12\" >540</td>\n",
       "                        <td id=\"T_353796ca_6fa4_11ea_9207_fcaa14259c19row12_col13\" class=\"data row12 col13\" >15</td>\n",
       "                        <td id=\"T_353796ca_6fa4_11ea_9207_fcaa14259c19row12_col14\" class=\"data row12 col14\" >47</td>\n",
       "                        <td id=\"T_353796ca_6fa4_11ea_9207_fcaa14259c19row12_col15\" class=\"data row12 col15\" >34</td>\n",
       "                        <td id=\"T_353796ca_6fa4_11ea_9207_fcaa14259c19row12_col16\" class=\"data row12 col16\" >24</td>\n",
       "                        <td id=\"T_353796ca_6fa4_11ea_9207_fcaa14259c19row12_col17\" class=\"data row12 col17\" >16</td>\n",
       "                        <td id=\"T_353796ca_6fa4_11ea_9207_fcaa14259c19row12_col18\" class=\"data row12 col18\" >235</td>\n",
       "                        <td id=\"T_353796ca_6fa4_11ea_9207_fcaa14259c19row12_col19\" class=\"data row12 col19\" >188</td>\n",
       "            </tr>\n",
       "            <tr>\n",
       "                        <th id=\"T_353796ca_6fa4_11ea_9207_fcaa14259c19level0_row13\" class=\"row_heading level0 row13\" >tensorflow</th>\n",
       "                        <td id=\"T_353796ca_6fa4_11ea_9207_fcaa14259c19row13_col0\" class=\"data row13 col0\" >9</td>\n",
       "                        <td id=\"T_353796ca_6fa4_11ea_9207_fcaa14259c19row13_col1\" class=\"data row13 col1\" >0</td>\n",
       "                        <td id=\"T_353796ca_6fa4_11ea_9207_fcaa14259c19row13_col2\" class=\"data row13 col2\" >0</td>\n",
       "                        <td id=\"T_353796ca_6fa4_11ea_9207_fcaa14259c19row13_col3\" class=\"data row13 col3\" >6</td>\n",
       "                        <td id=\"T_353796ca_6fa4_11ea_9207_fcaa14259c19row13_col4\" class=\"data row13 col4\" >1</td>\n",
       "                        <td id=\"T_353796ca_6fa4_11ea_9207_fcaa14259c19row13_col5\" class=\"data row13 col5\" >9</td>\n",
       "                        <td id=\"T_353796ca_6fa4_11ea_9207_fcaa14259c19row13_col6\" class=\"data row13 col6\" >9</td>\n",
       "                        <td id=\"T_353796ca_6fa4_11ea_9207_fcaa14259c19row13_col7\" class=\"data row13 col7\" >3</td>\n",
       "                        <td id=\"T_353796ca_6fa4_11ea_9207_fcaa14259c19row13_col8\" class=\"data row13 col8\" >43</td>\n",
       "                        <td id=\"T_353796ca_6fa4_11ea_9207_fcaa14259c19row13_col9\" class=\"data row13 col9\" >9</td>\n",
       "                        <td id=\"T_353796ca_6fa4_11ea_9207_fcaa14259c19row13_col10\" class=\"data row13 col10\" >57</td>\n",
       "                        <td id=\"T_353796ca_6fa4_11ea_9207_fcaa14259c19row13_col11\" class=\"data row13 col11\" >11</td>\n",
       "                        <td id=\"T_353796ca_6fa4_11ea_9207_fcaa14259c19row13_col12\" class=\"data row13 col12\" >15</td>\n",
       "                        <td id=\"T_353796ca_6fa4_11ea_9207_fcaa14259c19row13_col13\" class=\"data row13 col13\" >584</td>\n",
       "                        <td id=\"T_353796ca_6fa4_11ea_9207_fcaa14259c19row13_col14\" class=\"data row13 col14\" >20</td>\n",
       "                        <td id=\"T_353796ca_6fa4_11ea_9207_fcaa14259c19row13_col15\" class=\"data row13 col15\" >256</td>\n",
       "                        <td id=\"T_353796ca_6fa4_11ea_9207_fcaa14259c19row13_col16\" class=\"data row13 col16\" >108</td>\n",
       "                        <td id=\"T_353796ca_6fa4_11ea_9207_fcaa14259c19row13_col17\" class=\"data row13 col17\" >136</td>\n",
       "                        <td id=\"T_353796ca_6fa4_11ea_9207_fcaa14259c19row13_col18\" class=\"data row13 col18\" >167</td>\n",
       "                        <td id=\"T_353796ca_6fa4_11ea_9207_fcaa14259c19row13_col19\" class=\"data row13 col19\" >106</td>\n",
       "            </tr>\n",
       "            <tr>\n",
       "                        <th id=\"T_353796ca_6fa4_11ea_9207_fcaa14259c19level0_row14\" class=\"row_heading level0 row14\" >classification</th>\n",
       "                        <td id=\"T_353796ca_6fa4_11ea_9207_fcaa14259c19row14_col0\" class=\"data row14 col0\" >21</td>\n",
       "                        <td id=\"T_353796ca_6fa4_11ea_9207_fcaa14259c19row14_col1\" class=\"data row14 col1\" >19</td>\n",
       "                        <td id=\"T_353796ca_6fa4_11ea_9207_fcaa14259c19row14_col2\" class=\"data row14 col2\" >12</td>\n",
       "                        <td id=\"T_353796ca_6fa4_11ea_9207_fcaa14259c19row14_col3\" class=\"data row14 col3\" >27</td>\n",
       "                        <td id=\"T_353796ca_6fa4_11ea_9207_fcaa14259c19row14_col4\" class=\"data row14 col4\" >10</td>\n",
       "                        <td id=\"T_353796ca_6fa4_11ea_9207_fcaa14259c19row14_col5\" class=\"data row14 col5\" >28</td>\n",
       "                        <td id=\"T_353796ca_6fa4_11ea_9207_fcaa14259c19row14_col6\" class=\"data row14 col6\" >34</td>\n",
       "                        <td id=\"T_353796ca_6fa4_11ea_9207_fcaa14259c19row14_col7\" class=\"data row14 col7\" >3</td>\n",
       "                        <td id=\"T_353796ca_6fa4_11ea_9207_fcaa14259c19row14_col8\" class=\"data row14 col8\" >20</td>\n",
       "                        <td id=\"T_353796ca_6fa4_11ea_9207_fcaa14259c19row14_col9\" class=\"data row14 col9\" >25</td>\n",
       "                        <td id=\"T_353796ca_6fa4_11ea_9207_fcaa14259c19row14_col10\" class=\"data row14 col10\" >20</td>\n",
       "                        <td id=\"T_353796ca_6fa4_11ea_9207_fcaa14259c19row14_col11\" class=\"data row14 col11\" >35</td>\n",
       "                        <td id=\"T_353796ca_6fa4_11ea_9207_fcaa14259c19row14_col12\" class=\"data row14 col12\" >47</td>\n",
       "                        <td id=\"T_353796ca_6fa4_11ea_9207_fcaa14259c19row14_col13\" class=\"data row14 col13\" >20</td>\n",
       "                        <td id=\"T_353796ca_6fa4_11ea_9207_fcaa14259c19row14_col14\" class=\"data row14 col14\" >685</td>\n",
       "                        <td id=\"T_353796ca_6fa4_11ea_9207_fcaa14259c19row14_col15\" class=\"data row14 col15\" >58</td>\n",
       "                        <td id=\"T_353796ca_6fa4_11ea_9207_fcaa14259c19row14_col16\" class=\"data row14 col16\" >65</td>\n",
       "                        <td id=\"T_353796ca_6fa4_11ea_9207_fcaa14259c19row14_col17\" class=\"data row14 col17\" >59</td>\n",
       "                        <td id=\"T_353796ca_6fa4_11ea_9207_fcaa14259c19row14_col18\" class=\"data row14 col18\" >98</td>\n",
       "                        <td id=\"T_353796ca_6fa4_11ea_9207_fcaa14259c19row14_col19\" class=\"data row14 col19\" >259</td>\n",
       "            </tr>\n",
       "            <tr>\n",
       "                        <th id=\"T_353796ca_6fa4_11ea_9207_fcaa14259c19level0_row15\" class=\"row_heading level0 row15\" >keras</th>\n",
       "                        <td id=\"T_353796ca_6fa4_11ea_9207_fcaa14259c19row15_col0\" class=\"data row15 col0\" >17</td>\n",
       "                        <td id=\"T_353796ca_6fa4_11ea_9207_fcaa14259c19row15_col1\" class=\"data row15 col1\" >3</td>\n",
       "                        <td id=\"T_353796ca_6fa4_11ea_9207_fcaa14259c19row15_col2\" class=\"data row15 col2\" >0</td>\n",
       "                        <td id=\"T_353796ca_6fa4_11ea_9207_fcaa14259c19row15_col3\" class=\"data row15 col3\" >11</td>\n",
       "                        <td id=\"T_353796ca_6fa4_11ea_9207_fcaa14259c19row15_col4\" class=\"data row15 col4\" >10</td>\n",
       "                        <td id=\"T_353796ca_6fa4_11ea_9207_fcaa14259c19row15_col5\" class=\"data row15 col5\" >13</td>\n",
       "                        <td id=\"T_353796ca_6fa4_11ea_9207_fcaa14259c19row15_col6\" class=\"data row15 col6\" >31</td>\n",
       "                        <td id=\"T_353796ca_6fa4_11ea_9207_fcaa14259c19row15_col7\" class=\"data row15 col7\" >3</td>\n",
       "                        <td id=\"T_353796ca_6fa4_11ea_9207_fcaa14259c19row15_col8\" class=\"data row15 col8\" >133</td>\n",
       "                        <td id=\"T_353796ca_6fa4_11ea_9207_fcaa14259c19row15_col9\" class=\"data row15 col9\" >51</td>\n",
       "                        <td id=\"T_353796ca_6fa4_11ea_9207_fcaa14259c19row15_col10\" class=\"data row15 col10\" >116</td>\n",
       "                        <td id=\"T_353796ca_6fa4_11ea_9207_fcaa14259c19row15_col11\" class=\"data row15 col11\" >23</td>\n",
       "                        <td id=\"T_353796ca_6fa4_11ea_9207_fcaa14259c19row15_col12\" class=\"data row15 col12\" >34</td>\n",
       "                        <td id=\"T_353796ca_6fa4_11ea_9207_fcaa14259c19row15_col13\" class=\"data row15 col13\" >256</td>\n",
       "                        <td id=\"T_353796ca_6fa4_11ea_9207_fcaa14259c19row15_col14\" class=\"data row15 col14\" >58</td>\n",
       "                        <td id=\"T_353796ca_6fa4_11ea_9207_fcaa14259c19row15_col15\" class=\"data row15 col15\" >935</td>\n",
       "                        <td id=\"T_353796ca_6fa4_11ea_9207_fcaa14259c19row15_col16\" class=\"data row15 col16\" >235</td>\n",
       "                        <td id=\"T_353796ca_6fa4_11ea_9207_fcaa14259c19row15_col17\" class=\"data row15 col17\" >247</td>\n",
       "                        <td id=\"T_353796ca_6fa4_11ea_9207_fcaa14259c19row15_col18\" class=\"data row15 col18\" >280</td>\n",
       "                        <td id=\"T_353796ca_6fa4_11ea_9207_fcaa14259c19row15_col19\" class=\"data row15 col19\" >195</td>\n",
       "            </tr>\n",
       "            <tr>\n",
       "                        <th id=\"T_353796ca_6fa4_11ea_9207_fcaa14259c19level0_row16\" class=\"row_heading level0 row16\" >neural-network</th>\n",
       "                        <td id=\"T_353796ca_6fa4_11ea_9207_fcaa14259c19row16_col0\" class=\"data row16 col0\" >10</td>\n",
       "                        <td id=\"T_353796ca_6fa4_11ea_9207_fcaa14259c19row16_col1\" class=\"data row16 col1\" >11</td>\n",
       "                        <td id=\"T_353796ca_6fa4_11ea_9207_fcaa14259c19row16_col2\" class=\"data row16 col2\" >8</td>\n",
       "                        <td id=\"T_353796ca_6fa4_11ea_9207_fcaa14259c19row16_col3\" class=\"data row16 col3\" >13</td>\n",
       "                        <td id=\"T_353796ca_6fa4_11ea_9207_fcaa14259c19row16_col4\" class=\"data row16 col4\" >9</td>\n",
       "                        <td id=\"T_353796ca_6fa4_11ea_9207_fcaa14259c19row16_col5\" class=\"data row16 col5\" >20</td>\n",
       "                        <td id=\"T_353796ca_6fa4_11ea_9207_fcaa14259c19row16_col6\" class=\"data row16 col6\" >42</td>\n",
       "                        <td id=\"T_353796ca_6fa4_11ea_9207_fcaa14259c19row16_col7\" class=\"data row16 col7\" >1</td>\n",
       "                        <td id=\"T_353796ca_6fa4_11ea_9207_fcaa14259c19row16_col8\" class=\"data row16 col8\" >69</td>\n",
       "                        <td id=\"T_353796ca_6fa4_11ea_9207_fcaa14259c19row16_col9\" class=\"data row16 col9\" >33</td>\n",
       "                        <td id=\"T_353796ca_6fa4_11ea_9207_fcaa14259c19row16_col10\" class=\"data row16 col10\" >118</td>\n",
       "                        <td id=\"T_353796ca_6fa4_11ea_9207_fcaa14259c19row16_col11\" class=\"data row16 col11\" >24</td>\n",
       "                        <td id=\"T_353796ca_6fa4_11ea_9207_fcaa14259c19row16_col12\" class=\"data row16 col12\" >24</td>\n",
       "                        <td id=\"T_353796ca_6fa4_11ea_9207_fcaa14259c19row16_col13\" class=\"data row16 col13\" >108</td>\n",
       "                        <td id=\"T_353796ca_6fa4_11ea_9207_fcaa14259c19row16_col14\" class=\"data row16 col14\" >65</td>\n",
       "                        <td id=\"T_353796ca_6fa4_11ea_9207_fcaa14259c19row16_col15\" class=\"data row16 col15\" >235</td>\n",
       "                        <td id=\"T_353796ca_6fa4_11ea_9207_fcaa14259c19row16_col16\" class=\"data row16 col16\" >1055</td>\n",
       "                        <td id=\"T_353796ca_6fa4_11ea_9207_fcaa14259c19row16_col17\" class=\"data row16 col17\" >305</td>\n",
       "                        <td id=\"T_353796ca_6fa4_11ea_9207_fcaa14259c19row16_col18\" class=\"data row16 col18\" >137</td>\n",
       "                        <td id=\"T_353796ca_6fa4_11ea_9207_fcaa14259c19row16_col19\" class=\"data row16 col19\" >366</td>\n",
       "            </tr>\n",
       "            <tr>\n",
       "                        <th id=\"T_353796ca_6fa4_11ea_9207_fcaa14259c19level0_row17\" class=\"row_heading level0 row17\" >deep-learning</th>\n",
       "                        <td id=\"T_353796ca_6fa4_11ea_9207_fcaa14259c19row17_col0\" class=\"data row17 col0\" >19</td>\n",
       "                        <td id=\"T_353796ca_6fa4_11ea_9207_fcaa14259c19row17_col1\" class=\"data row17 col1\" >12</td>\n",
       "                        <td id=\"T_353796ca_6fa4_11ea_9207_fcaa14259c19row17_col2\" class=\"data row17 col2\" >2</td>\n",
       "                        <td id=\"T_353796ca_6fa4_11ea_9207_fcaa14259c19row17_col3\" class=\"data row17 col3\" >32</td>\n",
       "                        <td id=\"T_353796ca_6fa4_11ea_9207_fcaa14259c19row17_col4\" class=\"data row17 col4\" >5</td>\n",
       "                        <td id=\"T_353796ca_6fa4_11ea_9207_fcaa14259c19row17_col5\" class=\"data row17 col5\" >32</td>\n",
       "                        <td id=\"T_353796ca_6fa4_11ea_9207_fcaa14259c19row17_col6\" class=\"data row17 col6\" >21</td>\n",
       "                        <td id=\"T_353796ca_6fa4_11ea_9207_fcaa14259c19row17_col7\" class=\"data row17 col7\" >1</td>\n",
       "                        <td id=\"T_353796ca_6fa4_11ea_9207_fcaa14259c19row17_col8\" class=\"data row17 col8\" >103</td>\n",
       "                        <td id=\"T_353796ca_6fa4_11ea_9207_fcaa14259c19row17_col9\" class=\"data row17 col9\" >44</td>\n",
       "                        <td id=\"T_353796ca_6fa4_11ea_9207_fcaa14259c19row17_col10\" class=\"data row17 col10\" >160</td>\n",
       "                        <td id=\"T_353796ca_6fa4_11ea_9207_fcaa14259c19row17_col11\" class=\"data row17 col11\" >72</td>\n",
       "                        <td id=\"T_353796ca_6fa4_11ea_9207_fcaa14259c19row17_col12\" class=\"data row17 col12\" >16</td>\n",
       "                        <td id=\"T_353796ca_6fa4_11ea_9207_fcaa14259c19row17_col13\" class=\"data row17 col13\" >136</td>\n",
       "                        <td id=\"T_353796ca_6fa4_11ea_9207_fcaa14259c19row17_col14\" class=\"data row17 col14\" >59</td>\n",
       "                        <td id=\"T_353796ca_6fa4_11ea_9207_fcaa14259c19row17_col15\" class=\"data row17 col15\" >247</td>\n",
       "                        <td id=\"T_353796ca_6fa4_11ea_9207_fcaa14259c19row17_col16\" class=\"data row17 col16\" >305</td>\n",
       "                        <td id=\"T_353796ca_6fa4_11ea_9207_fcaa14259c19row17_col17\" class=\"data row17 col17\" >1220</td>\n",
       "                        <td id=\"T_353796ca_6fa4_11ea_9207_fcaa14259c19row17_col18\" class=\"data row17 col18\" >160</td>\n",
       "                        <td id=\"T_353796ca_6fa4_11ea_9207_fcaa14259c19row17_col19\" class=\"data row17 col19\" >429</td>\n",
       "            </tr>\n",
       "            <tr>\n",
       "                        <th id=\"T_353796ca_6fa4_11ea_9207_fcaa14259c19level0_row18\" class=\"row_heading level0 row18\" >python</th>\n",
       "                        <td id=\"T_353796ca_6fa4_11ea_9207_fcaa14259c19row18_col0\" class=\"data row18 col0\" >37</td>\n",
       "                        <td id=\"T_353796ca_6fa4_11ea_9207_fcaa14259c19row18_col1\" class=\"data row18 col1\" >35</td>\n",
       "                        <td id=\"T_353796ca_6fa4_11ea_9207_fcaa14259c19row18_col2\" class=\"data row18 col2\" >45</td>\n",
       "                        <td id=\"T_353796ca_6fa4_11ea_9207_fcaa14259c19row18_col3\" class=\"data row18 col3\" >35</td>\n",
       "                        <td id=\"T_353796ca_6fa4_11ea_9207_fcaa14259c19row18_col4\" class=\"data row18 col4\" >24</td>\n",
       "                        <td id=\"T_353796ca_6fa4_11ea_9207_fcaa14259c19row18_col5\" class=\"data row18 col5\" >53</td>\n",
       "                        <td id=\"T_353796ca_6fa4_11ea_9207_fcaa14259c19row18_col6\" class=\"data row18 col6\" >59</td>\n",
       "                        <td id=\"T_353796ca_6fa4_11ea_9207_fcaa14259c19row18_col7\" class=\"data row18 col7\" >244</td>\n",
       "                        <td id=\"T_353796ca_6fa4_11ea_9207_fcaa14259c19row18_col8\" class=\"data row18 col8\" >61</td>\n",
       "                        <td id=\"T_353796ca_6fa4_11ea_9207_fcaa14259c19row18_col9\" class=\"data row18 col9\" >105</td>\n",
       "                        <td id=\"T_353796ca_6fa4_11ea_9207_fcaa14259c19row18_col10\" class=\"data row18 col10\" >62</td>\n",
       "                        <td id=\"T_353796ca_6fa4_11ea_9207_fcaa14259c19row18_col11\" class=\"data row18 col11\" >71</td>\n",
       "                        <td id=\"T_353796ca_6fa4_11ea_9207_fcaa14259c19row18_col12\" class=\"data row18 col12\" >235</td>\n",
       "                        <td id=\"T_353796ca_6fa4_11ea_9207_fcaa14259c19row18_col13\" class=\"data row18 col13\" >167</td>\n",
       "                        <td id=\"T_353796ca_6fa4_11ea_9207_fcaa14259c19row18_col14\" class=\"data row18 col14\" >98</td>\n",
       "                        <td id=\"T_353796ca_6fa4_11ea_9207_fcaa14259c19row18_col15\" class=\"data row18 col15\" >280</td>\n",
       "                        <td id=\"T_353796ca_6fa4_11ea_9207_fcaa14259c19row18_col16\" class=\"data row18 col16\" >137</td>\n",
       "                        <td id=\"T_353796ca_6fa4_11ea_9207_fcaa14259c19row18_col17\" class=\"data row18 col17\" >160</td>\n",
       "                        <td id=\"T_353796ca_6fa4_11ea_9207_fcaa14259c19row18_col18\" class=\"data row18 col18\" >1814</td>\n",
       "                        <td id=\"T_353796ca_6fa4_11ea_9207_fcaa14259c19row18_col19\" class=\"data row18 col19\" >499</td>\n",
       "            </tr>\n",
       "            <tr>\n",
       "                        <th id=\"T_353796ca_6fa4_11ea_9207_fcaa14259c19level0_row19\" class=\"row_heading level0 row19\" >machine-learning</th>\n",
       "                        <td id=\"T_353796ca_6fa4_11ea_9207_fcaa14259c19row19_col0\" class=\"data row19 col0\" >139</td>\n",
       "                        <td id=\"T_353796ca_6fa4_11ea_9207_fcaa14259c19row19_col1\" class=\"data row19 col1\" >89</td>\n",
       "                        <td id=\"T_353796ca_6fa4_11ea_9207_fcaa14259c19row19_col2\" class=\"data row19 col2\" >61</td>\n",
       "                        <td id=\"T_353796ca_6fa4_11ea_9207_fcaa14259c19row19_col3\" class=\"data row19 col3\" >123</td>\n",
       "                        <td id=\"T_353796ca_6fa4_11ea_9207_fcaa14259c19row19_col4\" class=\"data row19 col4\" >63</td>\n",
       "                        <td id=\"T_353796ca_6fa4_11ea_9207_fcaa14259c19row19_col5\" class=\"data row19 col5\" >99</td>\n",
       "                        <td id=\"T_353796ca_6fa4_11ea_9207_fcaa14259c19row19_col6\" class=\"data row19 col6\" >119</td>\n",
       "                        <td id=\"T_353796ca_6fa4_11ea_9207_fcaa14259c19row19_col7\" class=\"data row19 col7\" >62</td>\n",
       "                        <td id=\"T_353796ca_6fa4_11ea_9207_fcaa14259c19row19_col8\" class=\"data row19 col8\" >71</td>\n",
       "                        <td id=\"T_353796ca_6fa4_11ea_9207_fcaa14259c19row19_col9\" class=\"data row19 col9\" >131</td>\n",
       "                        <td id=\"T_353796ca_6fa4_11ea_9207_fcaa14259c19row19_col10\" class=\"data row19 col10\" >124</td>\n",
       "                        <td id=\"T_353796ca_6fa4_11ea_9207_fcaa14259c19row19_col11\" class=\"data row19 col11\" >113</td>\n",
       "                        <td id=\"T_353796ca_6fa4_11ea_9207_fcaa14259c19row19_col12\" class=\"data row19 col12\" >188</td>\n",
       "                        <td id=\"T_353796ca_6fa4_11ea_9207_fcaa14259c19row19_col13\" class=\"data row19 col13\" >106</td>\n",
       "                        <td id=\"T_353796ca_6fa4_11ea_9207_fcaa14259c19row19_col14\" class=\"data row19 col14\" >259</td>\n",
       "                        <td id=\"T_353796ca_6fa4_11ea_9207_fcaa14259c19row19_col15\" class=\"data row19 col15\" >195</td>\n",
       "                        <td id=\"T_353796ca_6fa4_11ea_9207_fcaa14259c19row19_col16\" class=\"data row19 col16\" >366</td>\n",
       "                        <td id=\"T_353796ca_6fa4_11ea_9207_fcaa14259c19row19_col17\" class=\"data row19 col17\" >429</td>\n",
       "                        <td id=\"T_353796ca_6fa4_11ea_9207_fcaa14259c19row19_col18\" class=\"data row19 col18\" >499</td>\n",
       "                        <td id=\"T_353796ca_6fa4_11ea_9207_fcaa14259c19row19_col19\" class=\"data row19 col19\" >2693</td>\n",
       "            </tr>\n",
       "    </tbody></table>"
      ],
      "text/plain": [
       "<pandas.io.formats.style.Styler at 0x7fd7bd4dbdc0>"
      ]
     },
     "execution_count": 18,
     "metadata": {},
     "output_type": "execute_result"
    }
   ],
   "source": [
    "def color_cells_by_CSS(x):\n",
    "    helper_df = pd.DataFrame(data=\"\", index=x.index, columns=x.columns)\n",
    "    helper_df.loc[\"time-series\", \"r\"] = \"background-color: yellow\"\n",
    "    helper_df.loc[\"r\", \"time-series\"] = \"background-color: yellow\"\n",
    "    \n",
    "    for j in range(helper_df.shape[0]):\n",
    "        helper_df.iloc[j,j] = \"color: blue\"\n",
    "    \n",
    "    return helper_df\n",
    "\n",
    "most_used_relationships.style.apply(color_cells_by_CSS, axis=None)"
   ]
  },
  {
   "cell_type": "markdown",
   "metadata": {},
   "source": [
    "To understand the relationships each tag has with each other, we'll need to create a heatmap.  We don't the values each tag has with itself to skew our heatmap, so we'll remove them."
   ]
  },
  {
   "cell_type": "code",
   "execution_count": 19,
   "metadata": {},
   "outputs": [],
   "source": [
    "for i in range(most_used_relationships.shape[0]):\n",
    "    most_used_relationships.iloc[i,i] = np.NaN"
   ]
  },
  {
   "cell_type": "code",
   "execution_count": 20,
   "metadata": {},
   "outputs": [
    {
     "data": {
      "text/plain": [
       "<matplotlib.axes._subplots.AxesSubplot at 0x7fd7bd309df0>"
      ]
     },
     "execution_count": 20,
     "metadata": {},
     "output_type": "execute_result"
    },
    {
     "data": {
      "image/png": "[encoded data removed]",
      "text/plain": [
       "<Figure size 864x576 with 2 Axes>"
      ]
     },
     "metadata": {
      "needs_background": "light"
     },
     "output_type": "display_data"
    }
   ],
   "source": [
    "plt.figure(figsize=(12,8))\n",
    "sns.heatmap(most_used_relationships, cmap=\"Greens\", annot=False)"
   ]
  },
  {
   "cell_type": "markdown",
   "metadata": {},
   "source": [
    "## Analysis of Relationships Between Tags\n",
    "\n",
    "Some of the most popular tags such as Keras, TensorFlow, scikit-learn are Python libraries that allow users to make use of deep learning, which is a type of neural network.\n",
    "\n",
    "The other tags seem to indicate an overall relationship to deep learning: machine learning, neural network, statistics.\n",
    "\n",
    "It would seem that any new content in the space of data science should be centered around deep learning as it seems to be the most popular topic on Stack Exchange."
   ]
  },
  {
   "cell_type": "markdown",
   "metadata": {},
   "source": [
    "## Is Deep Learning Just a Fad?\n",
    "\n",
    "Before we make an official recommendation of using deep learning as a first topic to use in our products, let's do some further analysis to determine if investing in deep learning products will benefit us over the long haul.\n",
    "\n",
    "We need to figure out if interest in deep learning is waning.\n",
    "\n",
    "We saved all of the questions in the Stack Exchange questions database to the file \"all_questions.csv\" using the following SQL query:\n",
    "\n",
    "```sql\n",
    "SELECT Id, CreationDate, Tags\n",
    "FROM posts\n",
    "WHERE PostTypeId = 1;\n",
    "```\n",
    "\n",
    "Now, we'll load the CSV data into a data frame so we can do our time analysis:"
   ]
  },
  {
   "cell_type": "code",
   "execution_count": 21,
   "metadata": {},
   "outputs": [],
   "source": [
    "all_questions = pd.read_csv(\"all_questions.csv\", parse_dates=[\"CreationDate\"])"
   ]
  },
  {
   "cell_type": "markdown",
   "metadata": {},
   "source": [
    "Now, we'll convert the Tags field into a list as we did before:"
   ]
  },
  {
   "cell_type": "code",
   "execution_count": 22,
   "metadata": {},
   "outputs": [],
   "source": [
    "all_questions[\"Tags\"] = all_questions[\"Tags\"].str.replace(\"^<|>$\", \"\").str.split(\"><\")"
   ]
  },
  {
   "cell_type": "markdown",
   "metadata": {},
   "source": [
    "We need to decide which tags should be classified as being part of deep learning.\n",
    "\n",
    "For our analysis, we'll use the following tags to help us determine interest in deep learning:\n",
    "* scikit-learn\n",
    "* keras\n",
    "* neural-network\n",
    "* deep learning\n",
    "* tensorflow\n",
    "\n",
    "We based this list from the most used tag list we made earlier and determine which ones are closely related to deep learning.\n",
    "\n",
    "Next, let's create a function that returns a 1 if it is part of our deep learning list which we'll use to create a new column called \"DeepLearning\" in our data frame:"
   ]
  },
  {
   "cell_type": "code",
   "execution_count": 23,
   "metadata": {},
   "outputs": [],
   "source": [
    "def IsDeepLearning(tags):\n",
    "    for tag in tags:\n",
    "        if tag in [\"scikit-learn\", \"keras\", \"neural-network\", \"deep-learning\", \"tensorflow\"]:\n",
    "            return 1\n",
    "    \n",
    "    return 0"
   ]
  },
  {
   "cell_type": "code",
   "execution_count": 24,
   "metadata": {},
   "outputs": [],
   "source": [
    "all_questions[\"DeepLearning\"] = all_questions[\"Tags\"].apply(IsDeepLearning)"
   ]
  },
  {
   "cell_type": "code",
   "execution_count": 25,
   "metadata": {},
   "outputs": [
    {
     "data": {
      "text/html": [
       "<div>\n",
       "<style scoped>\n",
       "    .dataframe tbody tr th:only-of-type {\n",
       "        vertical-align: middle;\n",
       "    }\n",
       "\n",
       "    .dataframe tbody tr th {\n",
       "        vertical-align: top;\n",
       "    }\n",
       "\n",
       "    .dataframe thead th {\n",
       "        text-align: right;\n",
       "    }\n",
       "</style>\n",
       "<table border=\"1\" class=\"dataframe\">\n",
       "  <thead>\n",
       "    <tr style=\"text-align: right;\">\n",
       "      <th></th>\n",
       "      <th>Id</th>\n",
       "      <th>CreationDate</th>\n",
       "      <th>Tags</th>\n",
       "      <th>DeepLearning</th>\n",
       "    </tr>\n",
       "  </thead>\n",
       "  <tbody>\n",
       "    <tr>\n",
       "      <th>19925</th>\n",
       "      <td>33958</td>\n",
       "      <td>2018-07-04 00:03:57</td>\n",
       "      <td>[python, nlp]</td>\n",
       "      <td>0</td>\n",
       "    </tr>\n",
       "    <tr>\n",
       "      <th>2834</th>\n",
       "      <td>15928</td>\n",
       "      <td>2016-12-26 01:05:23</td>\n",
       "      <td>[normalization]</td>\n",
       "      <td>0</td>\n",
       "    </tr>\n",
       "    <tr>\n",
       "      <th>3947</th>\n",
       "      <td>2682</td>\n",
       "      <td>2014-12-10 22:47:49</td>\n",
       "      <td>[scalability, graphs, neo4j]</td>\n",
       "      <td>0</td>\n",
       "    </tr>\n",
       "    <tr>\n",
       "      <th>17303</th>\n",
       "      <td>53812</td>\n",
       "      <td>2019-06-14 18:14:14</td>\n",
       "      <td>[faster-rcnn]</td>\n",
       "      <td>0</td>\n",
       "    </tr>\n",
       "    <tr>\n",
       "      <th>13823</th>\n",
       "      <td>52384</td>\n",
       "      <td>2019-05-22 09:21:33</td>\n",
       "      <td>[deep-learning, lstm]</td>\n",
       "      <td>1</td>\n",
       "    </tr>\n",
       "  </tbody>\n",
       "</table>\n",
       "</div>"
      ],
      "text/plain": [
       "          Id        CreationDate                          Tags  DeepLearning\n",
       "19925  33958 2018-07-04 00:03:57                 [python, nlp]             0\n",
       "2834   15928 2016-12-26 01:05:23               [normalization]             0\n",
       "3947    2682 2014-12-10 22:47:49  [scalability, graphs, neo4j]             0\n",
       "17303  53812 2019-06-14 18:14:14                 [faster-rcnn]             0\n",
       "13823  52384 2019-05-22 09:21:33         [deep-learning, lstm]             1"
      ]
     },
     "execution_count": 25,
     "metadata": {},
     "output_type": "execute_result"
    }
   ],
   "source": [
    "all_questions.sample(5)"
   ]
  },
  {
   "cell_type": "markdown",
   "metadata": {},
   "source": [
    "Let's get rid of any 2020 dates, since it's out of the range for our analysis:"
   ]
  },
  {
   "cell_type": "code",
   "execution_count": 26,
   "metadata": {},
   "outputs": [],
   "source": [
    "all_questions = all_questions[all_questions[\"CreationDate\"].dt.year < 2020]"
   ]
  },
  {
   "cell_type": "markdown",
   "metadata": {},
   "source": [
    "We are going to be tracking quarterly data because the field of data science isn't very dynamic and doesn't warrant tracking trends on a faster pace.\n",
    "\n",
    "We'll add another column called \"Quarter\" that identifies the quarter in which the question was asked:"
   ]
  },
  {
   "cell_type": "code",
   "execution_count": 27,
   "metadata": {},
   "outputs": [
    {
     "name": "stdout",
     "output_type": "stream",
     "text": [
      "      Id        CreationDate  \\\n",
      "0  45416 2019-02-12 00:36:29   \n",
      "1  45418 2019-02-12 00:50:39   \n",
      "2  45422 2019-02-12 04:40:51   \n",
      "3  45426 2019-02-12 04:51:49   \n",
      "4  45427 2019-02-12 05:08:24   \n",
      "\n",
      "                                                Tags  DeepLearning Quarter  \n",
      "0      [python, keras, tensorflow, cnn, probability]             1  2019Q1  \n",
      "1                                   [neural-network]             1  2019Q1  \n",
      "2                      [python, ibm-watson, chatbot]             0  2019Q1  \n",
      "3                                            [keras]             1  2019Q1  \n",
      "4  [r, predictive-modeling, machine-learning-mode...             0  2019Q1  \n"
     ]
    }
   ],
   "source": [
    "def get_quarter(datetime):\n",
    "    year = str(datetime.year)\n",
    "    quarter = str(((datetime.month - 1) // 3) + 1)\n",
    "    return \"{y}Q{q}\".format(y=year, q=quarter)\n",
    "\n",
    "all_questions[\"Quarter\"] = all_questions[\"CreationDate\"].apply(get_quarter)\n",
    "print(all_questions.head())"
   ]
  },
  {
   "cell_type": "markdown",
   "metadata": {},
   "source": [
    "Let's group this data by quarter and:\n",
    "* Count the number of questions we classified as deep learning questions.\n",
    "* Count the total number of questions.\n",
    "* Compute the ration between the two numbers above."
   ]
  },
  {
   "cell_type": "code",
   "execution_count": 28,
   "metadata": {},
   "outputs": [
    {
     "data": {
      "text/html": [
       "<div>\n",
       "<style scoped>\n",
       "    .dataframe tbody tr th:only-of-type {\n",
       "        vertical-align: middle;\n",
       "    }\n",
       "\n",
       "    .dataframe tbody tr th {\n",
       "        vertical-align: top;\n",
       "    }\n",
       "\n",
       "    .dataframe thead th {\n",
       "        text-align: right;\n",
       "    }\n",
       "</style>\n",
       "<table border=\"1\" class=\"dataframe\">\n",
       "  <thead>\n",
       "    <tr style=\"text-align: right;\">\n",
       "      <th></th>\n",
       "      <th>Quarter</th>\n",
       "      <th>DeepLearningQuestions</th>\n",
       "      <th>TotalQuestions</th>\n",
       "      <th>DeepLearningRate</th>\n",
       "    </tr>\n",
       "  </thead>\n",
       "  <tbody>\n",
       "    <tr>\n",
       "      <th>14</th>\n",
       "      <td>2017Q4</td>\n",
       "      <td>340</td>\n",
       "      <td>898</td>\n",
       "      <td>0.378619</td>\n",
       "    </tr>\n",
       "    <tr>\n",
       "      <th>1</th>\n",
       "      <td>2014Q3</td>\n",
       "      <td>13</td>\n",
       "      <td>189</td>\n",
       "      <td>0.068783</td>\n",
       "    </tr>\n",
       "    <tr>\n",
       "      <th>13</th>\n",
       "      <td>2017Q3</td>\n",
       "      <td>244</td>\n",
       "      <td>714</td>\n",
       "      <td>0.341737</td>\n",
       "    </tr>\n",
       "    <tr>\n",
       "      <th>15</th>\n",
       "      <td>2018Q1</td>\n",
       "      <td>531</td>\n",
       "      <td>1221</td>\n",
       "      <td>0.434889</td>\n",
       "    </tr>\n",
       "    <tr>\n",
       "      <th>21</th>\n",
       "      <td>2019Q3</td>\n",
       "      <td>862</td>\n",
       "      <td>2394</td>\n",
       "      <td>0.360067</td>\n",
       "    </tr>\n",
       "  </tbody>\n",
       "</table>\n",
       "</div>"
      ],
      "text/plain": [
       "   Quarter  DeepLearningQuestions  TotalQuestions  DeepLearningRate\n",
       "14  2017Q4                    340             898          0.378619\n",
       "1   2014Q3                     13             189          0.068783\n",
       "13  2017Q3                    244             714          0.341737\n",
       "15  2018Q1                    531            1221          0.434889\n",
       "21  2019Q3                    862            2394          0.360067"
      ]
     },
     "execution_count": 28,
     "metadata": {},
     "output_type": "execute_result"
    }
   ],
   "source": [
    "quarterly = all_questions.groupby(\"Quarter\").agg(func={\"DeepLearning\": [\"sum\", \"size\"]})\n",
    "quarterly.columns = [\"DeepLearningQuestions\", \"TotalQuestions\"]\n",
    "quarterly[\"DeepLearningRate\"] = quarterly[\"DeepLearningQuestions\"] / quarterly[\"TotalQuestions\"]\n",
    "\n",
    "# Reset index to help with visualizations later.\n",
    "quarterly.reset_index(inplace=True)\n",
    "quarterly.sample(5)"
   ]
  },
  {
   "cell_type": "markdown",
   "metadata": {},
   "source": [
    "Let's visualize this quarterly data:"
   ]
  },
  {
   "cell_type": "code",
   "execution_count": 29,
   "metadata": {},
   "outputs": [
    {
     "data": {
      "image/png": "[encoded data removed]",
      "text/plain": [
       "<Figure size 1728x864 with 2 Axes>"
      ]
     },
     "metadata": {
      "needs_background": "light"
     },
     "output_type": "display_data"
    }
   ],
   "source": [
    "ax1 = quarterly.plot(\n",
    "        x=\"Quarter\",\n",
    "        y=\"DeepLearningRate\",\n",
    "        kind=\"line\",\n",
    "        linestyle=\"-\",\n",
    "        marker=\"o\",\n",
    "        color=\"orange\",\n",
    "        figsize=(24,12)\n",
    ")\n",
    "\n",
    "ax2 = quarterly.plot(\n",
    "        x=\"Quarter\",\n",
    "        y=\"TotalQuestions\",\n",
    "        kind=\"bar\",\n",
    "        ax=ax1,\n",
    "        secondary_y=True,\n",
    "        alpha=0.7,\n",
    "        rot=45\n",
    ")\n",
    "\n",
    "for i,txt in enumerate(quarterly[\"TotalQuestions\"]):\n",
    "    ax2.text(i, txt, str(txt), ha=\"center\", va=\"bottom\")\n",
    "\n",
    "xlims = ax1.get_xlim()\n",
    "\n",
    "ax1.get_legend().remove()\n",
    "\n",
    "handles1, labels1 = ax1.get_legend_handles_labels()\n",
    "handles2, labels2 = ax2.get_legend_handles_labels()\n",
    "\n",
    "ax1.legend(\n",
    "    handles = handles1 + handles2,\n",
    "    labels = labels1 + labels2,\n",
    "    loc=\"upper left\",\n",
    "    prop={\"size\": 12}\n",
    ")\n",
    "\n",
    "for ax in (ax1, ax2):\n",
    "    for z in (\"top\", \"right\"):\n",
    "        ax.spines[z].set_visible(False)\n",
    "        ax.tick_params(right=False, labelright=False)"
   ]
  },
  {
   "cell_type": "markdown",
   "metadata": {},
   "source": [
    "# Conclusion\n",
    "\n",
    "Based on our data, interest in deep learning seems to be plateauing.  There was a large trending interest when the Data Science Stack Exchange first started.  However, there is no evidence that interest in deep learning is on the decline."
   ]
  }
 ],
 "metadata": {
  "kernelspec": {
   "display_name": "Python 3",
   "language": "python",
   "name": "python3"
  },
  "language_info": {
   "codemirror_mode": {
    "name": "ipython",
    "version": 3
   },
   "file_extension": ".py",
   "mimetype": "text/x-python",
   "name": "python",
   "nbconvert_exporter": "python",
   "pygments_lexer": "ipython3",
   "version": "3.8.2"
  }
 },
 "nbformat": 4,
 "nbformat_minor": 4
}
