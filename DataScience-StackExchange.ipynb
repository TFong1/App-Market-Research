{
 "cells": [
  {
   "cell_type": "markdown",
   "metadata": {},
   "source": [
    "# Popular Data Science Questions\n",
    "\n",
    "The ACME Corporation is looking for new content regarding our recent decision to create books, on-line articles, or videos in the field of data science.  This analysis will help us determine what is the best content to get started with.  We have determined to analyze the most popular questions on the question and answer on-line forum known as Stack Exhchange.\n",
    "\n",
    "## Stack Exchange\n",
    "\n",
    "Stack Exchange is a web site where users can ask and answer questions from other users of the site.  The site is organized various topics, such as Data Science.\n",
    "\n",
    "The site allows users to rate the quality of the questions asked.  The higher rated questions appear near the top of the list of questions to highlight quality questions.  Users can also rate the answers and the highest rated answer is highlighted after the question.\n",
    "\n",
    "The [Data Science](https://datascience.stackexchange.com) Stack Exchange web site allows questions and answers for Data Science professionals, Machine Learning specialists, and individuals who wish to learn more about data science.\n",
    "\n",
    "### What kinds of questions are accepted?\n",
    "\n",
    "According to the Data Science Stack Exchange help center's [asking questions FAQ](https://datascience.stackexchange.com/help/asking), the following guidelines should be followed:\n",
    "* Avoid asking subjective questions\n",
    "* Avoid asking duplicate questions (duplicate questions are flagged accordingly)\n",
    "* Ask only relavant and appropriate questions in regards to data science\n",
    "    * For instance, asking questions regarding programming without reference to data is should be asked in the [Stack Overflow](https://stackoverflow.com) forum instead of stack exchange.\n",
    "* Ask specific questions\n",
    "* Make questions relavant to others\n",
    "\n",
    "All of these characteristics should be helpful in our analysis.\n",
    "\n",
    "The help center's page also refers several sites that may be of relevance to our analysis:\n",
    "* [Open Data](https://opendata.stackexchange.com/) for dataset requests\n",
    "* [Computational Science](https://scicomp.stackexchange.com/) for software packages and algorithms in applied mathematics\n",
    "\n",
    "### How are questions subdivided?\n",
    "\n",
    "On the [home](https://datascience.stackexchange.com/) page, there are four sections:\n",
    "* [Questions](https://datascience.stackexchange.com/questions) - list of all questions asked\n",
    "* [Tags](https://datascience.stackexchange.com/tags) - list of tags (keywords or labels that categorize questions). Users can also assign \"Tags\" to each question to make it easier to search for and organize questions by topic.\n",
    "* [Users](https://datascience.stackexchange.com/users) - list of registered users on Stack Exchange\n",
    "* [Unanswered](https://datascience.stackexchange.com/unanswered) - list of unanswered questions\n",
    "\n",
    "The tagging system used by Stack Exchange could be helpful in our analysis as it will allow us to quantify how many questions were asked about a particular subject.\n",
    "\n",
    "The questions in the Stack Exhange's sites are heavily moderated by the community, which will give us confidence in the validity of the tagging system and provide us with accurate conclusions.\n",
    "\n",
    "### What information is available in each post?\n",
    "\n",
    "For both questions and answers:\n",
    "* Rating or score (as a numerical value; higher the number, higher the rating)\n",
    "* Title\n",
    "* Author\n",
    "* Body of post\n",
    "\n",
    "For questions only:\n",
    "* Last time the question was active\n",
    "* How many times the question was viewed\n",
    "* Related questions\n",
    "* Tags associated with the question"
   ]
  },
  {
   "cell_type": "markdown",
   "metadata": {
    "jupyter": {
     "outputs_hidden": true
    }
   },
   "source": [
    "## Stack Exchange Data Explorer\n",
    "\n",
    "Stack exchange provides a public interface to query data for any of Stack Exchange's web sites.  [This](https://data.stackexchange.com/datascience/query/new) link provides a means to query and explore Stack Exchange's Data Science database.\n",
    "\n",
    "Using the Stack Exchange Data Explorer, there are a few tables that may be relevant to our analysis:\n",
    "* Posts - containing details of the actual post\n",
    "* PostTags - associate tags with a particular post\n",
    "* Tags - contains the number of times a tag is used for a particular post\n",
    "* TagSynonyms - contains the different variations of a particular tag"
   ]
  },
  {
   "cell_type": "markdown",
   "metadata": {
    "jupyter": {
     "outputs_hidden": true
    }
   },
   "source": [
    "## Getting the Data\n",
    "\n",
    "Below are some definitions of the fields in the Posts table that are relevant to our analysis:\n",
    "\n",
    "* Id : identifier for the post\n",
    "* PostTypeId : identifier for the type of post\n",
    "* CreationDate : date and time the post was created\n",
    "* Score : post's score\n",
    "* ViewCount : number of times the post was viewed\n",
    "* Tags : tags used to describe the content of the post\n",
    "* AnswerCount : number of answers associated with the question post\n",
    "* FavoriteCount : number of times the question post was favored\n",
    "\n",
    "We are only interested in recent posts made in 2019 as to analyze current trends in data science questions.  Let's retrieve a sample of the data based on the CreationData year = 2019 and PostTypeId = 1 (1 refers to question type):\n",
    "\n",
    "```sql\n",
    "SELECT Id, CreationDate, Score, ViewCount, Tags, AnswerCount, FavoriteCount\n",
    "FROM posts\n",
    "WHERE PostTypeId = 1 AND YEAR(CreationDate) = 2019;\n",
    "```\n",
    "\n",
    "Below is a sample of the data returned:\n",
    "\n",
    "| Id | CreationDate | Score | ViewCount | Tags | AnswerCount | FavoriteCount |\n",
    "|:--:|:------------:|:-----:|----------:|------|:-----------:|:-------------:|\n",
    "| 53985 | 2019-06-18 05:07:54 | 1 | 40 | logistic-regressionorangeorange3 | 0 | 0 |\n",
    "| 53987 | 2019-06-18 06:37:06 | 0 | 13 | neural-networknatural-language-processngrams | 0 | |\n",
    "| 53989 | 2019-06-18 06:53:20 | 0 | 26 | machine-learningsvmactive-learning | 0 | 1 |\n",
    "| 53990 | 2019-06-18 06:57:15 | 0 | 25 | machine-learningfeature-selectiondata-cleaningcorrelation | 0 | |\n",
    "| 53991 | 2019-06-18 06:59:37 | 1 | 138 | clustering | 1 | |\n",
    "\n"
   ]
  },
  {
   "cell_type": "markdown",
   "metadata": {
    "jupyter": {
     "outputs_hidden": true
    }
   },
   "source": [
    "## Exploring the Data\n",
    "\n",
    "For the purposes of this analysis, we have exported the above query into the file \"2019_questions.csv\".\n",
    "\n",
    "Let's load this data into a dataframe so we can manipulate and visualize the data in Python:"
   ]
  },
  {
   "cell_type": "code",
   "execution_count": 1,
   "metadata": {},
   "outputs": [],
   "source": [
    "# Let's import the Python libraries we will use:\n",
    "\n",
    "import pandas as pd\n",
    "import matplotlib.pyplot as plt\n",
    "import seaborn as sns\n",
    "\n",
    "%matplotlib inline"
   ]
  },
  {
   "cell_type": "code",
   "execution_count": 2,
   "metadata": {},
   "outputs": [],
   "source": [
    "questions = pd.read_csv(\"2019_questions.csv\", parse_dates=[\"CreationDate\"])"
   ]
  },
  {
   "cell_type": "markdown",
   "metadata": {
    "jupyter": {
     "outputs_hidden": true
    }
   },
   "source": [
    "Let's run [questions.info()](https://pandas.pydata.org/pandas-docs/stable/reference/api/pandas.DataFrame.info.html) and see if it provides any quick insight into the data:"
   ]
  },
  {
   "cell_type": "code",
   "execution_count": 3,
   "metadata": {},
   "outputs": [
    {
     "name": "stdout",
     "output_type": "stream",
     "text": [
      "<class 'pandas.core.frame.DataFrame'>\n",
      "RangeIndex: 8839 entries, 0 to 8838\n",
      "Data columns (total 7 columns):\n",
      " #   Column         Non-Null Count  Dtype         \n",
      "---  ------         --------------  -----         \n",
      " 0   Id             8839 non-null   int64         \n",
      " 1   CreationDate   8839 non-null   datetime64[ns]\n",
      " 2   Score          8839 non-null   int64         \n",
      " 3   ViewCount      8839 non-null   int64         \n",
      " 4   Tags           8839 non-null   object        \n",
      " 5   AnswerCount    8839 non-null   int64         \n",
      " 6   FavoriteCount  1407 non-null   float64       \n",
      "dtypes: datetime64[ns](1), float64(1), int64(4), object(1)\n",
      "memory usage: 483.5+ KB\n"
     ]
    }
   ],
   "source": [
    "questions.info()"
   ]
  },
  {
   "cell_type": "markdown",
   "metadata": {
    "jupyter": {
     "outputs_hidden": true
    }
   },
   "source": [
    "It looks like only 1407 values are filled in FavoriteCount out of a possible 8839.  It's probably safe to assume that a null value in this fields can count as zero.  The type stored in FavoriteCount is a float.  Again, it's probably safe to assume that the number of favorites probably only have integer values, so we'll change the data type from float to integer.\n",
    "\n",
    "The data type for Tags shows up as an \"object.\"  Let's investigate further as to what data type the Tags field actually is:"
   ]
  },
  {
   "cell_type": "code",
   "execution_count": 4,
   "metadata": {},
   "outputs": [
    {
     "data": {
      "text/plain": [
       "array([<class 'str'>], dtype=object)"
      ]
     },
     "execution_count": 4,
     "metadata": {},
     "output_type": "execute_result"
    }
   ],
   "source": [
    "questions[\"Tags\"].apply(lambda x: type(x)).unique()"
   ]
  },
  {
   "cell_type": "markdown",
   "metadata": {},
   "source": [
    "The tags column is a string.  On Stack Exchange, each question can only have maximum of five tags ([source](https://meta.stackexchange.com/a/18879)).  It would be too much trouble to create an individual field for 5 tags, so we'll create a comma separated list for the Tag field."
   ]
  },
  {
   "cell_type": "markdown",
   "metadata": {},
   "source": [
    "## Cleaning the Data\n",
    "\n",
    "Let's first begin by filling in the missing values in the FavoriteCount field and convert it into an integer:"
   ]
  },
  {
   "cell_type": "code",
   "execution_count": 5,
   "metadata": {},
   "outputs": [
    {
     "name": "stdout",
     "output_type": "stream",
     "text": [
      "<class 'pandas.core.frame.DataFrame'>\n",
      "RangeIndex: 8839 entries, 0 to 8838\n",
      "Data columns (total 7 columns):\n",
      " #   Column         Non-Null Count  Dtype         \n",
      "---  ------         --------------  -----         \n",
      " 0   Id             8839 non-null   int64         \n",
      " 1   CreationDate   8839 non-null   datetime64[ns]\n",
      " 2   Score          8839 non-null   int64         \n",
      " 3   ViewCount      8839 non-null   int64         \n",
      " 4   Tags           8839 non-null   object        \n",
      " 5   AnswerCount    8839 non-null   int64         \n",
      " 6   FavoriteCount  8839 non-null   int64         \n",
      "dtypes: datetime64[ns](1), int64(5), object(1)\n",
      "memory usage: 483.5+ KB\n"
     ]
    }
   ],
   "source": [
    "questions.fillna(value={\"FavoriteCount\" : 0}, inplace=True)\n",
    "questions[\"FavoriteCount\"] = questions[\"FavoriteCount\"].astype(int)\n",
    "questions.info()"
   ]
  },
  {
   "cell_type": "markdown",
   "metadata": {},
   "source": [
    "Now, let's modify the Tags field to make them easier to work with.  Each tag in the Tags field is enclosed in angle brackets with no spacing inbetween tags.  We'll just remove the brackets and save the resulting tags as a Python list object."
   ]
  },
  {
   "cell_type": "code",
   "execution_count": 6,
   "metadata": {},
   "outputs": [
    {
     "data": {
      "text/html": [
       "<div>\n",
       "<style scoped>\n",
       "    .dataframe tbody tr th:only-of-type {\n",
       "        vertical-align: middle;\n",
       "    }\n",
       "\n",
       "    .dataframe tbody tr th {\n",
       "        vertical-align: top;\n",
       "    }\n",
       "\n",
       "    .dataframe thead th {\n",
       "        text-align: right;\n",
       "    }\n",
       "</style>\n",
       "<table border=\"1\" class=\"dataframe\">\n",
       "  <thead>\n",
       "    <tr style=\"text-align: right;\">\n",
       "      <th></th>\n",
       "      <th>Id</th>\n",
       "      <th>CreationDate</th>\n",
       "      <th>Score</th>\n",
       "      <th>ViewCount</th>\n",
       "      <th>Tags</th>\n",
       "      <th>AnswerCount</th>\n",
       "      <th>FavoriteCount</th>\n",
       "    </tr>\n",
       "  </thead>\n",
       "  <tbody>\n",
       "    <tr>\n",
       "      <th>7083</th>\n",
       "      <td>53966</td>\n",
       "      <td>2019-06-17 17:46:19</td>\n",
       "      <td>0</td>\n",
       "      <td>199</td>\n",
       "      <td>[machine-learning, python, classification]</td>\n",
       "      <td>0</td>\n",
       "      <td>0</td>\n",
       "    </tr>\n",
       "    <tr>\n",
       "      <th>6498</th>\n",
       "      <td>53296</td>\n",
       "      <td>2019-06-06 03:52:18</td>\n",
       "      <td>2</td>\n",
       "      <td>56</td>\n",
       "      <td>[data-science-model]</td>\n",
       "      <td>1</td>\n",
       "      <td>0</td>\n",
       "    </tr>\n",
       "    <tr>\n",
       "      <th>8729</th>\n",
       "      <td>55472</td>\n",
       "      <td>2019-07-11 00:57:44</td>\n",
       "      <td>1</td>\n",
       "      <td>54</td>\n",
       "      <td>[machine-learning, deep-learning, time-series]</td>\n",
       "      <td>0</td>\n",
       "      <td>0</td>\n",
       "    </tr>\n",
       "    <tr>\n",
       "      <th>3989</th>\n",
       "      <td>61172</td>\n",
       "      <td>2019-10-03 06:07:17</td>\n",
       "      <td>0</td>\n",
       "      <td>13</td>\n",
       "      <td>[normalization, gan, regularization, math, mat...</td>\n",
       "      <td>0</td>\n",
       "      <td>0</td>\n",
       "    </tr>\n",
       "    <tr>\n",
       "      <th>7788</th>\n",
       "      <td>54492</td>\n",
       "      <td>2019-06-25 20:43:10</td>\n",
       "      <td>0</td>\n",
       "      <td>28</td>\n",
       "      <td>[machine-learning, python, scikit-learn, data-...</td>\n",
       "      <td>2</td>\n",
       "      <td>0</td>\n",
       "    </tr>\n",
       "  </tbody>\n",
       "</table>\n",
       "</div>"
      ],
      "text/plain": [
       "         Id        CreationDate  Score  ViewCount  \\\n",
       "7083  53966 2019-06-17 17:46:19      0        199   \n",
       "6498  53296 2019-06-06 03:52:18      2         56   \n",
       "8729  55472 2019-07-11 00:57:44      1         54   \n",
       "3989  61172 2019-10-03 06:07:17      0         13   \n",
       "7788  54492 2019-06-25 20:43:10      0         28   \n",
       "\n",
       "                                                   Tags  AnswerCount  \\\n",
       "7083         [machine-learning, python, classification]            0   \n",
       "6498                               [data-science-model]            1   \n",
       "8729     [machine-learning, deep-learning, time-series]            0   \n",
       "3989  [normalization, gan, regularization, math, mat...            0   \n",
       "7788  [machine-learning, python, scikit-learn, data-...            2   \n",
       "\n",
       "      FavoriteCount  \n",
       "7083              0  \n",
       "6498              0  \n",
       "8729              0  \n",
       "3989              0  \n",
       "7788              0  "
      ]
     },
     "execution_count": 6,
     "metadata": {},
     "output_type": "execute_result"
    }
   ],
   "source": [
    "questions[\"Tags\"] = questions[\"Tags\"].str.replace(\"^<|>$\", \"\").str.split(\"><\")\n",
    "questions.sample(5)"
   ]
  },
  {
   "cell_type": "markdown",
   "metadata": {},
   "source": [
    "## Most Used and Most Viewed\n",
    "\n",
    "We are interested in the number of times a particular tag is used and viewed in the 2019 questions database.\n",
    "\n",
    "Let's start with counting the number of times a tag is used in a question:"
   ]
  },
  {
   "cell_type": "code",
   "execution_count": 7,
   "metadata": {},
   "outputs": [],
   "source": [
    "tag_count = dict()\n",
    "\n",
    "for tags in questions[\"Tags\"]:\n",
    "    for tag in tags:\n",
    "        if tag in tag_count:\n",
    "            tag_count[tag] += 1\n",
    "        else:\n",
    "            tag_count[tag] = 1"
   ]
  },
  {
   "cell_type": "markdown",
   "metadata": {},
   "source": [
    "To improve the asthetics of our tag count dictionary, we'll convert it to a data frame and change the column name.  We'll print out the first few rows of our new dataset to verify the format of the data frame."
   ]
  },
  {
   "cell_type": "code",
   "execution_count": 8,
   "metadata": {},
   "outputs": [
    {
     "data": {
      "text/html": [
       "<div>\n",
       "<style scoped>\n",
       "    .dataframe tbody tr th:only-of-type {\n",
       "        vertical-align: middle;\n",
       "    }\n",
       "\n",
       "    .dataframe tbody tr th {\n",
       "        vertical-align: top;\n",
       "    }\n",
       "\n",
       "    .dataframe thead th {\n",
       "        text-align: right;\n",
       "    }\n",
       "</style>\n",
       "<table border=\"1\" class=\"dataframe\">\n",
       "  <thead>\n",
       "    <tr style=\"text-align: right;\">\n",
       "      <th></th>\n",
       "      <th>Count</th>\n",
       "    </tr>\n",
       "  </thead>\n",
       "  <tbody>\n",
       "    <tr>\n",
       "      <th>machine-learning</th>\n",
       "      <td>2693</td>\n",
       "    </tr>\n",
       "    <tr>\n",
       "      <th>data-mining</th>\n",
       "      <td>217</td>\n",
       "    </tr>\n",
       "    <tr>\n",
       "      <th>regression</th>\n",
       "      <td>347</td>\n",
       "    </tr>\n",
       "    <tr>\n",
       "      <th>linear-regression</th>\n",
       "      <td>175</td>\n",
       "    </tr>\n",
       "    <tr>\n",
       "      <th>regularization</th>\n",
       "      <td>50</td>\n",
       "    </tr>\n",
       "    <tr>\n",
       "      <th>python</th>\n",
       "      <td>1814</td>\n",
       "    </tr>\n",
       "    <tr>\n",
       "      <th>time-series</th>\n",
       "      <td>466</td>\n",
       "    </tr>\n",
       "    <tr>\n",
       "      <th>forecast</th>\n",
       "      <td>34</td>\n",
       "    </tr>\n",
       "    <tr>\n",
       "      <th>forecasting</th>\n",
       "      <td>85</td>\n",
       "    </tr>\n",
       "    <tr>\n",
       "      <th>scikit-learn</th>\n",
       "      <td>540</td>\n",
       "    </tr>\n",
       "  </tbody>\n",
       "</table>\n",
       "</div>"
      ],
      "text/plain": [
       "                   Count\n",
       "machine-learning    2693\n",
       "data-mining          217\n",
       "regression           347\n",
       "linear-regression    175\n",
       "regularization        50\n",
       "python              1814\n",
       "time-series          466\n",
       "forecast              34\n",
       "forecasting           85\n",
       "scikit-learn         540"
      ]
     },
     "execution_count": 8,
     "metadata": {},
     "output_type": "execute_result"
    }
   ],
   "source": [
    "tag_count = pd.DataFrame.from_dict(tag_count, orient=\"index\")\n",
    "tag_count.rename(columns={0: \"Count\"}, inplace=True)\n",
    "tag_count.head(10)"
   ]
  },
  {
   "cell_type": "markdown",
   "metadata": {},
   "source": [
    "Now, we'll grab the top 20 tags used.  We'll sort the data set and grab the top 20."
   ]
  },
  {
   "cell_type": "code",
   "execution_count": 9,
   "metadata": {},
   "outputs": [
    {
     "name": "stdout",
     "output_type": "stream",
     "text": [
      "                        Count\n",
      "machine-learning-model    224\n",
      "statistics                234\n",
      "clustering                257\n",
      "predictive-modeling       265\n",
      "r                         268\n",
      "dataset                   340\n",
      "regression                347\n",
      "pandas                    354\n",
      "lstm                      402\n",
      "time-series               466\n",
      "cnn                       489\n",
      "nlp                       493\n",
      "scikit-learn              540\n",
      "tensorflow                584\n",
      "classification            685\n",
      "keras                     935\n",
      "neural-network           1055\n",
      "deep-learning            1220\n",
      "python                   1814\n",
      "machine-learning         2693\n"
     ]
    }
   ],
   "source": [
    "top_tags_used = tag_count.sort_values(by=\"Count\").tail(20)\n",
    "print(top_tags_used)"
   ]
  },
  {
   "cell_type": "markdown",
   "metadata": {},
   "source": [
    "Now, let's visualize the top tags used:"
   ]
  },
  {
   "cell_type": "code",
   "execution_count": 10,
   "metadata": {},
   "outputs": [
    {
     "data": {
      "text/plain": [
       "<matplotlib.axes._subplots.AxesSubplot at 0x7f891fcf58e0>"
      ]
     },
     "execution_count": 10,
     "metadata": {},
     "output_type": "execute_result"
    },
    {
     "data": {
      "image/png": "[encoded data removed]",
      "text/plain": [
       "<Figure size 1152x576 with 1 Axes>"
      ]
     },
     "metadata": {
      "needs_background": "light"
     },
     "output_type": "display_data"
    }
   ],
   "source": [
    "top_tags_used.plot(kind=\"barh\", figsize=(16,8))"
   ]
  },
  {
   "cell_type": "markdown",
   "metadata": {},
   "source": [
    "It appears as some tags include some broad subjects.  These subjects such as python and r may include some of the other tags such as machine learning within them.\n",
    "\n",
    "Let's count the number of times a particular tag has been viewed:"
   ]
  },
  {
   "cell_type": "code",
   "execution_count": 11,
   "metadata": {},
   "outputs": [],
   "source": [
    "tag_views = dict()\n",
    "\n",
    "for i, tags in enumerate(questions[\"Tags\"]):\n",
    "    for tag in tags:\n",
    "        if tag in tag_views:\n",
    "            tag_views[tag] += questions[\"ViewCount\"].iloc[i]\n",
    "        else:\n",
    "            tag_views[tag] = 1"
   ]
  },
  {
   "cell_type": "markdown",
   "metadata": {},
   "source": [
    "The enumerate function grabs the numerical index as well as a tag as a tuple.  We can use this value to get the tag and index, so we can get the ViewCount for each tag used in different questions.\n",
    "\n",
    "Convert tag_views into a data frame and sort by top 20 as we did with the tag_count:"
   ]
  },
  {
   "cell_type": "code",
   "execution_count": 12,
   "metadata": {},
   "outputs": [],
   "source": [
    "tag_views = pd.DataFrame.from_dict(tag_views, orient=\"Index\")\n",
    "tag_views.rename(columns={0: \"Views\"}, inplace=True)\n",
    "top_tag_views = tag_views.sort_values(by=\"Views\").tail(20)"
   ]
  },
  {
   "cell_type": "markdown",
   "metadata": {},
   "source": [
    "Let's visualize the top tags viewed:"
   ]
  },
  {
   "cell_type": "code",
   "execution_count": 13,
   "metadata": {},
   "outputs": [
    {
     "data": {
      "text/plain": [
       "<matplotlib.axes._subplots.AxesSubplot at 0x7f891f8f6df0>"
      ]
     },
     "execution_count": 13,
     "metadata": {},
     "output_type": "execute_result"
    },
    {
     "data": {
      "image/png": "[encoded data removed]",
      "text/plain": [
       "<Figure size 1152x576 with 1 Axes>"
      ]
     },
     "metadata": {
      "needs_background": "light"
     },
     "output_type": "display_data"
    }
   ],
   "source": [
    "top_tag_views.plot(kind=\"barh\", figsize=(16,8))"
   ]
  },
  {
   "cell_type": "markdown",
   "metadata": {},
   "source": [
    "## Relationships Between Tags\n",
    "\n"
   ]
  },
  {
   "cell_type": "code",
   "execution_count": null,
   "metadata": {},
   "outputs": [],
   "source": []
  },
  {
   "cell_type": "code",
   "execution_count": null,
   "metadata": {},
   "outputs": [],
   "source": []
  },
  {
   "cell_type": "code",
   "execution_count": null,
   "metadata": {},
   "outputs": [],
   "source": []
  },
  {
   "cell_type": "code",
   "execution_count": null,
   "metadata": {},
   "outputs": [],
   "source": []
  },
  {
   "cell_type": "code",
   "execution_count": null,
   "metadata": {},
   "outputs": [],
   "source": []
  },
  {
   "cell_type": "code",
   "execution_count": null,
   "metadata": {},
   "outputs": [],
   "source": []
  },
  {
   "cell_type": "code",
   "execution_count": null,
   "metadata": {},
   "outputs": [],
   "source": []
  },
  {
   "cell_type": "code",
   "execution_count": null,
   "metadata": {},
   "outputs": [],
   "source": []
  },
  {
   "cell_type": "code",
   "execution_count": null,
   "metadata": {},
   "outputs": [],
   "source": []
  }
 ],
 "metadata": {
  "kernelspec": {
   "display_name": "Python 3",
   "language": "python",
   "name": "python3"
  },
  "language_info": {
   "codemirror_mode": {
    "name": "ipython",
    "version": 3
   },
   "file_extension": ".py",
   "mimetype": "text/x-python",
   "name": "python",
   "nbconvert_exporter": "python",
   "pygments_lexer": "ipython3",
   "version": "3.8.2"
  }
 },
 "nbformat": 4,
 "nbformat_minor": 4
}
