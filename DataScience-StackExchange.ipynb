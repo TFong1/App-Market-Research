{
 "cells": [
  {
   "cell_type": "markdown",
   "metadata": {},
   "source": [
    "# Popular Data Science Questions\n",
    "\n",
    "The ACME Corporation is looking for new content regarding our recent decision to create books, on-line articles, or videos in the field of data science.  This analysis will help us determine what is the best content to get started with.  We have determined to analyze the most popular questions on the question and answer on-line forum known as Stack Exhchange.\n",
    "\n",
    "## Stack Exchange\n",
    "\n",
    "Stack Exchange is a web site where users can ask and answer questions from other users of the site.  The site is organized various topics, such as Data Science.\n",
    "\n",
    "The site allows users to rate the quality of the questions asked.  The higher rated questions appear near the top of the list of questions to highlight quality questions.  Users can also rate the answers and the highest rated answer is highlighted after the question.\n",
    "\n",
    "The [Data Science](https://datascience.stackexchange.com) Stack Exchange web site allows questions and answers for Data Science professionals, Machine Learning specialists, and individuals who wish to learn more about data science.\n",
    "\n",
    "### What kinds of questions are accepted?\n",
    "\n",
    "According to the Data Science Stack Exchange help center's [asking questions FAQ](https://datascience.stackexchange.com/help/asking), the following guidelines should be followed:\n",
    "* Avoid asking subjective questions\n",
    "* Avoid asking duplicate questions (duplicate questions are flagged accordingly)\n",
    "* Ask only relavant and appropriate questions in regards to data science\n",
    "    * For instance, asking questions regarding programming without reference to data is should be asked in the [Stack Overflow](https://stackoverflow.com) forum instead of stack exchange.\n",
    "* Ask specific questions\n",
    "* Make questions relavant to others\n",
    "\n",
    "All of these characteristics should be helpful in our analysis.\n",
    "\n",
    "The help center's page also refers several sites that may be of relevance to our analysis:\n",
    "* [Open Data](https://opendata.stackexchange.com/) for dataset requests\n",
    "* [Computational Science](https://scicomp.stackexchange.com/) for software packages and algorithms in applied mathematics\n",
    "\n",
    "### How are questions subdivided?\n",
    "\n",
    "On the [home](https://datascience.stackexchange.com/) page, there are four sections:\n",
    "* [Questions](https://datascience.stackexchange.com/questions) - list of all questions asked\n",
    "* [Tags](https://datascience.stackexchange.com/tags) - list of tags (keywords or labels that categorize questions). Users can also assign \"Tags\" to each question to make it easier to search for and organize questions by topic.\n",
    "* [Users](https://datascience.stackexchange.com/users) - list of registered users on Stack Exchange\n",
    "* [Unanswered](https://datascience.stackexchange.com/unanswered) - list of unanswered questions\n",
    "\n",
    "The tagging system used by Stack Exchange could be helpful in our analysis as it will allow us to quantify how many questions were asked about a particular subject.\n",
    "\n",
    "The questions in the Stack Exhange's sites are heavily moderated by the community, which will give us confidence in the validity of the tagging system and provide us with accurate conclusions.\n",
    "\n",
    "### What information is available in each post?\n",
    "\n",
    "For both questions and answers:\n",
    "* Rating or score (as a numerical value; higher the number, higher the rating)\n",
    "* Title\n",
    "* Author\n",
    "* Body of post\n",
    "\n",
    "For questions only:\n",
    "* Last time the question was active\n",
    "* How many times the question was viewed\n",
    "* Related questions\n",
    "* Tags associated with the question"
   ]
  },
  {
   "cell_type": "markdown",
   "metadata": {
    "jupyter": {
     "outputs_hidden": true
    }
   },
   "source": [
    "## Stack Exchange Data Explorer\n",
    "\n",
    "Stack exchange provides a public interface to query data for any of Stack Exchange's web sites.  [This](https://data.stackexchange.com/datascience/query/new) link provides a means to query and explore Stack Exchange's Data Science database.\n",
    "\n",
    "Using the Stack Exchange Data Explorer, there are a few tables that may be relevant to our analysis:\n",
    "* Posts - containing details of the actual post\n",
    "* PostTags - associate tags with a particular post\n",
    "* Tags - contains the number of times a tag is used for a particular post\n",
    "* TagSynonyms - contains the different variations of a particular tag"
   ]
  },
  {
   "cell_type": "markdown",
   "metadata": {
    "jupyter": {
     "outputs_hidden": true
    }
   },
   "source": [
    "## Getting the Data\n",
    "\n",
    "Below are some definitions of the fields in the Posts table that are relevant to our analysis:\n",
    "\n",
    "* Id : identifier for the post\n",
    "* PostTypeId : identifier for the type of post\n",
    "* CreationDate : date and time the post was created\n",
    "* Score : post's score\n",
    "* ViewCount : number of times the post was viewed\n",
    "* Tags : tags used to describe the content of the post\n",
    "* AnswerCount : number of answers associated with the question post\n",
    "* FavoriteCount : number of times the question post was favored\n",
    "\n",
    "We are only interested in recent posts made in 2019 as to analyze current trends in data science questions.  Let's retrieve a sample of the data based on the CreationData year = 2019 and PostTypeId = 1 (1 refers to question type):\n",
    "\n",
    "```sql\n",
    "SELECT Id, CreationDate, Score, ViewCount, Tags, AnswerCount, FavoriteCount\n",
    "FROM posts\n",
    "WHERE PostTypeId = 1 AND YEAR(CreationDate) = 2019;\n",
    "```\n",
    "\n",
    "Below is a sample of the data returned:\n",
    "\n",
    "| Id | CreationDate | Score | ViewCount | Tags | AnswerCount | FavoriteCount |\n",
    "|:--:|:------------:|:-----:|----------:|------|:-----------:|:-------------:|\n",
    "| 53985 | 2019-06-18 05:07:54 | 1 | 40 | logistic-regressionorangeorange3 | 0 | 0 |\n",
    "| 53987 | 2019-06-18 06:37:06 | 0 | 13 | neural-networknatural-language-processngrams | 0 | |\n",
    "| 53989 | 2019-06-18 06:53:20 | 0 | 26 | machine-learningsvmactive-learning | 0 | 1 |\n",
    "| 53990 | 2019-06-18 06:57:15 | 0 | 25 | machine-learningfeature-selectiondata-cleaningcorrelation | 0 | |\n",
    "| 53991 | 2019-06-18 06:59:37 | 1 | 138 | clustering | 1 | |\n",
    "\n"
   ]
  },
  {
   "cell_type": "markdown",
   "metadata": {
    "jupyter": {
     "outputs_hidden": true
    }
   },
   "source": [
    "## Exploring the Data\n",
    "\n",
    "For the purposes of this analysis, we have exported the above query into the file \"2019_questions.csv\".\n",
    "\n",
    "Let's load this data into a dataframe so we can manipulate and visualize the data in Python:"
   ]
  },
  {
   "cell_type": "code",
   "execution_count": 1,
   "metadata": {},
   "outputs": [],
   "source": [
    "# Let's import the Python libraries we will use:\n",
    "\n",
    "import pandas as pd\n",
    "import matplotlib.pyplot as plt\n",
    "import seaborn as sns\n",
    "\n",
    "%matplotlib inline"
   ]
  },
  {
   "cell_type": "code",
   "execution_count": 2,
   "metadata": {},
   "outputs": [],
   "source": [
    "questions = pd.read_csv(\"2019_questions.csv\", parse_dates=[\"CreationDate\"])"
   ]
  },
  {
   "cell_type": "markdown",
   "metadata": {
    "jupyter": {
     "outputs_hidden": true
    }
   },
   "source": [
    "Let's run [questions.info()](https://pandas.pydata.org/pandas-docs/stable/reference/api/pandas.DataFrame.info.html) and see if it provides any quick insight into the data:"
   ]
  },
  {
   "cell_type": "code",
   "execution_count": 3,
   "metadata": {},
   "outputs": [
    {
     "name": "stdout",
     "output_type": "stream",
     "text": [
      "<class 'pandas.core.frame.DataFrame'>\n",
      "RangeIndex: 8839 entries, 0 to 8838\n",
      "Data columns (total 7 columns):\n",
      " #   Column         Non-Null Count  Dtype         \n",
      "---  ------         --------------  -----         \n",
      " 0   Id             8839 non-null   int64         \n",
      " 1   CreationDate   8839 non-null   datetime64[ns]\n",
      " 2   Score          8839 non-null   int64         \n",
      " 3   ViewCount      8839 non-null   int64         \n",
      " 4   Tags           8839 non-null   object        \n",
      " 5   AnswerCount    8839 non-null   int64         \n",
      " 6   FavoriteCount  1407 non-null   float64       \n",
      "dtypes: datetime64[ns](1), float64(1), int64(4), object(1)\n",
      "memory usage: 483.5+ KB\n"
     ]
    }
   ],
   "source": [
    "questions.info()"
   ]
  },
  {
   "cell_type": "markdown",
   "metadata": {
    "jupyter": {
     "outputs_hidden": true
    }
   },
   "source": [
    "It looks like only 1407 values are filled in FavoriteCount out of a possible 8839.  It's probably safe to assume that a null value in this fields can count as zero.  The type stored in FavoriteCount is a float.  Again, it's probably safe to assume that the number of favorites probably only have integer values, so we'll change the data type from float to integer.\n",
    "\n",
    "The data type for Tags shows up as an \"object.\"  Let's investigate further as to what data type the Tags field actually is:"
   ]
  },
  {
   "cell_type": "code",
   "execution_count": 4,
   "metadata": {},
   "outputs": [
    {
     "data": {
      "text/plain": [
       "array([<class 'str'>], dtype=object)"
      ]
     },
     "execution_count": 4,
     "metadata": {},
     "output_type": "execute_result"
    }
   ],
   "source": [
    "questions[\"Tags\"].apply(lambda x: type(x)).unique()"
   ]
  },
  {
   "cell_type": "markdown",
   "metadata": {},
   "source": [
    "The tags column is a string.  On Stack Exchange, each question can only have maximum of five tags ([source](https://meta.stackexchange.com/a/18879)).  It would be too much trouble to create an individual field for 5 tags, so we'll create a comma separated list for the Tag field."
   ]
  },
  {
   "cell_type": "markdown",
   "metadata": {},
   "source": [
    "## Cleaning the Data\n",
    "\n",
    "Let's first begin by filling in the missing values in the FavoriteCount field and convert it into an integer:"
   ]
  },
  {
   "cell_type": "code",
   "execution_count": 6,
   "metadata": {},
   "outputs": [
    {
     "name": "stdout",
     "output_type": "stream",
     "text": [
      "<class 'pandas.core.frame.DataFrame'>\n",
      "RangeIndex: 8839 entries, 0 to 8838\n",
      "Data columns (total 7 columns):\n",
      " #   Column         Non-Null Count  Dtype         \n",
      "---  ------         --------------  -----         \n",
      " 0   Id             8839 non-null   int64         \n",
      " 1   CreationDate   8839 non-null   datetime64[ns]\n",
      " 2   Score          8839 non-null   int64         \n",
      " 3   ViewCount      8839 non-null   int64         \n",
      " 4   Tags           8839 non-null   object        \n",
      " 5   AnswerCount    8839 non-null   int64         \n",
      " 6   FavoriteCount  8839 non-null   int64         \n",
      "dtypes: datetime64[ns](1), int64(5), object(1)\n",
      "memory usage: 483.5+ KB\n"
     ]
    }
   ],
   "source": [
    "questions.fillna(value={\"FavoriteCount\" : 0}, inplace=True)\n",
    "questions[\"FavoriteCount\"] = questions[\"FavoriteCount\"].astype(int)\n",
    "questions.info()"
   ]
  },
  {
   "cell_type": "markdown",
   "metadata": {},
   "source": [
    "Now, let's modify the Tags field to make them easier to work with.  Each tag in the Tags field is enclosed in angle brackets with no spacing inbetween tags.  We'll just remove the brackets and save the resulting tags as a Python list object."
   ]
  },
  {
   "cell_type": "code",
   "execution_count": 7,
   "metadata": {},
   "outputs": [
    {
     "data": {
      "text/html": [
       "<div>\n",
       "<style scoped>\n",
       "    .dataframe tbody tr th:only-of-type {\n",
       "        vertical-align: middle;\n",
       "    }\n",
       "\n",
       "    .dataframe tbody tr th {\n",
       "        vertical-align: top;\n",
       "    }\n",
       "\n",
       "    .dataframe thead th {\n",
       "        text-align: right;\n",
       "    }\n",
       "</style>\n",
       "<table border=\"1\" class=\"dataframe\">\n",
       "  <thead>\n",
       "    <tr style=\"text-align: right;\">\n",
       "      <th></th>\n",
       "      <th>Id</th>\n",
       "      <th>CreationDate</th>\n",
       "      <th>Score</th>\n",
       "      <th>ViewCount</th>\n",
       "      <th>Tags</th>\n",
       "      <th>AnswerCount</th>\n",
       "      <th>FavoriteCount</th>\n",
       "    </tr>\n",
       "  </thead>\n",
       "  <tbody>\n",
       "    <tr>\n",
       "      <th>1649</th>\n",
       "      <td>57443</td>\n",
       "      <td>2019-08-12 16:30:25</td>\n",
       "      <td>2</td>\n",
       "      <td>149</td>\n",
       "      <td>[machine-learning, python, feature-selection, ...</td>\n",
       "      <td>1</td>\n",
       "      <td>0</td>\n",
       "    </tr>\n",
       "    <tr>\n",
       "      <th>5751</th>\n",
       "      <td>63303</td>\n",
       "      <td>2019-11-17 19:17:10</td>\n",
       "      <td>0</td>\n",
       "      <td>24</td>\n",
       "      <td>[scikit-learn, tensorflow, pytorch, apache-spark]</td>\n",
       "      <td>0</td>\n",
       "      <td>0</td>\n",
       "    </tr>\n",
       "    <tr>\n",
       "      <th>993</th>\n",
       "      <td>45553</td>\n",
       "      <td>2019-02-14 03:24:29</td>\n",
       "      <td>1</td>\n",
       "      <td>300</td>\n",
       "      <td>[xgboost, ranking, ndcg]</td>\n",
       "      <td>0</td>\n",
       "      <td>0</td>\n",
       "    </tr>\n",
       "    <tr>\n",
       "      <th>2648</th>\n",
       "      <td>47242</td>\n",
       "      <td>2019-03-13 15:37:47</td>\n",
       "      <td>1</td>\n",
       "      <td>39</td>\n",
       "      <td>[r]</td>\n",
       "      <td>1</td>\n",
       "      <td>0</td>\n",
       "    </tr>\n",
       "    <tr>\n",
       "      <th>8110</th>\n",
       "      <td>54680</td>\n",
       "      <td>2019-06-28 10:04:05</td>\n",
       "      <td>0</td>\n",
       "      <td>35</td>\n",
       "      <td>[machine-learning, neural-network, deep-learni...</td>\n",
       "      <td>0</td>\n",
       "      <td>0</td>\n",
       "    </tr>\n",
       "  </tbody>\n",
       "</table>\n",
       "</div>"
      ],
      "text/plain": [
       "         Id        CreationDate  Score  ViewCount  \\\n",
       "1649  57443 2019-08-12 16:30:25      2        149   \n",
       "5751  63303 2019-11-17 19:17:10      0         24   \n",
       "993   45553 2019-02-14 03:24:29      1        300   \n",
       "2648  47242 2019-03-13 15:37:47      1         39   \n",
       "8110  54680 2019-06-28 10:04:05      0         35   \n",
       "\n",
       "                                                   Tags  AnswerCount  \\\n",
       "1649  [machine-learning, python, feature-selection, ...            1   \n",
       "5751  [scikit-learn, tensorflow, pytorch, apache-spark]            0   \n",
       "993                            [xgboost, ranking, ndcg]            0   \n",
       "2648                                                [r]            1   \n",
       "8110  [machine-learning, neural-network, deep-learni...            0   \n",
       "\n",
       "      FavoriteCount  \n",
       "1649              0  \n",
       "5751              0  \n",
       "993               0  \n",
       "2648              0  \n",
       "8110              0  "
      ]
     },
     "execution_count": 7,
     "metadata": {},
     "output_type": "execute_result"
    }
   ],
   "source": [
    "questions[\"Tags\"] = questions[\"Tags\"].str.replace(\"^<|>$\", \"\").str.split(\"><\")\n",
    "questions.sample(5)"
   ]
  },
  {
   "cell_type": "markdown",
   "metadata": {},
   "source": [
    "## Most Used and Most Viewed\n",
    "\n"
   ]
  },
  {
   "cell_type": "code",
   "execution_count": null,
   "metadata": {},
   "outputs": [],
   "source": []
  },
  {
   "cell_type": "code",
   "execution_count": null,
   "metadata": {},
   "outputs": [],
   "source": []
  },
  {
   "cell_type": "code",
   "execution_count": null,
   "metadata": {},
   "outputs": [],
   "source": []
  },
  {
   "cell_type": "code",
   "execution_count": null,
   "metadata": {},
   "outputs": [],
   "source": []
  },
  {
   "cell_type": "code",
   "execution_count": null,
   "metadata": {},
   "outputs": [],
   "source": []
  },
  {
   "cell_type": "code",
   "execution_count": null,
   "metadata": {},
   "outputs": [],
   "source": []
  },
  {
   "cell_type": "code",
   "execution_count": null,
   "metadata": {},
   "outputs": [],
   "source": []
  }
 ],
 "metadata": {
  "kernelspec": {
   "display_name": "Python 3",
   "language": "python",
   "name": "python3"
  },
  "language_info": {
   "codemirror_mode": {
    "name": "ipython",
    "version": 3
   },
   "file_extension": ".py",
   "mimetype": "text/x-python",
   "name": "python",
   "nbconvert_exporter": "python",
   "pygments_lexer": "ipython3",
   "version": "3.8.2"
  }
 },
 "nbformat": 4,
 "nbformat_minor": 4
}
